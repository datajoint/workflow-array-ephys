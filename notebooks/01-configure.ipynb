{
 "cells": [
  {
   "cell_type": "markdown",
   "id": "15bdef0d-bd52-49e6-87a0-d569006149a0",
   "metadata": {
    "tags": []
   },
   "source": [
    "# DataJoint configuration\n",
    "\n",
    "## Setup - Working Directory\n",
    "\n",
    "To run the array ephys workflow, we need to properly set up the DataJoint configuration. The configuration can be saved in a local directory as `dj_local_conf.json` or at your root directory as a hidden file. This notebook walks you through the setup process.\n",
    "\n",
    "**The configuration only needs to be set up once**, if you have gone through the configuration before, directly go to [02-workflow-structure](02-workflow-structure-optional.ipynb)."
   ]
  },
  {
   "cell_type": "code",
   "execution_count": 1,
   "id": "dc2dc935",
   "metadata": {},
   "outputs": [],
   "source": [
    "import os\n",
    "if os.path.basename(os.getcwd()) == \"notebooks\": os.chdir(\"..\")\n",
    "import datajoint as dj"
   ]
  },
  {
   "cell_type": "markdown",
   "metadata": {},
   "source": [
    "## Setup - Credentials\n",
    "\n",
    "Now let's set up the host, user and password in the `dj.config` global variable"
   ]
  },
  {
   "cell_type": "code",
   "execution_count": 3,
   "metadata": {},
   "outputs": [],
   "source": [
    "import getpass\n",
    "# dj.config[\"database.host\"] = \"{YOUR_HOST}\" # CodeBook users should omit this\n",
    "dj.config[\"database.user\"] = \"jaerongahn\"\n",
    "dj.config[\"database.password\"] = getpass.getpass()  # enter the password securily"
   ]
  },
  {
   "cell_type": "markdown",
   "metadata": {},
   "source": [
    "You should be able to connect to the database at this stage."
   ]
  },
  {
   "cell_type": "code",
   "execution_count": 4,
   "metadata": {},
   "outputs": [
    {
     "name": "stderr",
     "output_type": "stream",
     "text": [
      "[2022-09-27 00:48:49,290][INFO]: Connecting jaerongahn@tutorial-db.datajoint.io:3306\n",
      "[2022-09-27 00:48:49,713][INFO]: Connected jaerongahn@tutorial-db.datajoint.io:3306\n"
     ]
    },
    {
     "data": {
      "text/plain": [
       "DataJoint connection (connected) jaerongahn@tutorial-db.datajoint.io:3306"
      ]
     },
     "execution_count": 4,
     "metadata": {},
     "output_type": "execute_result"
    }
   ],
   "source": [
    "dj.conn()"
   ]
  },
  {
   "cell_type": "markdown",
   "metadata": {},
   "source": [
    "## Setup - `dj.config['custom']`\n",
    "\n",
    "The major component of the current workflow is the [DataJoint Array Ephys Element](https://github.com/datajoint/element-array-ephys). Array Ephys Element requires configurations in the field `custom` in `dj.config`:"
   ]
  },
  {
   "cell_type": "markdown",
   "metadata": {},
   "source": [
    "### Database prefix\n",
    "\n",
    "Giving a prefix to schema could help on the configuration of privilege settings. For example, if we set prefix `neuro_`, every schema created with the current workflow will start with `neuro_`, e.g. `neuro_lab`, `neuro_subject`, `neuro_ephys` etc.\n",
    "\n",
    "The prefix could be configurated in `dj.config` as follows. CodeBook users should keep their username as the prefix for schema for declaration permissions."
   ]
  },
  {
   "cell_type": "code",
   "execution_count": 5,
   "metadata": {},
   "outputs": [],
   "source": [
    "username_as_prefix = dj.config[\"database.user\"] + \"_\"\n",
    "dj.config[\"custom\"] = {\"database.prefix\": username_as_prefix}"
   ]
  },
  {
   "cell_type": "markdown",
   "metadata": {},
   "source": [
    "### Root directories for raw/processed data\n",
    "\n",
    "`ephys_root_data_dir` field indicates the root directory for\n",
    "+ The **ephys raw data** from SpikeGLX or OpenEphys, including `*{.ap,lf}.{bin,meta}`\n",
    "+ The **clustering results** from kilosort2 (e.g. `spike_{times,clusters}.npy`\n",
    "\n",
    "The root path typically **do not** contain information of subjects or sessions, all data from subjects/sessions should be subdirectories in the root path.\n",
    "\n",
    "- In the example dataset downloaded with [these instructions](00-data-download-optional.ipynb), `/tmp/test_data` will be the root. \n",
    "- For CodeBook users, the root is `/home/inbox/0.1.0a4/`\n",
    "\n",
    "```\n",
    "- subject6\n",
    "    - session1\n",
    "        - towersTask_g0_imec0\n",
    "        - towersTask_g0_t0_nidq.meta\n",
    "        - towersTask_g0_t0.nidq.bin\n",
    "```"
   ]
  },
  {
   "cell_type": "code",
   "execution_count": 9,
   "metadata": {},
   "outputs": [],
   "source": [
    "# If there is only one root path.\n",
    "dj.config[\"custom\"][\"ephys_root_data_dir\"] = r\"C:\\Users\\jaero\\Desktop\\Data\\workflow-array-ephys\"\n",
    "# If there are multiple possible root paths:\n",
    "# dj.config[\"custom\"][\"ephys_root_data_dir\"] = [\n",
    "#     \"/tmp/test_data/workflow_ephys_data1/\",\n",
    "#     \"/tmp/test_data/workflow_ephys_data2/\",\n",
    "#     \"/tmp/test_data/workflow_localization/\", \n",
    "#     \"/home/inbox/0.1.0a4/workflow_ephys_data1/\",\n",
    "#     \"/home/inbox/0.1.0a4/workflow_ephys_data2/\",\n",
    "#     \"/home/inbox/0.1.0a4/workflow_localization/\"\n",
    "# ]"
   ]
  },
  {
   "cell_type": "code",
   "execution_count": null,
   "metadata": {},
   "outputs": [],
   "source": [
    "dj.config"
   ]
  },
  {
   "cell_type": "markdown",
   "id": "f7733450",
   "metadata": {},
   "source": [
    "+ In the database, every path for the ephys raw data is **relative to root path(s)** to allow for the absolute path to be configured for **each machine**. When transferring data, we just need to change the root directory in the config file.\n",
    "\n",
    "+ DataJoint Elements use `pathlib.Path()` to maintain path information in **POSIX standards** (Unix/Linux), with `/`. The path conversion for machines of any operating system is taken care of inside the elements."
   ]
  },
  {
   "cell_type": "markdown",
   "id": "26e5b2ff",
   "metadata": {},
   "source": [
    "### Ephys Mode\n",
    "\n",
    "`element-array-ephys` offers 3 different schemas: `acute`, `chronic`, and `no-curation`. For more information about each, please visit the [electrophysiology description page](https://elements.datajoint.org/description/array_ephys/). This decision should be made before first activating the schema. Note: only `no-curation` is supported for export to NWB directly from the Element."
   ]
  },
  {
   "cell_type": "code",
   "execution_count": 10,
   "id": "6d533d1c",
   "metadata": {},
   "outputs": [],
   "source": [
    "dj.config[\"custom\"][\"ephys_mode\"] = \"no-curation\"  # or acute or chronic"
   ]
  },
  {
   "cell_type": "markdown",
   "id": "940ea19a",
   "metadata": {},
   "source": [
    "## Save configuration\n",
    "\n",
    "With the proper configurations, we could save this as a file, either as a local json file, or a global file.\n",
    "\n",
    "Local configuration file is saved as `dj_local_conf.json` in current directory, which is great for project-specific settings.\n",
    "\n",
    "For first-time and CodeBook users, we recommend saving globally. This will create a hidden configuration file saved in your root directory, loaded whenever there is no local version to override it."
   ]
  },
  {
   "cell_type": "code",
   "execution_count": 11,
   "id": "dcc8b17b",
   "metadata": {},
   "outputs": [],
   "source": [
    "dj.config.save_local()\n",
    "# dj.config.save_global()"
   ]
  },
  {
   "cell_type": "markdown",
   "metadata": {},
   "source": [
    "## Next Step"
   ]
  },
  {
   "cell_type": "markdown",
   "metadata": {},
   "source": [
    "After the configuration, we will be able to review the workflow structure with [02-workflow-structure-optional](02-workflow-structure-optional.ipynb)."
   ]
  }
 ],
 "metadata": {
  "jupytext": {
   "formats": "ipynb,py_scripts//py"
  },
  "kernelspec": {
   "display_name": "Python 3.9.12 ('workflow-array-ephys')",
   "language": "python",
   "name": "python3"
  },
  "language_info": {
   "codemirror_mode": {
    "name": "ipython",
    "version": 3
   },
   "file_extension": ".py",
   "mimetype": "text/x-python",
   "name": "python",
   "nbconvert_exporter": "python",
   "pygments_lexer": "ipython3",
   "version": "3.9.12"
  },
  "vscode": {
   "interpreter": {
    "hash": "00d54a4458531bfb6ca712534f09ad07c72fb6be78615d021a13d81a36e2a4f1"
   }
  }
 },
 "nbformat": 4,
 "nbformat_minor": 4
}
