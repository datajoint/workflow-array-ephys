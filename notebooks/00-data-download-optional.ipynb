{
 "cells": [
  {
   "cell_type": "markdown",
   "metadata": {},
   "source": [
    "# Download example data\n",
    "\n",
    "This workflow will need Ephys data collected from either SpikeGLX or OpenEphys and the output from kilosort2. We provided an example dataset to be downloaded to run through the pipeline. This notebook walks you through the process to download the dataset.\n",
    "\n",
    "[CodeBook](codebook.datajoint.io) users can skip this step."
   ]
  },
  {
   "cell_type": "markdown",
   "metadata": {},
   "source": [
    "## Install djarchive-client"
   ]
  },
  {
   "cell_type": "code",
   "execution_count": null,
   "metadata": {},
   "outputs": [],
   "source": []
  },
  {
   "cell_type": "markdown",
   "metadata": {},
   "source": [
    "The example dataset was hosted on djarchive, an AWS storage. We provide a client package to download the data.[djarchive-client](https://github.com/datajoint/djarchive-client), which could be installed with pip:"
   ]
  },
  {
   "cell_type": "code",
   "execution_count": 1,
   "metadata": {},
   "outputs": [
    {
     "name": "stderr",
     "output_type": "stream",
     "text": [
      "<3>WSL (25926) ERROR: CreateProcessEntryCommon:512: chdir(/mnt/c/Users/jaero/Box/DJ/workflow-array-ephys/notebooks) failed 5\n"
     ]
    },
    {
     "name": "stdout",
     "output_type": "stream",
     "text": [
      "Defaulting to user installation because normal site-packages is not writeable\n",
      "Collecting git+https://github.com/datajoint/djarchive-client.git\n",
      "  Cloning https://github.com/datajoint/djarchive-client.git to /tmp/pip-req-build-j0bnavc2\n"
     ]
    },
    {
     "name": "stderr",
     "output_type": "stream",
     "text": [
      "  Running command git clone --filter=blob:none --quiet https://github.com/datajoint/djarchive-client.git /tmp/pip-req-build-j0bnavc2\n"
     ]
    },
    {
     "name": "stdout",
     "output_type": "stream",
     "text": [
      "  Resolved https://github.com/datajoint/djarchive-client.git to commit c1a5159f31a8f65b3645a04e3d93bfc56107699a\n",
      "  Preparing metadata (setup.py): started\n",
      "  Preparing metadata (setup.py): finished with status 'done'\n",
      "Requirement already satisfied: datajoint~=0.13 in /home/jaerong/.local/lib/python3.10/site-packages (from djarchive-client==0.0.1) (0.13.6)\n",
      "Requirement already satisfied: pydot in /home/jaerong/.local/lib/python3.10/site-packages (from datajoint~=0.13->djarchive-client==0.0.1) (1.4.2)\n",
      "Requirement already satisfied: tqdm in /home/jaerong/.local/lib/python3.10/site-packages (from datajoint~=0.13->djarchive-client==0.0.1) (4.64.0)\n",
      "Requirement already satisfied: matplotlib in /home/jaerong/.local/lib/python3.10/site-packages (from datajoint~=0.13->djarchive-client==0.0.1) (3.5.2)\n",
      "Requirement already satisfied: cryptography in /usr/lib/python3/dist-packages (from datajoint~=0.13->djarchive-client==0.0.1) (3.4.8)\n",
      "Collecting ipython\n",
      "  Using cached ipython-8.5.0-py3-none-any.whl (752 kB)\n",
      "Requirement already satisfied: numpy in /home/jaerong/.local/lib/python3.10/site-packages (from datajoint~=0.13->djarchive-client==0.0.1) (1.21.0)\n",
      "Requirement already satisfied: networkx in /home/jaerong/.local/lib/python3.10/site-packages (from datajoint~=0.13->djarchive-client==0.0.1) (2.8.4)\n",
      "Requirement already satisfied: minio>=7.0.0 in /home/jaerong/.local/lib/python3.10/site-packages (from datajoint~=0.13->djarchive-client==0.0.1) (7.1.9)\n",
      "Requirement already satisfied: otumat in /home/jaerong/.local/lib/python3.10/site-packages (from datajoint~=0.13->djarchive-client==0.0.1) (0.3.1)\n",
      "Requirement already satisfied: urllib3 in /usr/lib/python3/dist-packages (from datajoint~=0.13->djarchive-client==0.0.1) (1.26.5)\n",
      "Requirement already satisfied: pymysql>=0.7.2 in /home/jaerong/.local/lib/python3.10/site-packages (from datajoint~=0.13->djarchive-client==0.0.1) (1.0.2)\n",
      "Requirement already satisfied: pyparsing in /usr/lib/python3/dist-packages (from datajoint~=0.13->djarchive-client==0.0.1) (2.4.7)\n",
      "Requirement already satisfied: pandas in /home/jaerong/.local/lib/python3.10/site-packages (from datajoint~=0.13->djarchive-client==0.0.1) (1.4.3)\n",
      "Requirement already satisfied: certifi in /usr/lib/python3/dist-packages (from minio>=7.0.0->datajoint~=0.13->djarchive-client==0.0.1) (2020.6.20)\n",
      "Requirement already satisfied: pygments>=2.4.0 in /home/jaerong/.local/lib/python3.10/site-packages (from ipython->datajoint~=0.13->djarchive-client==0.0.1) (2.12.0)\n",
      "Requirement already satisfied: prompt-toolkit<3.1.0,>3.0.1 in /home/jaerong/.local/lib/python3.10/site-packages (from ipython->datajoint~=0.13->djarchive-client==0.0.1) (3.0.29)\n",
      "Requirement already satisfied: traitlets>=5 in /home/jaerong/.local/lib/python3.10/site-packages (from ipython->datajoint~=0.13->djarchive-client==0.0.1) (5.3.0)\n",
      "Requirement already satisfied: pexpect>4.3 in /usr/lib/python3/dist-packages (from ipython->datajoint~=0.13->djarchive-client==0.0.1) (4.8.0)\n",
      "Requirement already satisfied: jedi>=0.16 in /home/jaerong/.local/lib/python3.10/site-packages (from ipython->datajoint~=0.13->djarchive-client==0.0.1) (0.18.1)\n",
      "Requirement already satisfied: matplotlib-inline in /home/jaerong/.local/lib/python3.10/site-packages (from ipython->datajoint~=0.13->djarchive-client==0.0.1) (0.1.3)\n",
      "Requirement already satisfied: pickleshare in /home/jaerong/.local/lib/python3.10/site-packages (from ipython->datajoint~=0.13->djarchive-client==0.0.1) (0.7.5)\n",
      "Requirement already satisfied: stack-data in /home/jaerong/.local/lib/python3.10/site-packages (from ipython->datajoint~=0.13->djarchive-client==0.0.1) (0.3.0)\n",
      "Requirement already satisfied: backcall in /home/jaerong/.local/lib/python3.10/site-packages (from ipython->datajoint~=0.13->djarchive-client==0.0.1) (0.2.0)\n",
      "Requirement already satisfied: decorator in /home/jaerong/.local/lib/python3.10/site-packages (from ipython->datajoint~=0.13->djarchive-client==0.0.1) (5.1.1)\n",
      "Requirement already satisfied: cycler>=0.10 in /home/jaerong/.local/lib/python3.10/site-packages (from matplotlib->datajoint~=0.13->djarchive-client==0.0.1) (0.11.0)\n",
      "Requirement already satisfied: kiwisolver>=1.0.1 in /home/jaerong/.local/lib/python3.10/site-packages (from matplotlib->datajoint~=0.13->djarchive-client==0.0.1) (1.4.3)\n",
      "Requirement already satisfied: packaging>=20.0 in /home/jaerong/.local/lib/python3.10/site-packages (from matplotlib->datajoint~=0.13->djarchive-client==0.0.1) (21.3)\n",
      "Requirement already satisfied: fonttools>=4.22.0 in /home/jaerong/.local/lib/python3.10/site-packages (from matplotlib->datajoint~=0.13->djarchive-client==0.0.1) (4.33.3)\n",
      "Requirement already satisfied: python-dateutil>=2.7 in /home/jaerong/.local/lib/python3.10/site-packages (from matplotlib->datajoint~=0.13->djarchive-client==0.0.1) (2.8.2)\n",
      "Requirement already satisfied: pillow>=6.2.0 in /home/jaerong/.local/lib/python3.10/site-packages (from matplotlib->datajoint~=0.13->djarchive-client==0.0.1) (9.1.1)\n",
      "Requirement already satisfied: appdirs in /home/jaerong/.local/lib/python3.10/site-packages (from otumat->datajoint~=0.13->djarchive-client==0.0.1) (1.4.4)\n",
      "Requirement already satisfied: watchdog in /home/jaerong/.local/lib/python3.10/site-packages (from otumat->datajoint~=0.13->djarchive-client==0.0.1) (2.1.9)\n",
      "Requirement already satisfied: flask in /home/jaerong/.local/lib/python3.10/site-packages (from otumat->datajoint~=0.13->djarchive-client==0.0.1) (2.1.2)\n",
      "Requirement already satisfied: pytz>=2020.1 in /usr/lib/python3/dist-packages (from pandas->datajoint~=0.13->djarchive-client==0.0.1) (2022.1)\n",
      "Requirement already satisfied: parso<0.9.0,>=0.8.0 in /home/jaerong/.local/lib/python3.10/site-packages (from jedi>=0.16->ipython->datajoint~=0.13->djarchive-client==0.0.1) (0.8.3)\n",
      "Requirement already satisfied: wcwidth in /home/jaerong/.local/lib/python3.10/site-packages (from prompt-toolkit<3.1.0,>3.0.1->ipython->datajoint~=0.13->djarchive-client==0.0.1) (0.2.5)\n",
      "Requirement already satisfied: six>=1.5 in /usr/lib/python3/dist-packages (from python-dateutil>=2.7->matplotlib->datajoint~=0.13->djarchive-client==0.0.1) (1.16.0)\n",
      "Requirement already satisfied: Werkzeug>=2.0 in /home/jaerong/.local/lib/python3.10/site-packages (from flask->otumat->datajoint~=0.13->djarchive-client==0.0.1) (2.1.2)\n",
      "Requirement already satisfied: Jinja2>=3.0 in /usr/lib/python3/dist-packages (from flask->otumat->datajoint~=0.13->djarchive-client==0.0.1) (3.0.3)\n",
      "Requirement already satisfied: itsdangerous>=2.0 in /home/jaerong/.local/lib/python3.10/site-packages (from flask->otumat->datajoint~=0.13->djarchive-client==0.0.1) (2.1.2)\n",
      "Requirement already satisfied: click>=8.0 in /usr/lib/python3/dist-packages (from flask->otumat->datajoint~=0.13->djarchive-client==0.0.1) (8.0.3)\n",
      "Requirement already satisfied: pure-eval in /home/jaerong/.local/lib/python3.10/site-packages (from stack-data->ipython->datajoint~=0.13->djarchive-client==0.0.1) (0.2.2)\n",
      "Requirement already satisfied: asttokens in /home/jaerong/.local/lib/python3.10/site-packages (from stack-data->ipython->datajoint~=0.13->djarchive-client==0.0.1) (2.0.5)\n",
      "Requirement already satisfied: executing in /home/jaerong/.local/lib/python3.10/site-packages (from stack-data->ipython->datajoint~=0.13->djarchive-client==0.0.1) (0.8.3)\n",
      "Installing collected packages: ipython\n",
      "Successfully installed ipython-8.5.0\n"
     ]
    }
   ],
   "source": [
    "%%bash\n",
    "pip install git+https://github.com/datajoint/djarchive-client.git"
   ]
  },
  {
   "cell_type": "markdown",
   "metadata": {},
   "source": [
    "## Download ephys test datasets using `djarchive-client`"
   ]
  },
  {
   "cell_type": "code",
   "execution_count": 1,
   "id": "e55f4f77",
   "metadata": {},
   "outputs": [],
   "source": [
    "import os\n",
    "import djarchive_client"
   ]
  },
  {
   "cell_type": "code",
   "execution_count": 2,
   "metadata": {},
   "outputs": [],
   "source": [
    "client = djarchive_client.client()"
   ]
  },
  {
   "cell_type": "markdown",
   "metadata": {},
   "source": [
    "To browse the datasets that are available in djarchive:"
   ]
  },
  {
   "cell_type": "code",
   "execution_count": 10,
   "metadata": {},
   "outputs": [
    {
     "data": {
      "text/plain": [
       "['t',\n",
       " 'workflow-array-ephys-benchmark',\n",
       " 'workflow-calcium-imaging-test-set',\n",
       " 'workflow-dlc-data',\n",
       " 'workflow-facemap',\n",
       " 'workflow-trial']"
      ]
     },
     "execution_count": 10,
     "metadata": {},
     "output_type": "execute_result"
    }
   ],
   "source": [
    "list(client.datasets())"
   ]
  },
  {
   "cell_type": "markdown",
   "metadata": {},
   "source": [
    "Each of the datasets have different versions associated with the version of workflow package. To browse the revisions:"
   ]
  },
  {
   "cell_type": "code",
   "execution_count": 11,
   "metadata": {},
   "outputs": [
    {
     "data": {
      "text/plain": [
       "[('t', '1'),\n",
       " ('workflow-array-ephys-benchmark', '0.1.0a4'),\n",
       " ('workflow-array-ephys-benchmark', 'v1'),\n",
       " ('workflow-calcium-imaging-test-set', '0_1_0a2'),\n",
       " ('workflow-dlc-data', 'v1'),\n",
       " ('workflow-facemap', '0.0.0'),\n",
       " ('workflow-trial', '0.0.0b1')]"
      ]
     },
     "execution_count": 11,
     "metadata": {},
     "output_type": "execute_result"
    }
   ],
   "source": [
    "list(client.revisions())"
   ]
  },
  {
   "cell_type": "markdown",
   "metadata": {},
   "source": [
    "To download the dataset, let's prepare a root directory, for example in `/tmp`:"
   ]
  },
  {
   "cell_type": "code",
   "execution_count": 8,
   "metadata": {},
   "outputs": [
    {
     "ename": "FileExistsError",
     "evalue": "[WinError 183] Cannot create a file when that file already exists: 'C:\\\\Users\\\\jaero\\\\Desktop\\\\Data'",
     "output_type": "error",
     "traceback": [
      "\u001b[1;31m---------------------------------------------------------------------------\u001b[0m",
      "\u001b[1;31mFileExistsError\u001b[0m                           Traceback (most recent call last)",
      "\u001b[1;32mc:\\Users\\jaero\\Box\\DJ\\workflow-array-ephys\\notebooks\\00-data-download-optional.ipynb Cell 14\u001b[0m in \u001b[0;36m<cell line: 2>\u001b[1;34m()\u001b[0m\n\u001b[0;32m      <a href='vscode-notebook-cell:/c%3A/Users/jaero/Box/DJ/workflow-array-ephys/notebooks/00-data-download-optional.ipynb#X15sZmlsZQ%3D%3D?line=0'>1</a>\u001b[0m \u001b[39m# os.mkdir(\"tmp/test_data\")\u001b[39;00m\n\u001b[1;32m----> <a href='vscode-notebook-cell:/c%3A/Users/jaero/Box/DJ/workflow-array-ephys/notebooks/00-data-download-optional.ipynb#X15sZmlsZQ%3D%3D?line=1'>2</a>\u001b[0m os\u001b[39m.\u001b[39;49mmkdir(\u001b[39mr\u001b[39;49m\u001b[39m\"\u001b[39;49m\u001b[39mC:\u001b[39;49m\u001b[39m\\\u001b[39;49m\u001b[39mUsers\u001b[39;49m\u001b[39m\\\u001b[39;49m\u001b[39mjaero\u001b[39;49m\u001b[39m\\\u001b[39;49m\u001b[39mDesktop\u001b[39;49m\u001b[39m\\\u001b[39;49m\u001b[39mData\u001b[39;49m\u001b[39m\"\u001b[39;49m)\n",
      "\u001b[1;31mFileExistsError\u001b[0m: [WinError 183] Cannot create a file when that file already exists: 'C:\\\\Users\\\\jaero\\\\Desktop\\\\Data'"
     ]
    }
   ],
   "source": [
    "# os.mkdir(\"tmp/test_data\")\n",
    "os.mkdir(r\"C:\\Users\\jaero\\Desktop\\Data\")"
   ]
  },
  {
   "cell_type": "markdown",
   "metadata": {},
   "source": [
    "Then run download for a given set and the revision:"
   ]
  },
  {
   "cell_type": "code",
   "execution_count": 12,
   "metadata": {},
   "outputs": [
    {
     "name": "stderr",
     "output_type": "stream",
     "text": [
      "integrity issue. redownloading workflow-array-ephys-benchmark/v1/subject1/session1/1/imec_ww2_ks2/pc_features.npy\n"
     ]
    },
    {
     "ename": "KeyboardInterrupt",
     "evalue": "",
     "output_type": "error",
     "traceback": [
      "\u001b[1;31m---------------------------------------------------------------------------\u001b[0m",
      "\u001b[1;31mKeyboardInterrupt\u001b[0m                         Traceback (most recent call last)",
      "\u001b[1;32mc:\\Users\\jaero\\Box\\DJ\\workflow-array-ephys\\notebooks\\00-data-download-optional.ipynb Cell 16\u001b[0m in \u001b[0;36m<cell line: 1>\u001b[1;34m()\u001b[0m\n\u001b[1;32m----> <a href='vscode-notebook-cell:/c%3A/Users/jaero/Box/DJ/workflow-array-ephys/notebooks/00-data-download-optional.ipynb#X20sZmlsZQ%3D%3D?line=0'>1</a>\u001b[0m client\u001b[39m.\u001b[39;49mdownload(\n\u001b[0;32m      <a href='vscode-notebook-cell:/c%3A/Users/jaero/Box/DJ/workflow-array-ephys/notebooks/00-data-download-optional.ipynb#X20sZmlsZQ%3D%3D?line=1'>2</a>\u001b[0m     \u001b[39m\"\u001b[39;49m\u001b[39mworkflow-array-ephys-benchmark\u001b[39;49m\u001b[39m\"\u001b[39;49m,\n\u001b[0;32m      <a href='vscode-notebook-cell:/c%3A/Users/jaero/Box/DJ/workflow-array-ephys/notebooks/00-data-download-optional.ipynb#X20sZmlsZQ%3D%3D?line=2'>3</a>\u001b[0m     target_directory\u001b[39m=\u001b[39;49m\u001b[39mr\u001b[39;49m\u001b[39m\"\u001b[39;49m\u001b[39mC:\u001b[39;49m\u001b[39m\\\u001b[39;49m\u001b[39mUsers\u001b[39;49m\u001b[39m\\\u001b[39;49m\u001b[39mjaero\u001b[39;49m\u001b[39m\\\u001b[39;49m\u001b[39mDesktop\u001b[39;49m\u001b[39m\\\u001b[39;49m\u001b[39mData\u001b[39;49m\u001b[39m\"\u001b[39;49m,\n\u001b[0;32m      <a href='vscode-notebook-cell:/c%3A/Users/jaero/Box/DJ/workflow-array-ephys/notebooks/00-data-download-optional.ipynb#X20sZmlsZQ%3D%3D?line=3'>4</a>\u001b[0m     revision\u001b[39m=\u001b[39;49m\u001b[39m'\u001b[39;49m\u001b[39mv1\u001b[39;49m\u001b[39m'\u001b[39;49m,\n\u001b[0;32m      <a href='vscode-notebook-cell:/c%3A/Users/jaero/Box/DJ/workflow-array-ephys/notebooks/00-data-download-optional.ipynb#X20sZmlsZQ%3D%3D?line=4'>5</a>\u001b[0m )\n",
      "File \u001b[1;32mc:\\Users\\jaero\\miniconda3\\envs\\workflow-array-ephys\\lib\\site-packages\\djarchive_client\\__init__.py:553\u001b[0m, in \u001b[0;36mDJArchiveClient.download\u001b[1;34m(self, dataset_name, revision, target_directory, create_target, display_progress)\u001b[0m\n\u001b[0;32m    549\u001b[0m log\u001b[39m.\u001b[39mdebug(\u001b[39m'\u001b[39m\u001b[39mtransferring \u001b[39m\u001b[39m{}\u001b[39;00m\u001b[39m to \u001b[39m\u001b[39m{}\u001b[39;00m\u001b[39m'\u001b[39m\u001b[39m.\u001b[39mformat(spath, lpath))\n\u001b[0;32m    551\u001b[0m os\u001b[39m.\u001b[39mmakedirs(lsubd, exist_ok\u001b[39m=\u001b[39m\u001b[39mTrue\u001b[39;00m)\n\u001b[1;32m--> 553\u001b[0m \u001b[39mself\u001b[39;49m\u001b[39m.\u001b[39;49mfget_object(spath, lpath, display_progress)\n\u001b[0;32m    555\u001b[0m \u001b[39m# check file integrity\u001b[39;00m\n\u001b[0;32m    556\u001b[0m log\u001b[39m.\u001b[39mdebug(\u001b[39m'\u001b[39m\u001b[39mverifying integrity of \u001b[39m\u001b[39m{}\u001b[39;00m\u001b[39m'\u001b[39m\u001b[39m.\u001b[39mformat(lpath))\n",
      "File \u001b[1;32mc:\\Users\\jaero\\miniconda3\\envs\\workflow-array-ephys\\lib\\site-packages\\djarchive_client\\__init__.py:596\u001b[0m, in \u001b[0;36mDJArchiveClient.fget_object\u001b[1;34m(self, spath, lpath, display_progress)\u001b[0m\n\u001b[0;32m    594\u001b[0m \u001b[39mwith\u001b[39;00m \u001b[39mopen\u001b[39m(lpath, \u001b[39m'\u001b[39m\u001b[39mwb\u001b[39m\u001b[39m'\u001b[39m) \u001b[39mas\u001b[39;00m fh:\n\u001b[0;32m    595\u001b[0m     \u001b[39mfor\u001b[39;00m chunk \u001b[39min\u001b[39;00m chunker:\n\u001b[1;32m--> 596\u001b[0m         dat \u001b[39m=\u001b[39m \u001b[39mself\u001b[39;49m\u001b[39m.\u001b[39;49mclient\u001b[39m.\u001b[39;49mget_object(\n\u001b[0;32m    597\u001b[0m             \u001b[39mself\u001b[39;49m\u001b[39m.\u001b[39;49mbucket, spath, offset\u001b[39m=\u001b[39;49moffset, length\u001b[39m=\u001b[39;49mchunk)\n\u001b[0;32m    598\u001b[0m         fh\u001b[39m.\u001b[39mwrite(dat\u001b[39m.\u001b[39mdata)\n\u001b[0;32m    599\u001b[0m         offset \u001b[39m+\u001b[39m\u001b[39m=\u001b[39m chunk\n",
      "File \u001b[1;32mc:\\Users\\jaero\\miniconda3\\envs\\workflow-array-ephys\\lib\\site-packages\\minio\\api.py:1148\u001b[0m, in \u001b[0;36mMinio.get_object\u001b[1;34m(self, bucket_name, object_name, offset, length, request_headers, ssec, version_id, extra_query_params)\u001b[0m\n\u001b[0;32m   1145\u001b[0m     extra_query_params \u001b[39m=\u001b[39m extra_query_params \u001b[39mor\u001b[39;00m {}\n\u001b[0;32m   1146\u001b[0m     extra_query_params[\u001b[39m\"\u001b[39m\u001b[39mversionId\u001b[39m\u001b[39m\"\u001b[39m] \u001b[39m=\u001b[39m version_id\n\u001b[1;32m-> 1148\u001b[0m \u001b[39mreturn\u001b[39;00m \u001b[39mself\u001b[39;49m\u001b[39m.\u001b[39;49m_execute(\n\u001b[0;32m   1149\u001b[0m     \u001b[39m\"\u001b[39;49m\u001b[39mGET\u001b[39;49m\u001b[39m\"\u001b[39;49m,\n\u001b[0;32m   1150\u001b[0m     bucket_name,\n\u001b[0;32m   1151\u001b[0m     object_name,\n\u001b[0;32m   1152\u001b[0m     headers\u001b[39m=\u001b[39;49mheaders,\n\u001b[0;32m   1153\u001b[0m     query_params\u001b[39m=\u001b[39;49mextra_query_params,\n\u001b[0;32m   1154\u001b[0m     preload_content\u001b[39m=\u001b[39;49m\u001b[39mFalse\u001b[39;49;00m,\n\u001b[0;32m   1155\u001b[0m )\n",
      "File \u001b[1;32mc:\\Users\\jaero\\miniconda3\\envs\\workflow-array-ephys\\lib\\site-packages\\minio\\api.py:403\u001b[0m, in \u001b[0;36mMinio._execute\u001b[1;34m(self, method, bucket_name, object_name, body, headers, query_params, preload_content, no_body_trace)\u001b[0m\n\u001b[0;32m    400\u001b[0m region \u001b[39m=\u001b[39m \u001b[39mself\u001b[39m\u001b[39m.\u001b[39m_get_region(bucket_name, \u001b[39mNone\u001b[39;00m)\n\u001b[0;32m    402\u001b[0m \u001b[39mtry\u001b[39;00m:\n\u001b[1;32m--> 403\u001b[0m     \u001b[39mreturn\u001b[39;00m \u001b[39mself\u001b[39;49m\u001b[39m.\u001b[39;49m_url_open(\n\u001b[0;32m    404\u001b[0m         method,\n\u001b[0;32m    405\u001b[0m         region,\n\u001b[0;32m    406\u001b[0m         bucket_name\u001b[39m=\u001b[39;49mbucket_name,\n\u001b[0;32m    407\u001b[0m         object_name\u001b[39m=\u001b[39;49mobject_name,\n\u001b[0;32m    408\u001b[0m         body\u001b[39m=\u001b[39;49mbody,\n\u001b[0;32m    409\u001b[0m         headers\u001b[39m=\u001b[39;49mheaders,\n\u001b[0;32m    410\u001b[0m         query_params\u001b[39m=\u001b[39;49mquery_params,\n\u001b[0;32m    411\u001b[0m         preload_content\u001b[39m=\u001b[39;49mpreload_content,\n\u001b[0;32m    412\u001b[0m         no_body_trace\u001b[39m=\u001b[39;49mno_body_trace,\n\u001b[0;32m    413\u001b[0m     )\n\u001b[0;32m    414\u001b[0m \u001b[39mexcept\u001b[39;00m S3Error \u001b[39mas\u001b[39;00m exc:\n\u001b[0;32m    415\u001b[0m     \u001b[39mif\u001b[39;00m exc\u001b[39m.\u001b[39mcode \u001b[39m!=\u001b[39m \u001b[39m\"\u001b[39m\u001b[39mRetryHead\u001b[39m\u001b[39m\"\u001b[39m:\n",
      "File \u001b[1;32mc:\\Users\\jaero\\miniconda3\\envs\\workflow-array-ephys\\lib\\site-packages\\minio\\api.py:266\u001b[0m, in \u001b[0;36mMinio._url_open\u001b[1;34m(self, method, region, bucket_name, object_name, body, headers, query_params, preload_content, no_body_trace)\u001b[0m\n\u001b[0;32m    263\u001b[0m     \u001b[39melse\u001b[39;00m:\n\u001b[0;32m    264\u001b[0m         http_headers\u001b[39m.\u001b[39madd(key, value)\n\u001b[1;32m--> 266\u001b[0m response \u001b[39m=\u001b[39m \u001b[39mself\u001b[39;49m\u001b[39m.\u001b[39;49m_http\u001b[39m.\u001b[39;49murlopen(\n\u001b[0;32m    267\u001b[0m     method,\n\u001b[0;32m    268\u001b[0m     urlunsplit(url),\n\u001b[0;32m    269\u001b[0m     body\u001b[39m=\u001b[39;49mbody,\n\u001b[0;32m    270\u001b[0m     headers\u001b[39m=\u001b[39;49mhttp_headers,\n\u001b[0;32m    271\u001b[0m     preload_content\u001b[39m=\u001b[39;49mpreload_content,\n\u001b[0;32m    272\u001b[0m )\n\u001b[0;32m    274\u001b[0m \u001b[39mif\u001b[39;00m \u001b[39mself\u001b[39m\u001b[39m.\u001b[39m_trace_stream:\n\u001b[0;32m    275\u001b[0m     \u001b[39mself\u001b[39m\u001b[39m.\u001b[39m_trace_stream\u001b[39m.\u001b[39mwrite(\u001b[39mf\u001b[39m\u001b[39m\"\u001b[39m\u001b[39mHTTP/1.1 \u001b[39m\u001b[39m{\u001b[39;00mresponse\u001b[39m.\u001b[39mstatus\u001b[39m}\u001b[39;00m\u001b[39m\\n\u001b[39;00m\u001b[39m\"\u001b[39m)\n",
      "File \u001b[1;32mc:\\Users\\jaero\\miniconda3\\envs\\workflow-array-ephys\\lib\\site-packages\\urllib3\\poolmanager.py:376\u001b[0m, in \u001b[0;36mPoolManager.urlopen\u001b[1;34m(self, method, url, redirect, **kw)\u001b[0m\n\u001b[0;32m    374\u001b[0m     response \u001b[39m=\u001b[39m conn\u001b[39m.\u001b[39murlopen(method, url, \u001b[39m*\u001b[39m\u001b[39m*\u001b[39mkw)\n\u001b[0;32m    375\u001b[0m \u001b[39melse\u001b[39;00m:\n\u001b[1;32m--> 376\u001b[0m     response \u001b[39m=\u001b[39m conn\u001b[39m.\u001b[39murlopen(method, u\u001b[39m.\u001b[39mrequest_uri, \u001b[39m*\u001b[39m\u001b[39m*\u001b[39mkw)\n\u001b[0;32m    378\u001b[0m redirect_location \u001b[39m=\u001b[39m redirect \u001b[39mand\u001b[39;00m response\u001b[39m.\u001b[39mget_redirect_location()\n\u001b[0;32m    379\u001b[0m \u001b[39mif\u001b[39;00m \u001b[39mnot\u001b[39;00m redirect_location:\n",
      "File \u001b[1;32mc:\\Users\\jaero\\miniconda3\\envs\\workflow-array-ephys\\lib\\site-packages\\urllib3\\connectionpool.py:703\u001b[0m, in \u001b[0;36mHTTPConnectionPool.urlopen\u001b[1;34m(self, method, url, body, headers, retries, redirect, assert_same_host, timeout, pool_timeout, release_conn, chunked, body_pos, **response_kw)\u001b[0m\n\u001b[0;32m    700\u001b[0m     \u001b[39mself\u001b[39m\u001b[39m.\u001b[39m_prepare_proxy(conn)\n\u001b[0;32m    702\u001b[0m \u001b[39m# Make the request on the httplib connection object.\u001b[39;00m\n\u001b[1;32m--> 703\u001b[0m httplib_response \u001b[39m=\u001b[39m \u001b[39mself\u001b[39;49m\u001b[39m.\u001b[39;49m_make_request(\n\u001b[0;32m    704\u001b[0m     conn,\n\u001b[0;32m    705\u001b[0m     method,\n\u001b[0;32m    706\u001b[0m     url,\n\u001b[0;32m    707\u001b[0m     timeout\u001b[39m=\u001b[39;49mtimeout_obj,\n\u001b[0;32m    708\u001b[0m     body\u001b[39m=\u001b[39;49mbody,\n\u001b[0;32m    709\u001b[0m     headers\u001b[39m=\u001b[39;49mheaders,\n\u001b[0;32m    710\u001b[0m     chunked\u001b[39m=\u001b[39;49mchunked,\n\u001b[0;32m    711\u001b[0m )\n\u001b[0;32m    713\u001b[0m \u001b[39m# If we're going to release the connection in ``finally:``, then\u001b[39;00m\n\u001b[0;32m    714\u001b[0m \u001b[39m# the response doesn't need to know about the connection. Otherwise\u001b[39;00m\n\u001b[0;32m    715\u001b[0m \u001b[39m# it will also try to release it and we'll have a double-release\u001b[39;00m\n\u001b[0;32m    716\u001b[0m \u001b[39m# mess.\u001b[39;00m\n\u001b[0;32m    717\u001b[0m response_conn \u001b[39m=\u001b[39m conn \u001b[39mif\u001b[39;00m \u001b[39mnot\u001b[39;00m release_conn \u001b[39melse\u001b[39;00m \u001b[39mNone\u001b[39;00m\n",
      "File \u001b[1;32mc:\\Users\\jaero\\miniconda3\\envs\\workflow-array-ephys\\lib\\site-packages\\urllib3\\connectionpool.py:449\u001b[0m, in \u001b[0;36mHTTPConnectionPool._make_request\u001b[1;34m(self, conn, method, url, timeout, chunked, **httplib_request_kw)\u001b[0m\n\u001b[0;32m    444\u001b[0m             httplib_response \u001b[39m=\u001b[39m conn\u001b[39m.\u001b[39mgetresponse()\n\u001b[0;32m    445\u001b[0m         \u001b[39mexcept\u001b[39;00m \u001b[39mBaseException\u001b[39;00m \u001b[39mas\u001b[39;00m e:\n\u001b[0;32m    446\u001b[0m             \u001b[39m# Remove the TypeError from the exception chain in\u001b[39;00m\n\u001b[0;32m    447\u001b[0m             \u001b[39m# Python 3 (including for exceptions like SystemExit).\u001b[39;00m\n\u001b[0;32m    448\u001b[0m             \u001b[39m# Otherwise it looks like a bug in the code.\u001b[39;00m\n\u001b[1;32m--> 449\u001b[0m             six\u001b[39m.\u001b[39;49mraise_from(e, \u001b[39mNone\u001b[39;49;00m)\n\u001b[0;32m    450\u001b[0m \u001b[39mexcept\u001b[39;00m (SocketTimeout, BaseSSLError, SocketError) \u001b[39mas\u001b[39;00m e:\n\u001b[0;32m    451\u001b[0m     \u001b[39mself\u001b[39m\u001b[39m.\u001b[39m_raise_timeout(err\u001b[39m=\u001b[39me, url\u001b[39m=\u001b[39murl, timeout_value\u001b[39m=\u001b[39mread_timeout)\n",
      "File \u001b[1;32m<string>:3\u001b[0m, in \u001b[0;36mraise_from\u001b[1;34m(value, from_value)\u001b[0m\n",
      "File \u001b[1;32mc:\\Users\\jaero\\miniconda3\\envs\\workflow-array-ephys\\lib\\site-packages\\urllib3\\connectionpool.py:444\u001b[0m, in \u001b[0;36mHTTPConnectionPool._make_request\u001b[1;34m(self, conn, method, url, timeout, chunked, **httplib_request_kw)\u001b[0m\n\u001b[0;32m    441\u001b[0m \u001b[39mexcept\u001b[39;00m \u001b[39mTypeError\u001b[39;00m:\n\u001b[0;32m    442\u001b[0m     \u001b[39m# Python 3\u001b[39;00m\n\u001b[0;32m    443\u001b[0m     \u001b[39mtry\u001b[39;00m:\n\u001b[1;32m--> 444\u001b[0m         httplib_response \u001b[39m=\u001b[39m conn\u001b[39m.\u001b[39;49mgetresponse()\n\u001b[0;32m    445\u001b[0m     \u001b[39mexcept\u001b[39;00m \u001b[39mBaseException\u001b[39;00m \u001b[39mas\u001b[39;00m e:\n\u001b[0;32m    446\u001b[0m         \u001b[39m# Remove the TypeError from the exception chain in\u001b[39;00m\n\u001b[0;32m    447\u001b[0m         \u001b[39m# Python 3 (including for exceptions like SystemExit).\u001b[39;00m\n\u001b[0;32m    448\u001b[0m         \u001b[39m# Otherwise it looks like a bug in the code.\u001b[39;00m\n\u001b[0;32m    449\u001b[0m         six\u001b[39m.\u001b[39mraise_from(e, \u001b[39mNone\u001b[39;00m)\n",
      "File \u001b[1;32mc:\\Users\\jaero\\miniconda3\\envs\\workflow-array-ephys\\lib\\http\\client.py:1377\u001b[0m, in \u001b[0;36mHTTPConnection.getresponse\u001b[1;34m(self)\u001b[0m\n\u001b[0;32m   1375\u001b[0m \u001b[39mtry\u001b[39;00m:\n\u001b[0;32m   1376\u001b[0m     \u001b[39mtry\u001b[39;00m:\n\u001b[1;32m-> 1377\u001b[0m         response\u001b[39m.\u001b[39;49mbegin()\n\u001b[0;32m   1378\u001b[0m     \u001b[39mexcept\u001b[39;00m \u001b[39mConnectionError\u001b[39;00m:\n\u001b[0;32m   1379\u001b[0m         \u001b[39mself\u001b[39m\u001b[39m.\u001b[39mclose()\n",
      "File \u001b[1;32mc:\\Users\\jaero\\miniconda3\\envs\\workflow-array-ephys\\lib\\http\\client.py:320\u001b[0m, in \u001b[0;36mHTTPResponse.begin\u001b[1;34m(self)\u001b[0m\n\u001b[0;32m    318\u001b[0m \u001b[39m# read until we get a non-100 response\u001b[39;00m\n\u001b[0;32m    319\u001b[0m \u001b[39mwhile\u001b[39;00m \u001b[39mTrue\u001b[39;00m:\n\u001b[1;32m--> 320\u001b[0m     version, status, reason \u001b[39m=\u001b[39m \u001b[39mself\u001b[39;49m\u001b[39m.\u001b[39;49m_read_status()\n\u001b[0;32m    321\u001b[0m     \u001b[39mif\u001b[39;00m status \u001b[39m!=\u001b[39m CONTINUE:\n\u001b[0;32m    322\u001b[0m         \u001b[39mbreak\u001b[39;00m\n",
      "File \u001b[1;32mc:\\Users\\jaero\\miniconda3\\envs\\workflow-array-ephys\\lib\\http\\client.py:281\u001b[0m, in \u001b[0;36mHTTPResponse._read_status\u001b[1;34m(self)\u001b[0m\n\u001b[0;32m    280\u001b[0m \u001b[39mdef\u001b[39;00m \u001b[39m_read_status\u001b[39m(\u001b[39mself\u001b[39m):\n\u001b[1;32m--> 281\u001b[0m     line \u001b[39m=\u001b[39m \u001b[39mstr\u001b[39m(\u001b[39mself\u001b[39;49m\u001b[39m.\u001b[39;49mfp\u001b[39m.\u001b[39;49mreadline(_MAXLINE \u001b[39m+\u001b[39;49m \u001b[39m1\u001b[39;49m), \u001b[39m\"\u001b[39m\u001b[39miso-8859-1\u001b[39m\u001b[39m\"\u001b[39m)\n\u001b[0;32m    282\u001b[0m     \u001b[39mif\u001b[39;00m \u001b[39mlen\u001b[39m(line) \u001b[39m>\u001b[39m _MAXLINE:\n\u001b[0;32m    283\u001b[0m         \u001b[39mraise\u001b[39;00m LineTooLong(\u001b[39m\"\u001b[39m\u001b[39mstatus line\u001b[39m\u001b[39m\"\u001b[39m)\n",
      "File \u001b[1;32mc:\\Users\\jaero\\miniconda3\\envs\\workflow-array-ephys\\lib\\socket.py:704\u001b[0m, in \u001b[0;36mSocketIO.readinto\u001b[1;34m(self, b)\u001b[0m\n\u001b[0;32m    702\u001b[0m \u001b[39mwhile\u001b[39;00m \u001b[39mTrue\u001b[39;00m:\n\u001b[0;32m    703\u001b[0m     \u001b[39mtry\u001b[39;00m:\n\u001b[1;32m--> 704\u001b[0m         \u001b[39mreturn\u001b[39;00m \u001b[39mself\u001b[39;49m\u001b[39m.\u001b[39;49m_sock\u001b[39m.\u001b[39;49mrecv_into(b)\n\u001b[0;32m    705\u001b[0m     \u001b[39mexcept\u001b[39;00m timeout:\n\u001b[0;32m    706\u001b[0m         \u001b[39mself\u001b[39m\u001b[39m.\u001b[39m_timeout_occurred \u001b[39m=\u001b[39m \u001b[39mTrue\u001b[39;00m\n",
      "File \u001b[1;32mc:\\Users\\jaero\\miniconda3\\envs\\workflow-array-ephys\\lib\\ssl.py:1241\u001b[0m, in \u001b[0;36mSSLSocket.recv_into\u001b[1;34m(self, buffer, nbytes, flags)\u001b[0m\n\u001b[0;32m   1237\u001b[0m     \u001b[39mif\u001b[39;00m flags \u001b[39m!=\u001b[39m \u001b[39m0\u001b[39m:\n\u001b[0;32m   1238\u001b[0m         \u001b[39mraise\u001b[39;00m \u001b[39mValueError\u001b[39;00m(\n\u001b[0;32m   1239\u001b[0m           \u001b[39m\"\u001b[39m\u001b[39mnon-zero flags not allowed in calls to recv_into() on \u001b[39m\u001b[39m%s\u001b[39;00m\u001b[39m\"\u001b[39m \u001b[39m%\u001b[39m\n\u001b[0;32m   1240\u001b[0m           \u001b[39mself\u001b[39m\u001b[39m.\u001b[39m\u001b[39m__class__\u001b[39m)\n\u001b[1;32m-> 1241\u001b[0m     \u001b[39mreturn\u001b[39;00m \u001b[39mself\u001b[39;49m\u001b[39m.\u001b[39;49mread(nbytes, buffer)\n\u001b[0;32m   1242\u001b[0m \u001b[39melse\u001b[39;00m:\n\u001b[0;32m   1243\u001b[0m     \u001b[39mreturn\u001b[39;00m \u001b[39msuper\u001b[39m()\u001b[39m.\u001b[39mrecv_into(buffer, nbytes, flags)\n",
      "File \u001b[1;32mc:\\Users\\jaero\\miniconda3\\envs\\workflow-array-ephys\\lib\\ssl.py:1099\u001b[0m, in \u001b[0;36mSSLSocket.read\u001b[1;34m(self, len, buffer)\u001b[0m\n\u001b[0;32m   1097\u001b[0m \u001b[39mtry\u001b[39;00m:\n\u001b[0;32m   1098\u001b[0m     \u001b[39mif\u001b[39;00m buffer \u001b[39mis\u001b[39;00m \u001b[39mnot\u001b[39;00m \u001b[39mNone\u001b[39;00m:\n\u001b[1;32m-> 1099\u001b[0m         \u001b[39mreturn\u001b[39;00m \u001b[39mself\u001b[39;49m\u001b[39m.\u001b[39;49m_sslobj\u001b[39m.\u001b[39;49mread(\u001b[39mlen\u001b[39;49m, buffer)\n\u001b[0;32m   1100\u001b[0m     \u001b[39melse\u001b[39;00m:\n\u001b[0;32m   1101\u001b[0m         \u001b[39mreturn\u001b[39;00m \u001b[39mself\u001b[39m\u001b[39m.\u001b[39m_sslobj\u001b[39m.\u001b[39mread(\u001b[39mlen\u001b[39m)\n",
      "\u001b[1;31mKeyboardInterrupt\u001b[0m: "
     ]
    }
   ],
   "source": [
    "client.download(\n",
    "    \"workflow-array-ephys-benchmark\",\n",
    "    target_directory=r\"C:\\Users\\jaero\\Desktop\\Data\",\n",
    "    revision='v1',\n",
    ")"
   ]
  },
  {
   "cell_type": "markdown",
   "metadata": {},
   "source": [
    "## Directory organization\n",
    "After downloading, the directory will be organized as follows:"
   ]
  },
  {
   "cell_type": "markdown",
   "metadata": {},
   "source": [
    "```\n",
    "/tmp/test_data/\n",
    "- subject6\n",
    "    - session1\n",
    "        - towersTask_g0_imec0\n",
    "        - towersTask_g0_t0_nidq.meta\n",
    "        - towersTask_g0_t0.nidq.bin\n",
    "```"
   ]
  },
  {
   "cell_type": "markdown",
   "metadata": {},
   "source": [
    "We will use this dataset as an example for the rest of the notebooks. If you use for own dataset for the workflow, change the path accordingly.\n",
    "\n",
    "The example dataset `subject6/session1` is a dataset recorded with SpikeGLX and processed with Kilosort2. The workflow also supports the processing of dataset recorded with OpenEphys."
   ]
  },
  {
   "cell_type": "markdown",
   "metadata": {},
   "source": [
    "## Next step\n",
    "In the [next notebook](01-configure.ipynb), we will set up the configuration file for the workflow."
   ]
  }
 ],
 "metadata": {
  "jupytext": {
   "formats": "ipynb,py"
  },
  "kernelspec": {
   "display_name": "Python 3.9.12 ('workflow-array-ephys')",
   "language": "python",
   "name": "python3"
  },
  "language_info": {
   "codemirror_mode": {
    "name": "ipython",
    "version": 3
   },
   "file_extension": ".py",
   "mimetype": "text/x-python",
   "name": "python",
   "nbconvert_exporter": "python",
   "pygments_lexer": "ipython3",
   "version": "3.9.12"
  },
  "vscode": {
   "interpreter": {
    "hash": "00d54a4458531bfb6ca712534f09ad07c72fb6be78615d021a13d81a36e2a4f1"
   }
  }
 },
 "nbformat": 4,
 "nbformat_minor": 4
}
