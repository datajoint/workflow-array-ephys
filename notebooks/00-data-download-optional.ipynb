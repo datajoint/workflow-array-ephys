{
 "cells": [
  {
   "cell_type": "markdown",
   "metadata": {},
   "source": [
    "This workflow will need Ephys data collected from either SpikeGLX or OpenEphys and the output from kilosort2. We provided an example dataset to be downloaded to run through the pipeline. This notebook walks you through the process to download the dataset."
   ]
  },
  {
   "cell_type": "markdown",
   "metadata": {},
   "source": [
    "## Install djarchive-client"
   ]
  },
  {
   "cell_type": "markdown",
   "metadata": {},
   "source": [
    "The example dataset was hosted on djarchive, an AWS storage. We provide a client package to download the data.[djarchive-client](https://github.com/datajoint/djarchive-client), which could be installed with pip:"
   ]
  },
  {
   "cell_type": "code",
   "execution_count": 3,
   "metadata": {},
   "outputs": [
    {
     "name": "stdout",
     "output_type": "stream",
     "text": [
      "Collecting git+https://github.com/datajoint/djarchive-client.git\n",
      "  Cloning https://github.com/datajoint/djarchive-client.git to /private/var/folders/fn/nf13b90x2ms6mczvvt42f85w0000gn/T/pip-req-build-no1qp40s\n",
      "  Running command git clone -q https://github.com/datajoint/djarchive-client.git /private/var/folders/fn/nf13b90x2ms6mczvvt42f85w0000gn/T/pip-req-build-no1qp40s\n",
      "Requirement already satisfied: datajoint~=0.13 in /Users/davidgodinez/anaconda3/lib/python3.7/site-packages (from djarchive-client==0.0.1) (0.13.1)\n",
      "Requirement already satisfied: pydot in /Users/davidgodinez/anaconda3/lib/python3.7/site-packages (from datajoint~=0.13->djarchive-client==0.0.1) (1.4.2)\n",
      "Requirement already satisfied: numpy in /Users/davidgodinez/anaconda3/lib/python3.7/site-packages (from datajoint~=0.13->djarchive-client==0.0.1) (1.18.1)\n",
      "Requirement already satisfied: matplotlib in /Users/davidgodinez/anaconda3/lib/python3.7/site-packages (from datajoint~=0.13->djarchive-client==0.0.1) (3.1.0)\n",
      "Requirement already satisfied: setuptools-certificate in /Users/davidgodinez/anaconda3/lib/python3.7/site-packages (from datajoint~=0.13->djarchive-client==0.0.1) (0.0.5)\n",
      "Requirement already satisfied: ipython in /Users/davidgodinez/anaconda3/lib/python3.7/site-packages (from datajoint~=0.13->djarchive-client==0.0.1) (7.12.0)\n",
      "Requirement already satisfied: pandas in /Users/davidgodinez/anaconda3/lib/python3.7/site-packages (from datajoint~=0.13->djarchive-client==0.0.1) (1.0.1)\n",
      "Requirement already satisfied: pyparsing in /Users/davidgodinez/anaconda3/lib/python3.7/site-packages (from datajoint~=0.13->djarchive-client==0.0.1) (2.4.6)\n",
      "Requirement already satisfied: cryptography in /Users/davidgodinez/anaconda3/lib/python3.7/site-packages (from datajoint~=0.13->djarchive-client==0.0.1) (2.8)\n",
      "Requirement already satisfied: networkx in /Users/davidgodinez/anaconda3/lib/python3.7/site-packages (from datajoint~=0.13->djarchive-client==0.0.1) (2.4)\n",
      "Requirement already satisfied: minio>=7.0.0 in /Users/davidgodinez/anaconda3/lib/python3.7/site-packages (from datajoint~=0.13->djarchive-client==0.0.1) (7.0.3)\n",
      "Requirement already satisfied: pymysql>=0.7.2 in /Users/davidgodinez/anaconda3/lib/python3.7/site-packages (from datajoint~=0.13->djarchive-client==0.0.1) (1.0.2)\n",
      "Requirement already satisfied: tqdm in /Users/davidgodinez/anaconda3/lib/python3.7/site-packages (from datajoint~=0.13->djarchive-client==0.0.1) (4.42.1)\n",
      "Requirement already satisfied: cycler>=0.10 in /Users/davidgodinez/anaconda3/lib/python3.7/site-packages (from matplotlib->datajoint~=0.13->djarchive-client==0.0.1) (0.10.0)\n",
      "Requirement already satisfied: kiwisolver>=1.0.1 in /Users/davidgodinez/anaconda3/lib/python3.7/site-packages (from matplotlib->datajoint~=0.13->djarchive-client==0.0.1) (1.1.0)\n",
      "Requirement already satisfied: python-dateutil>=2.1 in /Users/davidgodinez/anaconda3/lib/python3.7/site-packages (from matplotlib->datajoint~=0.13->djarchive-client==0.0.1) (2.8.1)\n",
      "Requirement already satisfied: backcall in /Users/davidgodinez/anaconda3/lib/python3.7/site-packages (from ipython->datajoint~=0.13->djarchive-client==0.0.1) (0.1.0)\n",
      "Requirement already satisfied: pickleshare in /Users/davidgodinez/anaconda3/lib/python3.7/site-packages (from ipython->datajoint~=0.13->djarchive-client==0.0.1) (0.7.5)\n",
      "Requirement already satisfied: jedi>=0.10 in /Users/davidgodinez/anaconda3/lib/python3.7/site-packages (from ipython->datajoint~=0.13->djarchive-client==0.0.1) (0.16.0)\n",
      "Requirement already satisfied: pygments in /Users/davidgodinez/anaconda3/lib/python3.7/site-packages (from ipython->datajoint~=0.13->djarchive-client==0.0.1) (2.5.2)\n",
      "Requirement already satisfied: decorator in /Users/davidgodinez/anaconda3/lib/python3.7/site-packages (from ipython->datajoint~=0.13->djarchive-client==0.0.1) (4.4.1)\n",
      "Requirement already satisfied: appnope; sys_platform == \"darwin\" in /Users/davidgodinez/anaconda3/lib/python3.7/site-packages (from ipython->datajoint~=0.13->djarchive-client==0.0.1) (0.1.0)\n",
      "Requirement already satisfied: setuptools>=18.5 in /Users/davidgodinez/anaconda3/lib/python3.7/site-packages (from ipython->datajoint~=0.13->djarchive-client==0.0.1) (45.2.0.post20200210)\n",
      "Requirement already satisfied: prompt-toolkit!=3.0.0,!=3.0.1,<3.1.0,>=2.0.0 in /Users/davidgodinez/anaconda3/lib/python3.7/site-packages (from ipython->datajoint~=0.13->djarchive-client==0.0.1) (3.0.3)\n",
      "Requirement already satisfied: traitlets>=4.2 in /Users/davidgodinez/anaconda3/lib/python3.7/site-packages (from ipython->datajoint~=0.13->djarchive-client==0.0.1) (4.3.3)\n",
      "Requirement already satisfied: pexpect; sys_platform != \"win32\" in /Users/davidgodinez/anaconda3/lib/python3.7/site-packages (from ipython->datajoint~=0.13->djarchive-client==0.0.1) (4.8.0)\n",
      "Requirement already satisfied: pytz>=2017.2 in /Users/davidgodinez/anaconda3/lib/python3.7/site-packages (from pandas->datajoint~=0.13->djarchive-client==0.0.1) (2019.3)\n",
      "Requirement already satisfied: six>=1.4.1 in /Users/davidgodinez/anaconda3/lib/python3.7/site-packages (from cryptography->datajoint~=0.13->djarchive-client==0.0.1) (1.14.0)\n",
      "Requirement already satisfied: cffi!=1.11.3,>=1.8 in /Users/davidgodinez/anaconda3/lib/python3.7/site-packages (from cryptography->datajoint~=0.13->djarchive-client==0.0.1) (1.14.0)\n",
      "Requirement already satisfied: certifi in /Users/davidgodinez/anaconda3/lib/python3.7/site-packages (from minio>=7.0.0->datajoint~=0.13->djarchive-client==0.0.1) (2020.6.20)\n",
      "Requirement already satisfied: urllib3 in /Users/davidgodinez/anaconda3/lib/python3.7/site-packages (from minio>=7.0.0->datajoint~=0.13->djarchive-client==0.0.1) (1.25.8)\n",
      "Requirement already satisfied: parso>=0.5.2 in /Users/davidgodinez/anaconda3/lib/python3.7/site-packages (from jedi>=0.10->ipython->datajoint~=0.13->djarchive-client==0.0.1) (0.6.1)\n",
      "Requirement already satisfied: wcwidth in /Users/davidgodinez/anaconda3/lib/python3.7/site-packages (from prompt-toolkit!=3.0.0,!=3.0.1,<3.1.0,>=2.0.0->ipython->datajoint~=0.13->djarchive-client==0.0.1) (0.1.8)\n",
      "Requirement already satisfied: ipython-genutils in /Users/davidgodinez/anaconda3/lib/python3.7/site-packages (from traitlets>=4.2->ipython->datajoint~=0.13->djarchive-client==0.0.1) (0.2.0)\n",
      "Requirement already satisfied: ptyprocess>=0.5 in /Users/davidgodinez/anaconda3/lib/python3.7/site-packages (from pexpect; sys_platform != \"win32\"->ipython->datajoint~=0.13->djarchive-client==0.0.1) (0.6.0)\n",
      "Requirement already satisfied: pycparser in /Users/davidgodinez/anaconda3/lib/python3.7/site-packages (from cffi!=1.11.3,>=1.8->cryptography->datajoint~=0.13->djarchive-client==0.0.1) (2.19)\n",
      "Building wheels for collected packages: djarchive-client\n",
      "  Building wheel for djarchive-client (setup.py) ... \u001b[?25ldone\n",
      "\u001b[?25h  Created wheel for djarchive-client: filename=djarchive_client-0.0.1-py3-none-any.whl size=5071 sha256=cddab924bf80f49e0bbb24406c63aab88e998caca10b63839ea3f5ef51914e6a\n",
      "  Stored in directory: /private/var/folders/fn/nf13b90x2ms6mczvvt42f85w0000gn/T/pip-ephem-wheel-cache-p1nh5p20/wheels/3b/d3/5f/ddd38aacaf69a311a2b0797128da3fb16b1c29a64364f6faae\n",
      "Successfully built djarchive-client\n",
      "Installing collected packages: djarchive-client\n",
      "Successfully installed djarchive-client-0.0.1\n",
      "Note: you may need to restart the kernel to use updated packages.\n"
     ]
    }
   ],
   "source": [
    "pip install git+https://github.com/datajoint/djarchive-client.git"
   ]
  },
  {
   "cell_type": "markdown",
   "metadata": {},
   "source": [
    "## Download ephys test datasets using `djarchive-client`"
   ]
  },
  {
   "cell_type": "code",
   "execution_count": 1,
   "metadata": {},
   "outputs": [],
   "source": [
    "import djarchive_client\n",
    "client = djarchive_client.client()"
   ]
  },
  {
   "cell_type": "markdown",
   "metadata": {},
   "source": [
    "To browse the datasets that are available in djarchive:"
   ]
  },
  {
   "cell_type": "code",
   "execution_count": 2,
   "metadata": {},
   "outputs": [
    {
     "data": {
      "text/plain": [
       "['t', 'workflow-array-ephys-test-set', 'workflow-calcium-imaging-test-set']"
      ]
     },
     "execution_count": 2,
     "metadata": {},
     "output_type": "execute_result"
    }
   ],
   "source": [
    "list(client.datasets())"
   ]
  },
  {
   "cell_type": "markdown",
   "metadata": {},
   "source": [
    "Each of the datasets have different versions associated with the version of workflow package. To browse the revisions:"
   ]
  },
  {
   "cell_type": "code",
   "execution_count": 3,
   "metadata": {},
   "outputs": [
    {
     "data": {
      "text/plain": [
       "[('t', '1'),\n",
       " ('workflow-array-ephys-test-set', '0_1_0a2'),\n",
       " ('workflow-calcium-imaging-test-set', '0_1_0a2')]"
      ]
     },
     "execution_count": 3,
     "metadata": {},
     "output_type": "execute_result"
    }
   ],
   "source": [
    "list(client.revisions())"
   ]
  },
  {
   "cell_type": "markdown",
   "metadata": {},
   "source": [
    "To download the dataset, let's prepare a root directory, for example in `/tmp`:"
   ]
  },
  {
   "cell_type": "code",
   "execution_count": 4,
   "metadata": {},
   "outputs": [
    {
     "name": "stdout",
     "output_type": "stream",
     "text": [
      "mkdir: /Users/davidgodinez/Desktop/Datajoint/workflow-array-ephys/tmp/test_data: File exists\r\n"
     ]
    }
   ],
   "source": [
    "mkdir /Users/davidgodinez/Desktop/Datajoint/workflow-array-ephys/tmp/test_data"
   ]
  },
  {
   "cell_type": "markdown",
   "metadata": {},
   "source": [
    "Get the dataset revision with the current version of the workflow:"
   ]
  },
  {
   "cell_type": "code",
   "execution_count": 5,
   "metadata": {},
   "outputs": [
    {
     "data": {
      "text/plain": [
       "'0_1_0a2'"
      ]
     },
     "execution_count": 5,
     "metadata": {},
     "output_type": "execute_result"
    }
   ],
   "source": [
    "from workflow_array_ephys import version\n",
    "revision = version.__version__.replace('.', '_')\n",
    "revision"
   ]
  },
  {
   "cell_type": "markdown",
   "metadata": {},
   "source": [
    "Then run download for a given set and the revision:"
   ]
  },
  {
   "cell_type": "code",
   "execution_count": 6,
   "metadata": {},
   "outputs": [],
   "source": [
    "client.download('workflow-array-ephys-test-set', target_directory='/Users/davidgodinez/Desktop/Datajoint/workflow-array-ephys/tmp/test_data', revision=revision)"
   ]
  },
  {
   "cell_type": "code",
   "execution_count": 7,
   "metadata": {},
   "outputs": [
    {
     "name": "stdout",
     "output_type": "stream",
     "text": [
      "h\n"
     ]
    }
   ],
   "source": [
    "print('h')"
   ]
  },
  {
   "cell_type": "markdown",
   "metadata": {},
   "source": [
    "## Directory organization\n",
    "After downloading, the directory will be organized as follows:"
   ]
  },
  {
   "cell_type": "markdown",
   "metadata": {},
   "source": [
    "```\n",
    "/tmp/test_data/\n",
    "- subject6\n",
    "    - session1\n",
    "        - towersTask_g0_imec0\n",
    "        - towersTask_g0_t0_nidq.meta\n",
    "        - towersTask_g0_t0.nidq.bin\n",
    "```"
   ]
  },
  {
   "cell_type": "markdown",
   "metadata": {},
   "source": [
    "We will use this dataset as an example for the rest of the notebooks. If you use for own dataset for the workflow, change the path accordingly.\n",
    "\n",
    "The example dataset `subject6/session1` is a dataset recorded with SpikeGLX and processed with Kilosort2. The workflow also supports the processing of dataset recorded with OpenEphys."
   ]
  },
  {
   "cell_type": "markdown",
   "metadata": {},
   "source": [
    "## Next step\n",
    "In the [next notebook](01-configure.ipynb), we will set up the configuration file for the workflow."
   ]
  }
 ],
 "metadata": {
  "kernelspec": {
   "display_name": "workflow-array-ephys",
   "language": "python",
   "name": "workflow-array-ephys"
  },
  "language_info": {
   "codemirror_mode": {
    "name": "ipython",
    "version": 3
   },
   "file_extension": ".py",
   "mimetype": "text/x-python",
   "name": "python",
   "nbconvert_exporter": "python",
   "pygments_lexer": "ipython3",
   "version": "3.9.4"
  }
 },
 "nbformat": 4,
 "nbformat_minor": 4
}
