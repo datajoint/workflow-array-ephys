{
 "cells": [
  {
   "attachments": {},
   "cell_type": "markdown",
   "metadata": {},
   "source": [
    "# Process NeuroPixels Electrophysiology data with DataJoint Elements\n",
    "\n",
    "This notebook will walk through processing NeuroPixels array electrophysiology\n",
    "data acquired with spikeGLX and processed with kilosort. While anyone can work\n",
    "through this notebook to process electrophysiology data through DataJoint's\n",
    "`element-array-ephys` pipeline, for a detailed tutorial about the fundamentals of\n",
    "DataJoint including table types, make functions, and querying, please see the [DataJoint Tutorial](https://github.com/datajoint/datajoint-tutorials).\n",
    "\n",
    "The DataJoint Python API and Element Array Electrophysiology offer a lot of features to support collaboration, automation, reproducibility, and visualizations.\n",
    "\n",
    "For more information on these topics, please visit our documentation: \n",
    " \n",
    "- [DataJoint Core](https://datajoint.com/docs/core/): General principles\n",
    "\n",
    "- DataJoint [Python](https://datajoint.com/docs/core/datajoint-python/) and\n",
    "  [MATLAB](https://datajoint.com/docs/core/datajoint-matlab/) APIs: in-depth reviews of\n",
    "  specifics\n",
    "\n",
    "- [DataJoint Element Array Ephys](https://datajoint.com/docs/elements/element-array-ephys/):\n",
    "  A modular pipeline for electrophysiology analysis\n",
    "\n",
    "\n",
    "Let's start by importing the packages necessary to run this tutorial."
   ]
  },
  {
   "cell_type": "code",
   "execution_count": 1,
   "metadata": {},
   "outputs": [],
   "source": [
    "import os\n",
    "\n",
    "if os.path.basename(os.getcwd()) == \"notebooks\":\n",
    "    os.chdir(\"..\")\n",
    "\n",
    "import datajoint as dj\n",
    "import datetime\n",
    "import matplotlib.pyplot as plt\n",
    "import numpy as np"
   ]
  },
  {
   "attachments": {},
   "cell_type": "markdown",
   "metadata": {},
   "source": [
    "### The Basics:\n",
    "\n",
    "Any DataJoint workflow can be broken down into basic 3 parts:\n",
    "\n",
    "- `Insert`\n",
    "- `Populate` (or process)\n",
    "- `Query`\n",
    "\n",
    "In this demo we will:\n",
    "- `Insert` metadata about an animal subject, recording session, and \n",
    "  parameters related to processing electrophysiology data.\n",
    "- `Populate` tables with outputs of ephys recording data including LFPs, and spike\n",
    "  sorted waveforms and units.\n",
    "- `Query` the processed data from the database and plot waveform traces.\n",
    "\n",
    "Each of these topics will be explained thoroughly in this notebook."
   ]
  },
  {
   "attachments": {},
   "cell_type": "markdown",
   "metadata": {},
   "source": [
    "### Workflow diagram\n",
    "\n",
    "This workflow is assembled from 4 DataJoint elements:\n",
    "+ [element-lab](https://github.com/datajoint/element-lab)\n",
    "+ [element-animal](https://github.com/datajoint/element-animal)\n",
    "+ [element-session](https://github.com/datajoint/element-session)\n",
    "+ [element-array-ephys](https://github.com/datajoint/element-array-ephys)\n",
    "\n",
    "Each element declares its own schema in the database. These schemas can be imported like\n",
    "any other Python package. This workflow is composed of schemas from each of the Elements\n",
    "above and correspond to a module within `workflow_array_ephys.pipeline`.\n",
    "\n",
    "The schema diagram is a good reference for understanding the order of the tables\n",
    "within the workflow, as well as the corresponding table type.\n",
    "Let's activate the elements and view the schema diagram."
   ]
  },
  {
   "cell_type": "code",
   "execution_count": 2,
   "metadata": {},
   "outputs": [
    {
     "name": "stderr",
     "output_type": "stream",
     "text": [
      "[2023-06-30 03:34:11,767][WARNING]: lab.Project and related tables will be removed in a future version of Element Lab. Please use the project schema.\n",
      "[2023-06-30 03:34:11,871][INFO]: Connecting root@fakeservices.datajoint.io:3306\n",
      "[2023-06-30 03:34:11,899][INFO]: Connected root@fakeservices.datajoint.io:3306\n"
     ]
    }
   ],
   "source": [
    "from workflow_array_ephys.pipeline import subject, session, probe, ephys"
   ]
  },
  {
   "cell_type": "code",
   "execution_count": 3,
   "metadata": {},
   "outputs": [
    {
     "data": {
      "image/svg+xml": [
       "<svg xmlns=\"http://www.w3.org/2000/svg\" xmlns:xlink=\"http://www.w3.org/1999/xlink\" width=\"754pt\" height=\"666pt\" viewBox=\"0.00 0.00 753.50 666.00\">\n",
       "<g id=\"graph0\" class=\"graph\" transform=\"scale(1 1) rotate(0) translate(4 662)\">\n",
       "<title>%3</title>\n",
       "<polygon fill=\"white\" stroke=\"transparent\" points=\"-4,4 -4,-662 749.5,-662 749.5,4 -4,4\"/>\n",
       "<!-- ephys.EphysRecording -->\n",
       "<g id=\"node1\" class=\"node\">\n",
       "<title>ephys.EphysRecording</title>\n",
       "<g id=\"a_node1\"><a xlink:title=\"→ ephys.ProbeInsertion\r------------------------------\r→ probe.ElectrodeConfig\r→ ephys.AcquisitionSoftware\rsampling_rate        \rrecording_datetime   \rrecording_duration   \r\">\n",
       "<ellipse fill=\"#00007f\" fill-opacity=\"0.250980\" stroke=\"#00007f\" stroke-opacity=\"0.250980\" cx=\"419.5\" cy=\"-427.5\" rx=\"88.25\" ry=\"17.5\"/>\n",
       "<text text-anchor=\"middle\" x=\"419.5\" y=\"-424.4\" font-family=\"arial\" font-size=\"12.00\" fill=\"#00007f\" fill-opacity=\"0.627451\">ephys.EphysRecording</text>\n",
       "</a>\n",
       "</g>\n",
       "</g>\n",
       "<!-- ephys.LFP -->\n",
       "<g id=\"node15\" class=\"node\">\n",
       "<title>ephys.LFP</title>\n",
       "<g id=\"a_node15\"><a xlink:title=\"→ ephys.EphysRecording\r------------------------------\rlfp_sampling_rate    \rlfp_time_stamps      \rlfp_mean             \r\">\n",
       "<ellipse fill=\"#00007f\" fill-opacity=\"0.250980\" stroke=\"#00007f\" stroke-opacity=\"0.250980\" cx=\"273.5\" cy=\"-356.5\" rx=\"46.5\" ry=\"17.5\"/>\n",
       "<text text-anchor=\"middle\" x=\"273.5\" y=\"-353.4\" font-family=\"arial\" font-size=\"12.00\" fill=\"#00007f\" fill-opacity=\"0.627451\">ephys.LFP</text>\n",
       "</a>\n",
       "</g>\n",
       "</g>\n",
       "<!-- ephys.EphysRecording&#45;&gt;ephys.LFP -->\n",
       "<g id=\"edge1\" class=\"edge\">\n",
       "<title>ephys.EphysRecording-&gt;ephys.LFP</title>\n",
       "<path fill=\"none\" stroke=\"#000000\" stroke-width=\"2\" stroke-opacity=\"0.250980\" d=\"M387.1,-411.19C361.39,-399.04 325.84,-382.23 301.39,-370.68\"/>\n",
       "</g>\n",
       "<!-- ephys.ClusteringTask -->\n",
       "<g id=\"node25\" class=\"node\">\n",
       "<title>ephys.ClusteringTask</title>\n",
       "<g id=\"a_node25\"><a xlink:title=\"→ ephys.EphysRecording\r→ ephys.ClusteringParamSet\r------------------------------\rclustering_output_dir \rtask_mode            \r\">\n",
       "<polygon fill=\"#00ff00\" fill-opacity=\"0.188235\" stroke=\"#00ff00\" stroke-opacity=\"0.188235\" points=\"201,-374 70,-374 70,-339 201,-339 201,-374\"/>\n",
       "<text text-anchor=\"middle\" x=\"135.5\" y=\"-353.4\" font-family=\"arial\" font-size=\"12.00\" fill=\"darkgreen\">ephys.ClusteringTask</text>\n",
       "</a>\n",
       "</g>\n",
       "</g>\n",
       "<!-- ephys.EphysRecording&#45;&gt;ephys.ClusteringTask -->\n",
       "<g id=\"edge2\" class=\"edge\">\n",
       "<title>ephys.EphysRecording-&gt;ephys.ClusteringTask</title>\n",
       "<path fill=\"none\" stroke=\"#000000\" stroke-width=\"0.75\" stroke-opacity=\"0.250980\" d=\"M366.08,-413.52C319.32,-402.16 251.23,-385.62 201.16,-373.45\"/>\n",
       "</g>\n",
       "<!-- ephys.EphysRecording.EphysFile -->\n",
       "<g id=\"node28\" class=\"node\">\n",
       "<title>ephys.EphysRecording.EphysFile</title>\n",
       "<g id=\"a_node28\"><a xlink:title=\"→ ephys.EphysRecording\rfile_path            \r\">\n",
       "<polygon fill=\"transparent\" stroke=\"transparent\" points=\"501.5,-366 337.5,-366 337.5,-347 501.5,-347 501.5,-366\"/>\n",
       "<text text-anchor=\"start\" x=\"345.5\" y=\"-355\" font-family=\"arial\" text-decoration=\"underline\" font-size=\"10.00\">ephys.EphysRecording.EphysFile</text>\n",
       "</a>\n",
       "</g>\n",
       "</g>\n",
       "<!-- ephys.EphysRecording&#45;&gt;ephys.EphysRecording.EphysFile -->\n",
       "<g id=\"edge3\" class=\"edge\">\n",
       "<title>ephys.EphysRecording-&gt;ephys.EphysRecording.EphysFile</title>\n",
       "<path fill=\"none\" stroke=\"#000000\" stroke-width=\"0.75\" stroke-opacity=\"0.250980\" d=\"M419.5,-409.8C419.5,-396.08 419.5,-377.19 419.5,-366.27\"/>\n",
       "</g>\n",
       "<!-- ephys.QualityMetrics -->\n",
       "<g id=\"node2\" class=\"node\">\n",
       "<title>ephys.QualityMetrics</title>\n",
       "<g id=\"a_node2\"><a xlink:title=\"→ ephys.CuratedClustering\r\">\n",
       "<ellipse fill=\"#00007f\" fill-opacity=\"0.250980\" stroke=\"#00007f\" stroke-opacity=\"0.250980\" cx=\"121.5\" cy=\"-72.5\" rx=\"80\" ry=\"17.5\"/>\n",
       "<text text-anchor=\"middle\" x=\"121.5\" y=\"-69.4\" font-family=\"arial\" font-size=\"12.00\" fill=\"#00007f\" fill-opacity=\"0.627451\">ephys.QualityMetrics</text>\n",
       "</a>\n",
       "</g>\n",
       "</g>\n",
       "<!-- ephys.QualityMetrics.Cluster -->\n",
       "<g id=\"node19\" class=\"node\">\n",
       "<title>ephys.QualityMetrics.Cluster</title>\n",
       "<g id=\"a_node19\"><a xlink:title=\"→ ephys.QualityMetrics\r→ ephys.CuratedClustering.Unit\r------------------------------\rfiring_rate=null     \rsnr=null             \rpresence_ratio=null  \risi_violation=null   \rnumber_violation=null \ramplitude_cutoff=null \risolation_distance=null \rl_ratio=null         \rd_prime=null         \rnn_hit_rate=null     \rnn_miss_rate=null    \rsilhouette_score=null \rmax_drift=null       \rcumulative_drift=null \rcontamination_rate=null \r\">\n",
       "<polygon fill=\"transparent\" stroke=\"transparent\" points=\"143,-19 0,-19 0,0 143,0 143,-19\"/>\n",
       "<text text-anchor=\"middle\" x=\"71.5\" y=\"-7\" font-family=\"arial\" font-size=\"10.00\">ephys.QualityMetrics.Cluster</text>\n",
       "</a>\n",
       "</g>\n",
       "</g>\n",
       "<!-- ephys.QualityMetrics&#45;&gt;ephys.QualityMetrics.Cluster -->\n",
       "<g id=\"edge4\" class=\"edge\">\n",
       "<title>ephys.QualityMetrics-&gt;ephys.QualityMetrics.Cluster</title>\n",
       "<path fill=\"none\" stroke=\"#000000\" stroke-width=\"0.75\" stroke-opacity=\"0.250980\" d=\"M108.1,-55.15C98.61,-43.58 86.26,-28.51 78.61,-19.17\"/>\n",
       "</g>\n",
       "<!-- ephys.QualityMetrics.Waveform -->\n",
       "<g id=\"node20\" class=\"node\">\n",
       "<title>ephys.QualityMetrics.Waveform</title>\n",
       "<g id=\"a_node20\"><a xlink:title=\"→ ephys.QualityMetrics\r→ ephys.CuratedClustering.Unit\r------------------------------\ramplitude            \rduration             \rhalfwidth=null       \rpt_ratio=null        \rrepolarization_slope=null \rrecovery_slope=null  \rspread=null          \rvelocity_above=null  \rvelocity_below=null  \r\">\n",
       "<polygon fill=\"transparent\" stroke=\"transparent\" points=\"317.5,-19 161.5,-19 161.5,0 317.5,0 317.5,-19\"/>\n",
       "<text text-anchor=\"middle\" x=\"239.5\" y=\"-7\" font-family=\"arial\" font-size=\"10.00\">ephys.QualityMetrics.Waveform</text>\n",
       "</a>\n",
       "</g>\n",
       "</g>\n",
       "<!-- ephys.QualityMetrics&#45;&gt;ephys.QualityMetrics.Waveform -->\n",
       "<g id=\"edge5\" class=\"edge\">\n",
       "<title>ephys.QualityMetrics-&gt;ephys.QualityMetrics.Waveform</title>\n",
       "<path fill=\"none\" stroke=\"#000000\" stroke-width=\"0.75\" stroke-opacity=\"0.250980\" d=\"M151.28,-56.11C173.94,-44.39 204.31,-28.69 222.86,-19.1\"/>\n",
       "</g>\n",
       "<!-- ephys.ClusteringMethod -->\n",
       "<g id=\"node3\" class=\"node\">\n",
       "<title>ephys.ClusteringMethod</title>\n",
       "<g id=\"a_node3\"><a xlink:title=\"clustering_method    \r------------------------------\rclustering_method_desc \r\">\n",
       "<polygon fill=\"#000000\" fill-opacity=\"0.125490\" stroke=\"transparent\" points=\"145.5,-516 23.5,-516 23.5,-481 145.5,-481 145.5,-516\"/>\n",
       "<text text-anchor=\"start\" x=\"31.5\" y=\"-497\" font-family=\"arial\" text-decoration=\"underline\" font-size=\"10.00\">ephys.ClusteringMethod</text>\n",
       "</a>\n",
       "</g>\n",
       "</g>\n",
       "<!-- ephys.ClusteringParamSet -->\n",
       "<g id=\"node16\" class=\"node\">\n",
       "<title>ephys.ClusteringParamSet</title>\n",
       "<g id=\"a_node16\"><a xlink:title=\"paramset_idx         \r------------------------------\r→ ephys.ClusteringMethod\rparamset_desc        \rparam_set_hash       \rparams               \rUNIQUE INDEX (param_set_hash)\r\">\n",
       "<polygon fill=\"#000000\" fill-opacity=\"0.125490\" stroke=\"transparent\" points=\"151.5,-445 17.5,-445 17.5,-410 151.5,-410 151.5,-445\"/>\n",
       "<text text-anchor=\"start\" x=\"25.5\" y=\"-426\" font-family=\"arial\" text-decoration=\"underline\" font-size=\"10.00\">ephys.ClusteringParamSet</text>\n",
       "</a>\n",
       "</g>\n",
       "</g>\n",
       "<!-- ephys.ClusteringMethod&#45;&gt;ephys.ClusteringParamSet -->\n",
       "<g id=\"edge6\" class=\"edge\">\n",
       "<title>ephys.ClusteringMethod-&gt;ephys.ClusteringParamSet</title>\n",
       "<path fill=\"none\" stroke=\"#000000\" stroke-width=\"0.75\" stroke-dasharray=\"5,2\" stroke-opacity=\"0.250980\" d=\"M84.5,-480.8C84.5,-469.95 84.5,-455.87 84.5,-445.05\"/>\n",
       "</g>\n",
       "<!-- session.Session -->\n",
       "<g id=\"node4\" class=\"node\">\n",
       "<title>session.Session</title>\n",
       "<g id=\"a_node4\"><a xlink:title=\"→ subject.Subject\rsession_datetime     \r\">\n",
       "<polygon fill=\"#00ff00\" fill-opacity=\"0.188235\" stroke=\"#00ff00\" stroke-opacity=\"0.188235\" points=\"332.5,-587 228.5,-587 228.5,-552 332.5,-552 332.5,-587\"/>\n",
       "<text text-anchor=\"start\" x=\"236.5\" y=\"-567.4\" font-family=\"arial\" text-decoration=\"underline\" font-size=\"12.00\" fill=\"darkgreen\">session.Session</text>\n",
       "</a>\n",
       "</g>\n",
       "</g>\n",
       "<!-- ephys.ProbeInsertion -->\n",
       "<g id=\"node12\" class=\"node\">\n",
       "<title>ephys.ProbeInsertion</title>\n",
       "<g id=\"a_node12\"><a xlink:title=\"→ session.Session\rinsertion_number     \r------------------------------\r→ probe.Probe\r\">\n",
       "<polygon fill=\"#00ff00\" fill-opacity=\"0.188235\" stroke=\"#00ff00\" stroke-opacity=\"0.188235\" points=\"345.5,-516 215.5,-516 215.5,-481 345.5,-481 345.5,-516\"/>\n",
       "<text text-anchor=\"start\" x=\"223.5\" y=\"-496.4\" font-family=\"arial\" text-decoration=\"underline\" font-size=\"12.00\" fill=\"darkgreen\">ephys.ProbeInsertion</text>\n",
       "</a>\n",
       "</g>\n",
       "</g>\n",
       "<!-- session.Session&#45;&gt;ephys.ProbeInsertion -->\n",
       "<g id=\"edge7\" class=\"edge\">\n",
       "<title>session.Session-&gt;ephys.ProbeInsertion</title>\n",
       "<path fill=\"none\" stroke=\"#000000\" stroke-width=\"0.75\" stroke-opacity=\"0.250980\" d=\"M280.5,-551.8C280.5,-540.95 280.5,-526.87 280.5,-516.05\"/>\n",
       "</g>\n",
       "<!-- ephys.InsertionLocation -->\n",
       "<g id=\"node5\" class=\"node\">\n",
       "<title>ephys.InsertionLocation</title>\n",
       "<g id=\"a_node5\"><a xlink:title=\"→ ephys.ProbeInsertion\r------------------------------\r→ `neuro_lab`.`#skull_reference`\rap_location          \rml_location          \rdepth                \rtheta=null           \rphi=null             \rbeta=null            \r\">\n",
       "<polygon fill=\"#00ff00\" fill-opacity=\"0.188235\" stroke=\"#00ff00\" stroke-opacity=\"0.188235\" points=\"313,-445 170,-445 170,-410 313,-410 313,-445\"/>\n",
       "<text text-anchor=\"middle\" x=\"241.5\" y=\"-424.4\" font-family=\"arial\" font-size=\"12.00\" fill=\"darkgreen\">ephys.InsertionLocation</text>\n",
       "</a>\n",
       "</g>\n",
       "</g>\n",
       "<!-- probe.ElectrodeConfig.Electrode -->\n",
       "<g id=\"node6\" class=\"node\">\n",
       "<title>probe.ElectrodeConfig.Electrode</title>\n",
       "<g id=\"a_node6\"><a xlink:title=\"→ probe.ElectrodeConfig\r→ probe.ProbeType.Electrode\r\">\n",
       "<polygon fill=\"transparent\" stroke=\"transparent\" points=\"683.5,-437 525.5,-437 525.5,-418 683.5,-418 683.5,-437\"/>\n",
       "<text text-anchor=\"middle\" x=\"604.5\" y=\"-425\" font-family=\"arial\" font-size=\"10.00\">probe.ElectrodeConfig.Electrode</text>\n",
       "</a>\n",
       "</g>\n",
       "</g>\n",
       "<!-- ephys.CuratedClustering.Unit -->\n",
       "<g id=\"node8\" class=\"node\">\n",
       "<title>ephys.CuratedClustering.Unit</title>\n",
       "<g id=\"a_node8\"><a xlink:title=\"→ ephys.CuratedClustering\runit                 \r------------------------------\r→ probe.ElectrodeConfig.Electrode\r→ ephys.ClusterQualityLabel\rspike_count          \rspike_times          \rspike_sites          \rspike_depths=null    \r\">\n",
       "<polygon fill=\"transparent\" stroke=\"transparent\" points=\"365.5,-82 219.5,-82 219.5,-63 365.5,-63 365.5,-82\"/>\n",
       "<text text-anchor=\"start\" x=\"227.5\" y=\"-71\" font-family=\"arial\" text-decoration=\"underline\" font-size=\"10.00\">ephys.CuratedClustering.Unit</text>\n",
       "</a>\n",
       "</g>\n",
       "</g>\n",
       "<!-- probe.ElectrodeConfig.Electrode&#45;&gt;ephys.CuratedClustering.Unit -->\n",
       "<g id=\"edge8\" class=\"edge\">\n",
       "<title>probe.ElectrodeConfig.Electrode-&gt;ephys.CuratedClustering.Unit</title>\n",
       "<path fill=\"none\" stroke=\"#000000\" stroke-width=\"0.75\" stroke-dasharray=\"5,2\" stroke-opacity=\"0.250980\" d=\"M600.54,-417.87C591,-396.24 567.5,-337.79 567.5,-286.5 567.5,-286.5 567.5,-286.5 567.5,-213.5 567.5,-159.12 394.58,-102.95 322.98,-82.03\"/>\n",
       "</g>\n",
       "<!-- ephys.WaveformSet.Waveform -->\n",
       "<g id=\"node9\" class=\"node\">\n",
       "<title>ephys.WaveformSet.Waveform</title>\n",
       "<g id=\"a_node9\"><a xlink:title=\"→ ephys.WaveformSet\r→ ephys.CuratedClustering.Unit\r→ probe.ElectrodeConfig.Electrode\r------------------------------\rwaveform_mean        \rwaveforms=null       \r\">\n",
       "<polygon fill=\"transparent\" stroke=\"transparent\" points=\"681.5,-19 529.5,-19 529.5,0 681.5,0 681.5,-19\"/>\n",
       "<text text-anchor=\"middle\" x=\"605.5\" y=\"-7\" font-family=\"arial\" font-size=\"10.00\">ephys.WaveformSet.Waveform</text>\n",
       "</a>\n",
       "</g>\n",
       "</g>\n",
       "<!-- probe.ElectrodeConfig.Electrode&#45;&gt;ephys.WaveformSet.Waveform -->\n",
       "<g id=\"edge9\" class=\"edge\">\n",
       "<title>probe.ElectrodeConfig.Electrode-&gt;ephys.WaveformSet.Waveform</title>\n",
       "<path fill=\"none\" stroke=\"#000000\" stroke-width=\"0.75\" stroke-opacity=\"0.250980\" d=\"M604.6,-417.98C604.86,-396.13 605.5,-336.33 605.5,-286.5 605.5,-286.5 605.5,-286.5 605.5,-142.5 605.5,-95.98 605.5,-40.24 605.5,-19.15\"/>\n",
       "</g>\n",
       "<!-- ephys.LFP.Electrode -->\n",
       "<g id=\"node22\" class=\"node\">\n",
       "<title>ephys.LFP.Electrode</title>\n",
       "<g id=\"a_node22\"><a xlink:title=\"→ ephys.LFP\r→ probe.ElectrodeConfig.Electrode\r------------------------------\rlfp                  \r\">\n",
       "<polygon fill=\"transparent\" stroke=\"transparent\" points=\"327,-295 220,-295 220,-276 327,-276 327,-295\"/>\n",
       "<text text-anchor=\"middle\" x=\"273.5\" y=\"-283\" font-family=\"arial\" font-size=\"10.00\">ephys.LFP.Electrode</text>\n",
       "</a>\n",
       "</g>\n",
       "</g>\n",
       "<!-- probe.ElectrodeConfig.Electrode&#45;&gt;ephys.LFP.Electrode -->\n",
       "<g id=\"edge10\" class=\"edge\">\n",
       "<title>probe.ElectrodeConfig.Electrode-&gt;ephys.LFP.Electrode</title>\n",
       "<path fill=\"none\" stroke=\"#000000\" stroke-width=\"0.75\" stroke-opacity=\"0.250980\" d=\"M596.38,-417.86C577.44,-397.9 530.43,-349.47 510.5,-339 452.3,-308.42 377.03,-295.61 327.1,-290.28\"/>\n",
       "</g>\n",
       "<!-- ephys.AcquisitionSoftware -->\n",
       "<g id=\"node7\" class=\"node\">\n",
       "<title>ephys.AcquisitionSoftware</title>\n",
       "<g id=\"a_node7\"><a xlink:title=\"acq_software         \r\">\n",
       "<polygon fill=\"#000000\" fill-opacity=\"0.125490\" stroke=\"transparent\" points=\"497,-516 364,-516 364,-481 497,-481 497,-516\"/>\n",
       "<text text-anchor=\"start\" x=\"372\" y=\"-497\" font-family=\"arial\" text-decoration=\"underline\" font-size=\"10.00\">ephys.AcquisitionSoftware</text>\n",
       "</a>\n",
       "</g>\n",
       "</g>\n",
       "<!-- ephys.AcquisitionSoftware&#45;&gt;ephys.EphysRecording -->\n",
       "<g id=\"edge11\" class=\"edge\">\n",
       "<title>ephys.AcquisitionSoftware-&gt;ephys.EphysRecording</title>\n",
       "<path fill=\"none\" stroke=\"#000000\" stroke-width=\"0.75\" stroke-dasharray=\"5,2\" stroke-opacity=\"0.250980\" d=\"M427.84,-480.8C426.11,-469.95 423.86,-455.87 422.14,-445.05\"/>\n",
       "</g>\n",
       "<!-- ephys.CuratedClustering.Unit&#45;&gt;ephys.WaveformSet.Waveform -->\n",
       "<g id=\"edge12\" class=\"edge\">\n",
       "<title>ephys.CuratedClustering.Unit-&gt;ephys.WaveformSet.Waveform</title>\n",
       "<path fill=\"none\" stroke=\"#000000\" stroke-width=\"0.75\" stroke-opacity=\"0.250980\" d=\"M334.62,-62.95C347.43,-60.38 361.53,-57.55 374.5,-55 439.22,-42.26 514.21,-27.88 560.76,-19\"/>\n",
       "</g>\n",
       "<!-- ephys.CuratedClustering.Unit&#45;&gt;ephys.QualityMetrics.Cluster -->\n",
       "<g id=\"edge13\" class=\"edge\">\n",
       "<title>ephys.CuratedClustering.Unit-&gt;ephys.QualityMetrics.Cluster</title>\n",
       "<path fill=\"none\" stroke=\"#000000\" stroke-width=\"2\" stroke-opacity=\"0.250980\" d=\"M261.3,-62.89C219.19,-51.26 144.57,-30.67 102.54,-19.07\"/>\n",
       "</g>\n",
       "<!-- ephys.CuratedClustering.Unit&#45;&gt;ephys.QualityMetrics.Waveform -->\n",
       "<g id=\"edge14\" class=\"edge\">\n",
       "<title>ephys.CuratedClustering.Unit-&gt;ephys.QualityMetrics.Waveform</title>\n",
       "<path fill=\"none\" stroke=\"#000000\" stroke-width=\"2\" stroke-opacity=\"0.250980\" d=\"M284.91,-62.76C274.83,-51.16 257.15,-30.81 247.08,-19.22\"/>\n",
       "</g>\n",
       "<!-- ephys.WaveformSet.PeakWaveform -->\n",
       "<g id=\"node24\" class=\"node\">\n",
       "<title>ephys.WaveformSet.PeakWaveform</title>\n",
       "<g id=\"a_node24\"><a xlink:title=\"→ ephys.WaveformSet\r→ ephys.CuratedClustering.Unit\r------------------------------\rpeak_electrode_waveform \r\">\n",
       "<polygon fill=\"transparent\" stroke=\"transparent\" points=\"511,-19 336,-19 336,0 511,0 511,-19\"/>\n",
       "<text text-anchor=\"middle\" x=\"423.5\" y=\"-7\" font-family=\"arial\" font-size=\"10.00\">ephys.WaveformSet.PeakWaveform</text>\n",
       "</a>\n",
       "</g>\n",
       "</g>\n",
       "<!-- ephys.CuratedClustering.Unit&#45;&gt;ephys.WaveformSet.PeakWaveform -->\n",
       "<g id=\"edge15\" class=\"edge\">\n",
       "<title>ephys.CuratedClustering.Unit-&gt;ephys.WaveformSet.PeakWaveform</title>\n",
       "<path fill=\"none\" stroke=\"#000000\" stroke-width=\"2\" stroke-opacity=\"0.250980\" d=\"M310.99,-62.89C335.96,-51.26 380.18,-30.67 405.1,-19.07\"/>\n",
       "</g>\n",
       "<!-- ephys.ClusterQualityLabel -->\n",
       "<g id=\"node10\" class=\"node\">\n",
       "<title>ephys.ClusterQualityLabel</title>\n",
       "<g id=\"a_node10\"><a xlink:title=\"cluster_quality_label \r------------------------------\rcluster_quality_description \r\">\n",
       "<polygon fill=\"#000000\" fill-opacity=\"0.125490\" stroke=\"transparent\" points=\"181,-161 50,-161 50,-126 181,-126 181,-161\"/>\n",
       "<text text-anchor=\"start\" x=\"58\" y=\"-142\" font-family=\"arial\" text-decoration=\"underline\" font-size=\"10.00\">ephys.ClusterQualityLabel</text>\n",
       "</a>\n",
       "</g>\n",
       "</g>\n",
       "<!-- ephys.ClusterQualityLabel&#45;&gt;ephys.CuratedClustering.Unit -->\n",
       "<g id=\"edge16\" class=\"edge\">\n",
       "<title>ephys.ClusterQualityLabel-&gt;ephys.CuratedClustering.Unit</title>\n",
       "<path fill=\"none\" stroke=\"#000000\" stroke-width=\"0.75\" stroke-dasharray=\"5,2\" stroke-opacity=\"0.250980\" d=\"M157.9,-125.97C193.28,-112.18 242.31,-93.06 270.39,-82.12\"/>\n",
       "</g>\n",
       "<!-- probe.ElectrodeConfig -->\n",
       "<g id=\"node11\" class=\"node\">\n",
       "<title>probe.ElectrodeConfig</title>\n",
       "<g id=\"a_node11\"><a xlink:title=\"electrode_config_hash \r------------------------------\r→ probe.ProbeType\relectrode_config_name \r\">\n",
       "<polygon fill=\"#000000\" fill-opacity=\"0.125490\" stroke=\"transparent\" points=\"650,-516 537,-516 537,-481 650,-481 650,-516\"/>\n",
       "<text text-anchor=\"start\" x=\"545\" y=\"-497\" font-family=\"arial\" text-decoration=\"underline\" font-size=\"10.00\">probe.ElectrodeConfig</text>\n",
       "</a>\n",
       "</g>\n",
       "</g>\n",
       "<!-- probe.ElectrodeConfig&#45;&gt;ephys.EphysRecording -->\n",
       "<g id=\"edge17\" class=\"edge\">\n",
       "<title>probe.ElectrodeConfig-&gt;ephys.EphysRecording</title>\n",
       "<path fill=\"none\" stroke=\"#000000\" stroke-width=\"0.75\" stroke-dasharray=\"5,2\" stroke-opacity=\"0.250980\" d=\"M551.82,-480.97C522.97,-469.53 484.88,-454.43 456.99,-443.36\"/>\n",
       "</g>\n",
       "<!-- probe.ElectrodeConfig&#45;&gt;probe.ElectrodeConfig.Electrode -->\n",
       "<g id=\"edge18\" class=\"edge\">\n",
       "<title>probe.ElectrodeConfig-&gt;probe.ElectrodeConfig.Electrode</title>\n",
       "<path fill=\"none\" stroke=\"#000000\" stroke-width=\"0.75\" stroke-opacity=\"0.250980\" d=\"M596.16,-480.8C598.35,-467.08 601.36,-448.19 603.1,-437.27\"/>\n",
       "</g>\n",
       "<!-- ephys.ProbeInsertion&#45;&gt;ephys.EphysRecording -->\n",
       "<g id=\"edge19\" class=\"edge\">\n",
       "<title>ephys.ProbeInsertion-&gt;ephys.EphysRecording</title>\n",
       "<path fill=\"none\" stroke=\"#000000\" stroke-width=\"2\" stroke-opacity=\"0.250980\" d=\"M313.79,-480.97C336.44,-469.73 366.21,-454.95 388.38,-443.95\"/>\n",
       "</g>\n",
       "<!-- ephys.ProbeInsertion&#45;&gt;ephys.InsertionLocation -->\n",
       "<g id=\"edge20\" class=\"edge\">\n",
       "<title>ephys.ProbeInsertion-&gt;ephys.InsertionLocation</title>\n",
       "<path fill=\"none\" stroke=\"#000000\" stroke-width=\"2\" stroke-opacity=\"0.250980\" d=\"M271.06,-480.8C264.93,-469.95 256.97,-455.87 250.85,-445.05\"/>\n",
       "</g>\n",
       "<!-- probe.ProbeType -->\n",
       "<g id=\"node13\" class=\"node\">\n",
       "<title>probe.ProbeType</title>\n",
       "<g id=\"a_node13\"><a xlink:title=\"probe_type           \r\">\n",
       "<polygon fill=\"#000000\" fill-opacity=\"0.125490\" stroke=\"transparent\" points=\"723.5,-658 633.5,-658 633.5,-623 723.5,-623 723.5,-658\"/>\n",
       "<text text-anchor=\"start\" x=\"641.5\" y=\"-639\" font-family=\"arial\" text-decoration=\"underline\" font-size=\"10.00\">probe.ProbeType</text>\n",
       "</a>\n",
       "</g>\n",
       "</g>\n",
       "<!-- probe.ProbeType&#45;&gt;probe.ElectrodeConfig -->\n",
       "<g id=\"edge21\" class=\"edge\">\n",
       "<title>probe.ProbeType-&gt;probe.ElectrodeConfig</title>\n",
       "<path fill=\"none\" stroke=\"#000000\" stroke-width=\"0.75\" stroke-dasharray=\"5,2\" stroke-opacity=\"0.250980\" d=\"M641.7,-622.79C627.06,-614.22 611.57,-602.32 602.5,-587 589.59,-565.18 589.64,-534.87 591.27,-516.25\"/>\n",
       "</g>\n",
       "<!-- probe.Probe -->\n",
       "<g id=\"node14\" class=\"node\">\n",
       "<title>probe.Probe</title>\n",
       "<g id=\"a_node14\"><a xlink:title=\"probe                \r------------------------------\r→ probe.ProbeType\rprobe_comment        \r\">\n",
       "<polygon fill=\"#000000\" fill-opacity=\"0.125490\" stroke=\"transparent\" points=\"499,-587 430,-587 430,-552 499,-552 499,-587\"/>\n",
       "<text text-anchor=\"start\" x=\"438\" y=\"-568\" font-family=\"arial\" text-decoration=\"underline\" font-size=\"10.00\">probe.Probe</text>\n",
       "</a>\n",
       "</g>\n",
       "</g>\n",
       "<!-- probe.ProbeType&#45;&gt;probe.Probe -->\n",
       "<g id=\"edge22\" class=\"edge\">\n",
       "<title>probe.ProbeType-&gt;probe.Probe</title>\n",
       "<path fill=\"none\" stroke=\"#000000\" stroke-width=\"0.75\" stroke-dasharray=\"5,2\" stroke-opacity=\"0.250980\" d=\"M633.38,-624.95C593.28,-612.02 535.51,-593.4 499.01,-581.63\"/>\n",
       "</g>\n",
       "<!-- probe.ProbeType.Electrode -->\n",
       "<g id=\"node21\" class=\"node\">\n",
       "<title>probe.ProbeType.Electrode</title>\n",
       "<g id=\"a_node21\"><a xlink:title=\"→ probe.ProbeType\relectrode            \r------------------------------\rshank                \rshank_col            \rshank_row            \rx_coord=null         \ry_coord=null         \r\">\n",
       "<polygon fill=\"transparent\" stroke=\"transparent\" points=\"745.5,-579 611.5,-579 611.5,-560 745.5,-560 745.5,-579\"/>\n",
       "<text text-anchor=\"start\" x=\"619.5\" y=\"-568\" font-family=\"arial\" text-decoration=\"underline\" font-size=\"10.00\">probe.ProbeType.Electrode</text>\n",
       "</a>\n",
       "</g>\n",
       "</g>\n",
       "<!-- probe.ProbeType&#45;&gt;probe.ProbeType.Electrode -->\n",
       "<g id=\"edge23\" class=\"edge\">\n",
       "<title>probe.ProbeType-&gt;probe.ProbeType.Electrode</title>\n",
       "<path fill=\"none\" stroke=\"#000000\" stroke-width=\"0.75\" stroke-opacity=\"0.250980\" d=\"M678.5,-622.8C678.5,-609.08 678.5,-590.19 678.5,-579.27\"/>\n",
       "</g>\n",
       "<!-- probe.Probe&#45;&gt;ephys.ProbeInsertion -->\n",
       "<g id=\"edge24\" class=\"edge\">\n",
       "<title>probe.Probe-&gt;ephys.ProbeInsertion</title>\n",
       "<path fill=\"none\" stroke=\"#000000\" stroke-width=\"0.75\" stroke-dasharray=\"5,2\" stroke-opacity=\"0.250980\" d=\"M429.89,-555.52C400.12,-544.36 356.99,-528.18 324.72,-516.08\"/>\n",
       "</g>\n",
       "<!-- ephys.LFP&#45;&gt;ephys.LFP.Electrode -->\n",
       "<g id=\"edge25\" class=\"edge\">\n",
       "<title>ephys.LFP-&gt;ephys.LFP.Electrode</title>\n",
       "<path fill=\"none\" stroke=\"#000000\" stroke-width=\"0.75\" stroke-opacity=\"0.250980\" d=\"M273.5,-338.8C273.5,-325.08 273.5,-306.19 273.5,-295.27\"/>\n",
       "</g>\n",
       "<!-- ephys.ClusteringParamSet&#45;&gt;ephys.ClusteringTask -->\n",
       "<g id=\"edge26\" class=\"edge\">\n",
       "<title>ephys.ClusteringParamSet-&gt;ephys.ClusteringTask</title>\n",
       "<path fill=\"none\" stroke=\"#000000\" stroke-width=\"0.75\" stroke-opacity=\"0.250980\" d=\"M96.85,-409.8C104.86,-398.95 115.27,-384.87 123.27,-374.05\"/>\n",
       "</g>\n",
       "<!-- ephys.Curation -->\n",
       "<g id=\"node17\" class=\"node\">\n",
       "<title>ephys.Curation</title>\n",
       "<g id=\"a_node17\"><a xlink:title=\"→ ephys.Clustering\rcuration_id          \r------------------------------\rcuration_time        \rcuration_output_dir  \rquality_control      \rmanual_curation      \rcuration_note        \r\">\n",
       "<polygon fill=\"#00ff00\" fill-opacity=\"0.188235\" stroke=\"#00ff00\" stroke-opacity=\"0.188235\" points=\"263.5,-232 165.5,-232 165.5,-197 263.5,-197 263.5,-232\"/>\n",
       "<text text-anchor=\"start\" x=\"173.5\" y=\"-212.4\" font-family=\"arial\" text-decoration=\"underline\" font-size=\"12.00\" fill=\"darkgreen\">ephys.Curation</text>\n",
       "</a>\n",
       "</g>\n",
       "</g>\n",
       "<!-- ephys.CuratedClustering -->\n",
       "<g id=\"node26\" class=\"node\">\n",
       "<title>ephys.CuratedClustering</title>\n",
       "<g id=\"a_node26\"><a xlink:title=\"→ ephys.Curation\r\">\n",
       "<ellipse fill=\"#00007f\" fill-opacity=\"0.250980\" stroke=\"#00007f\" stroke-opacity=\"0.250980\" cx=\"292.5\" cy=\"-143.5\" rx=\"93.25\" ry=\"17.5\"/>\n",
       "<text text-anchor=\"middle\" x=\"292.5\" y=\"-140.4\" font-family=\"arial\" font-size=\"12.00\" fill=\"#00007f\" fill-opacity=\"0.627451\">ephys.CuratedClustering</text>\n",
       "</a>\n",
       "</g>\n",
       "</g>\n",
       "<!-- ephys.Curation&#45;&gt;ephys.CuratedClustering -->\n",
       "<g id=\"edge27\" class=\"edge\">\n",
       "<title>ephys.Curation-&gt;ephys.CuratedClustering</title>\n",
       "<path fill=\"none\" stroke=\"#000000\" stroke-width=\"2\" stroke-opacity=\"0.250980\" d=\"M233.38,-196.8C245.74,-185.87 261.8,-171.66 274.06,-160.81\"/>\n",
       "</g>\n",
       "<!-- ephys.Clustering -->\n",
       "<g id=\"node18\" class=\"node\">\n",
       "<title>ephys.Clustering</title>\n",
       "<g id=\"a_node18\"><a xlink:title=\"→ ephys.ClusteringTask\r------------------------------\rclustering_time      \rpackage_version      \r\">\n",
       "<ellipse fill=\"#00007f\" fill-opacity=\"0.250980\" stroke=\"#00007f\" stroke-opacity=\"0.250980\" cx=\"135.5\" cy=\"-285.5\" rx=\"66.75\" ry=\"17.5\"/>\n",
       "<text text-anchor=\"middle\" x=\"135.5\" y=\"-282.4\" font-family=\"arial\" font-size=\"12.00\" fill=\"#00007f\" fill-opacity=\"0.627451\">ephys.Clustering</text>\n",
       "</a>\n",
       "</g>\n",
       "</g>\n",
       "<!-- ephys.Clustering&#45;&gt;ephys.Curation -->\n",
       "<g id=\"edge28\" class=\"edge\">\n",
       "<title>ephys.Clustering-&gt;ephys.Curation</title>\n",
       "<path fill=\"none\" stroke=\"#000000\" stroke-width=\"0.75\" stroke-opacity=\"0.250980\" d=\"M153.82,-268.5C166.31,-257.59 182.81,-243.18 195.45,-232.14\"/>\n",
       "</g>\n",
       "<!-- probe.ProbeType.Electrode&#45;&gt;probe.ElectrodeConfig.Electrode -->\n",
       "<g id=\"edge29\" class=\"edge\">\n",
       "<title>probe.ProbeType.Electrode-&gt;probe.ElectrodeConfig.Electrode</title>\n",
       "<path fill=\"none\" stroke=\"#000000\" stroke-width=\"0.75\" stroke-opacity=\"0.250980\" d=\"M678.27,-559.71C677.49,-543.23 674.1,-507.03 659.5,-481 649.17,-462.58 630.27,-446.68 617.54,-437.34\"/>\n",
       "</g>\n",
       "<!-- ephys.WaveformSet -->\n",
       "<g id=\"node23\" class=\"node\">\n",
       "<title>ephys.WaveformSet</title>\n",
       "<g id=\"a_node23\"><a xlink:title=\"→ ephys.CuratedClustering\r\">\n",
       "<ellipse fill=\"#00007f\" fill-opacity=\"0.250980\" stroke=\"#00007f\" stroke-opacity=\"0.250980\" cx=\"461.5\" cy=\"-72.5\" rx=\"77.5\" ry=\"17.5\"/>\n",
       "<text text-anchor=\"middle\" x=\"461.5\" y=\"-69.4\" font-family=\"arial\" font-size=\"12.00\" fill=\"#00007f\" fill-opacity=\"0.627451\">ephys.WaveformSet</text>\n",
       "</a>\n",
       "</g>\n",
       "</g>\n",
       "<!-- ephys.WaveformSet&#45;&gt;ephys.WaveformSet.Waveform -->\n",
       "<g id=\"edge30\" class=\"edge\">\n",
       "<title>ephys.WaveformSet-&gt;ephys.WaveformSet.Waveform</title>\n",
       "<path fill=\"none\" stroke=\"#000000\" stroke-width=\"0.75\" stroke-opacity=\"0.250980\" d=\"M496.36,-56.73C524.16,-44.96 562.13,-28.87 585.18,-19.11\"/>\n",
       "</g>\n",
       "<!-- ephys.WaveformSet&#45;&gt;ephys.WaveformSet.PeakWaveform -->\n",
       "<g id=\"edge31\" class=\"edge\">\n",
       "<title>ephys.WaveformSet-&gt;ephys.WaveformSet.PeakWaveform</title>\n",
       "<path fill=\"none\" stroke=\"#000000\" stroke-width=\"0.75\" stroke-opacity=\"0.250980\" d=\"M451.12,-54.83C443.91,-43.26 434.6,-28.32 428.84,-19.08\"/>\n",
       "</g>\n",
       "<!-- ephys.ClusteringTask&#45;&gt;ephys.Clustering -->\n",
       "<g id=\"edge32\" class=\"edge\">\n",
       "<title>ephys.ClusteringTask-&gt;ephys.Clustering</title>\n",
       "<path fill=\"none\" stroke=\"#000000\" stroke-width=\"2\" stroke-opacity=\"0.250980\" d=\"M135.5,-338.8C135.5,-327.95 135.5,-313.87 135.5,-303.05\"/>\n",
       "</g>\n",
       "<!-- ephys.CuratedClustering&#45;&gt;ephys.QualityMetrics -->\n",
       "<g id=\"edge33\" class=\"edge\">\n",
       "<title>ephys.CuratedClustering-&gt;ephys.QualityMetrics</title>\n",
       "<path fill=\"none\" stroke=\"#000000\" stroke-width=\"2\" stroke-opacity=\"0.250980\" d=\"M254.97,-127.36C226.07,-115.69 186.35,-99.67 157.77,-88.13\"/>\n",
       "</g>\n",
       "<!-- ephys.CuratedClustering&#45;&gt;ephys.CuratedClustering.Unit -->\n",
       "<g id=\"edge34\" class=\"edge\">\n",
       "<title>ephys.CuratedClustering-&gt;ephys.CuratedClustering.Unit</title>\n",
       "<path fill=\"none\" stroke=\"#000000\" stroke-width=\"0.75\" stroke-opacity=\"0.250980\" d=\"M292.5,-125.8C292.5,-112.08 292.5,-93.19 292.5,-82.27\"/>\n",
       "</g>\n",
       "<!-- ephys.CuratedClustering&#45;&gt;ephys.WaveformSet -->\n",
       "<g id=\"edge35\" class=\"edge\">\n",
       "<title>ephys.CuratedClustering-&gt;ephys.WaveformSet</title>\n",
       "<path fill=\"none\" stroke=\"#000000\" stroke-width=\"2\" stroke-opacity=\"0.250980\" d=\"M329.59,-127.36C358.15,-115.69 397.41,-99.67 425.66,-88.13\"/>\n",
       "</g>\n",
       "<!-- subject.Subject -->\n",
       "<g id=\"node27\" class=\"node\">\n",
       "<title>subject.Subject</title>\n",
       "<g id=\"a_node27\"><a xlink:title=\"subject              \r------------------------------\rsubject_nickname     \rsex                  \rsubject_birth_date   \rsubject_description  \r\">\n",
       "<polygon fill=\"#00ff00\" fill-opacity=\"0.188235\" stroke=\"#00ff00\" stroke-opacity=\"0.188235\" points=\"329.5,-658 231.5,-658 231.5,-623 329.5,-623 329.5,-658\"/>\n",
       "<text text-anchor=\"start\" x=\"239.5\" y=\"-638.4\" font-family=\"arial\" text-decoration=\"underline\" font-size=\"12.00\" fill=\"darkgreen\">subject.Subject</text>\n",
       "</a>\n",
       "</g>\n",
       "</g>\n",
       "<!-- subject.Subject&#45;&gt;session.Session -->\n",
       "<g id=\"edge36\" class=\"edge\">\n",
       "<title>subject.Subject-&gt;session.Session</title>\n",
       "<path fill=\"none\" stroke=\"#000000\" stroke-width=\"0.75\" stroke-opacity=\"0.250980\" d=\"M280.5,-622.8C280.5,-611.95 280.5,-597.87 280.5,-587.05\"/>\n",
       "</g>\n",
       "</g>\n",
       "</svg>"
      ],
      "text/plain": [
       "<datajoint.diagram.Diagram at 0x7fa2228cdb50>"
      ]
     },
     "execution_count": 3,
     "metadata": {},
     "output_type": "execute_result"
    }
   ],
   "source": [
    "(\n",
    "    dj.Diagram(subject.Subject)\n",
    "    + dj.Diagram(session.Session)\n",
    "    + dj.Diagram(probe)\n",
    "    + dj.Diagram(ephys)\n",
    ")"
   ]
  },
  {
   "attachments": {},
   "cell_type": "markdown",
   "metadata": {},
   "source": [
    "### Diagram Breakdown\n",
    "\n",
    "While the diagram above seems complex at first, it becomes more clear when it's\n",
    "approached as a hierarchy of tables that **define the order** in which the\n",
    "workflow **expects to receive data** in each of its tables. \n",
    "\n",
    "- Tables with a green, or rectangular shape expect to receive data manually\n",
    "  using the `insert()` function. The tables higher up in the diagram such as\n",
    "  `subject.Subject()` should be the first to receive data. This ensures data\n",
    "  integrity by preventing orphaned data within DataJoint schemas. \n",
    "- Tables with a purple oval or red circle can be automatically filled with relevant data\n",
    "  by calling `populate()`. For example `ephys.EphysRecording` and its part-table\n",
    "  `ephys.EphysRecording.EphysFile` are both populated with\n",
    "  `ephys.EphysRecording.populate()`.\n",
    "- Tables connected by a solid line depend on attributes (entries) in the table\n",
    "  above it.\n",
    "\n",
    "#### Table Types\n",
    "\n",
    "There are 5 table types in DataJoint. Each of these appear in the diagram above.\n",
    "\n",
    "- **Manual table**: green box, manually inserted table, expect new entries daily, e.g. `Subject`, `ProbeInsertion`.  \n",
    "- **Lookup table**: gray box, pre inserted table, commonly used for general facts or parameters. e.g. `Strain`, `ClusteringMethod`, `ClusteringParamSet`.  \n",
    "- **Imported table**: blue oval, auto-processing table, the processing depends on the importing of external files. e.g. process of `Clustering` requires output files from kilosort2.  \n",
    "- **Computed table**: red circle, auto-processing table, the processing does not\n",
    "  depend on files external to the database.  \n",
    "- **Part table**: plain text, as an appendix to the master table, all the part\n",
    "  entries of a given master entry represent a intact set of the master entry.\n",
    "  e.g. `Unit` of a `CuratedClustering`.\n"
   ]
  },
  {
   "attachments": {},
   "cell_type": "markdown",
   "metadata": {},
   "source": [
    "## Starting the workflow: Insert\n",
    "\n",
    "### Insert entries into manual tables\n",
    "\n",
    "To view details about a table's dependencies and attributes, use functions `.describe()`\n",
    "and `.heading`, respectively.\n",
    "\n",
    "Let's start with the first table in the schema diagram (the `subject` table) and view\n",
    "the table attributes we need to insert. There are two ways you can do this: *run each\n",
    "of the two cells below*"
   ]
  },
  {
   "cell_type": "code",
   "execution_count": 4,
   "metadata": {},
   "outputs": [
    {
     "name": "stdout",
     "output_type": "stream",
     "text": [
      "subject              : varchar(8)                   \n",
      "---\n",
      "subject_nickname     : varchar(64)                  \n",
      "sex                  : enum('M','F','U')            \n",
      "subject_birth_date   : date                         \n",
      "subject_description  : varchar(1024)                \n",
      "\n"
     ]
    }
   ],
   "source": [
    "print(subject.Subject.describe())"
   ]
  },
  {
   "cell_type": "code",
   "execution_count": 5,
   "metadata": {},
   "outputs": [
    {
     "data": {
      "text/plain": [
       "# \n",
       "subject              : varchar(8)                   # \n",
       "---\n",
       "subject_nickname     : varchar(64)                  # \n",
       "sex                  : enum('M','F','U')            # \n",
       "subject_birth_date   : date                         # \n",
       "subject_description  : varchar(1024)                # "
      ]
     },
     "execution_count": 5,
     "metadata": {},
     "output_type": "execute_result"
    }
   ],
   "source": [
    "subject.Subject.heading"
   ]
  },
  {
   "attachments": {},
   "cell_type": "markdown",
   "metadata": {},
   "source": [
    "The cells above show all attributes of the subject table. These are particularly useful functions if you are new to\n",
    "DataJoint Elements and are unsure of the attributes required for each table. We will insert data into the\n",
    "`subject.Subject` table."
   ]
  },
  {
   "cell_type": "code",
   "execution_count": 6,
   "metadata": {},
   "outputs": [
    {
     "data": {
      "text/html": [
       "\n",
       "    \n",
       "    <style type=\"text/css\">\n",
       "        .Table{\n",
       "            border-collapse:collapse;\n",
       "        }\n",
       "        .Table th{\n",
       "            background: #A0A0A0; color: #ffffff; padding:4px; border:#f0e0e0 1px solid;\n",
       "            font-weight: normal; font-family: monospace; font-size: 100%;\n",
       "        }\n",
       "        .Table td{\n",
       "            padding:4px; border:#f0e0e0 1px solid; font-size:100%;\n",
       "        }\n",
       "        .Table tr:nth-child(odd){\n",
       "            background: #ffffff;\n",
       "            color: #000000;\n",
       "        }\n",
       "        .Table tr:nth-child(even){\n",
       "            background: #f3f1ff;\n",
       "            color: #000000;\n",
       "        }\n",
       "        /* Tooltip container */\n",
       "        .djtooltip {\n",
       "        }\n",
       "        /* Tooltip text */\n",
       "        .djtooltip .djtooltiptext {\n",
       "            visibility: hidden;\n",
       "            width: 120px;\n",
       "            background-color: black;\n",
       "            color: #fff;\n",
       "            text-align: center;\n",
       "            padding: 5px 0;\n",
       "            border-radius: 6px;\n",
       "            /* Position the tooltip text - see examples below! */\n",
       "            position: absolute;\n",
       "            z-index: 1;\n",
       "        }\n",
       "        #primary {\n",
       "            font-weight: bold;\n",
       "            color: black;\n",
       "        }\n",
       "        #nonprimary {\n",
       "            font-weight: normal;\n",
       "            color: white;\n",
       "        }\n",
       "\n",
       "        /* Show the tooltip text when you mouse over the tooltip container */\n",
       "        .djtooltip:hover .djtooltiptext {\n",
       "            visibility: visible;\n",
       "        }\n",
       "    </style>\n",
       "    \n",
       "    <b></b>\n",
       "        <div style=\"max-height:1000px;max-width:1500px;overflow:auto;\">\n",
       "        <table border=\"1\" class=\"Table\">\n",
       "            <thead> <tr style=\"text-align: right;\"> <th> <div class=\"djtooltip\">\n",
       "                            <p id=\"primary\">subject</p>\n",
       "                            <span class=\"djtooltiptext\"></span>\n",
       "                        </div></th><th><div class=\"djtooltip\">\n",
       "                            <p id=\"nonprimary\">subject_nickname</p>\n",
       "                            <span class=\"djtooltiptext\"></span>\n",
       "                        </div></th><th><div class=\"djtooltip\">\n",
       "                            <p id=\"nonprimary\">sex</p>\n",
       "                            <span class=\"djtooltiptext\"></span>\n",
       "                        </div></th><th><div class=\"djtooltip\">\n",
       "                            <p id=\"nonprimary\">subject_birth_date</p>\n",
       "                            <span class=\"djtooltiptext\"></span>\n",
       "                        </div></th><th><div class=\"djtooltip\">\n",
       "                            <p id=\"nonprimary\">subject_description</p>\n",
       "                            <span class=\"djtooltiptext\"></span>\n",
       "                        </div> </th> </tr> </thead>\n",
       "            <tbody> <tr> <td>subject5</td>\n",
       "<td>subject5</td>\n",
       "<td>U</td>\n",
       "<td>2023-01-01</td>\n",
       "<td>Example subject</td> </tr> </tbody>\n",
       "        </table>\n",
       "        \n",
       "        <p>Total: 1</p></div>\n",
       "        "
      ],
      "text/plain": [
       "*subject     subject_nickna sex     subject_birth_ subject_descri\n",
       "+----------+ +------------+ +-----+ +------------+ +------------+\n",
       "subject5     subject5       U       2023-01-01     Example subjec\n",
       " (Total: 1)"
      ]
     },
     "execution_count": 6,
     "metadata": {},
     "output_type": "execute_result"
    }
   ],
   "source": [
    "subject.Subject.insert1(\n",
    "    dict(\n",
    "        subject='subject5',\n",
    "        subject_nickname='subject5',\n",
    "        subject_birth_date='2023-01-01',\n",
    "        sex='U',\n",
    "        subject_description='Example subject'\n",
    "    )\n",
    ")\n",
    "subject.Subject()"
   ]
  },
  {
   "attachments": {},
   "cell_type": "markdown",
   "metadata": {},
   "source": [
    "Let's repeat the steps above for the `Session` table and see how the output varies between\n",
    "`.describe` and `.heading`."
   ]
  },
  {
   "cell_type": "code",
   "execution_count": 7,
   "metadata": {},
   "outputs": [
    {
     "name": "stdout",
     "output_type": "stream",
     "text": [
      "-> subject.Subject\n",
      "session_datetime     : datetime                     \n",
      "\n"
     ]
    }
   ],
   "source": [
    "print(session.Session.describe())"
   ]
  },
  {
   "cell_type": "code",
   "execution_count": 8,
   "metadata": {},
   "outputs": [
    {
     "data": {
      "text/plain": [
       "# \n",
       "subject              : varchar(8)                   # \n",
       "session_datetime     : datetime                     # "
      ]
     },
     "execution_count": 8,
     "metadata": {},
     "output_type": "execute_result"
    }
   ],
   "source": [
    "session.Session.heading"
   ]
  },
  {
   "attachments": {},
   "cell_type": "markdown",
   "metadata": {},
   "source": [
    "The cells above show the dependencies and attributes for the `session.Session` table.\n",
    "Notice that `describe` shows the dependencies of the table on upstream tables. The\n",
    "`Session` table depends on the upstream `Subject` table. \n",
    "\n",
    "Whereas `heading` lists all the attributes of the `Session` table, regardless of\n",
    "whether they are declared in an upstream table. \n",
    "\n",
    "Here we will demonstrate a very useful way of inserting data by assigning the dictionary\n",
    "to a variable `session_key`. This variable can be used to insert entries into tables that\n",
    "contain the `Session` table as one of its attributes."
   ]
  },
  {
   "cell_type": "code",
   "execution_count": 9,
   "metadata": {},
   "outputs": [
    {
     "data": {
      "text/html": [
       "\n",
       "    \n",
       "    <style type=\"text/css\">\n",
       "        .Table{\n",
       "            border-collapse:collapse;\n",
       "        }\n",
       "        .Table th{\n",
       "            background: #A0A0A0; color: #ffffff; padding:4px; border:#f0e0e0 1px solid;\n",
       "            font-weight: normal; font-family: monospace; font-size: 100%;\n",
       "        }\n",
       "        .Table td{\n",
       "            padding:4px; border:#f0e0e0 1px solid; font-size:100%;\n",
       "        }\n",
       "        .Table tr:nth-child(odd){\n",
       "            background: #ffffff;\n",
       "            color: #000000;\n",
       "        }\n",
       "        .Table tr:nth-child(even){\n",
       "            background: #f3f1ff;\n",
       "            color: #000000;\n",
       "        }\n",
       "        /* Tooltip container */\n",
       "        .djtooltip {\n",
       "        }\n",
       "        /* Tooltip text */\n",
       "        .djtooltip .djtooltiptext {\n",
       "            visibility: hidden;\n",
       "            width: 120px;\n",
       "            background-color: black;\n",
       "            color: #fff;\n",
       "            text-align: center;\n",
       "            padding: 5px 0;\n",
       "            border-radius: 6px;\n",
       "            /* Position the tooltip text - see examples below! */\n",
       "            position: absolute;\n",
       "            z-index: 1;\n",
       "        }\n",
       "        #primary {\n",
       "            font-weight: bold;\n",
       "            color: black;\n",
       "        }\n",
       "        #nonprimary {\n",
       "            font-weight: normal;\n",
       "            color: white;\n",
       "        }\n",
       "\n",
       "        /* Show the tooltip text when you mouse over the tooltip container */\n",
       "        .djtooltip:hover .djtooltiptext {\n",
       "            visibility: visible;\n",
       "        }\n",
       "    </style>\n",
       "    \n",
       "    <b></b>\n",
       "        <div style=\"max-height:1000px;max-width:1500px;overflow:auto;\">\n",
       "        <table border=\"1\" class=\"Table\">\n",
       "            <thead> <tr style=\"text-align: right;\"> <th> <div class=\"djtooltip\">\n",
       "                            <p id=\"primary\">subject</p>\n",
       "                            <span class=\"djtooltiptext\"></span>\n",
       "                        </div></th><th><div class=\"djtooltip\">\n",
       "                            <p id=\"primary\">session_datetime</p>\n",
       "                            <span class=\"djtooltiptext\"></span>\n",
       "                        </div> </th> </tr> </thead>\n",
       "            <tbody> <tr> <td>subject5</td>\n",
       "<td>2023-06-30 03:34:20</td> </tr> </tbody>\n",
       "        </table>\n",
       "        \n",
       "        <p>Total: 1</p></div>\n",
       "        "
      ],
      "text/plain": [
       "*subject     *session_datet\n",
       "+----------+ +------------+\n",
       "subject5     2023-06-30 03:\n",
       " (Total: 1)"
      ]
     },
     "execution_count": 9,
     "metadata": {},
     "output_type": "execute_result"
    }
   ],
   "source": [
    "session_key = dict(subject='subject5', \n",
    "                   session_datetime=datetime.datetime.now())\n",
    "\n",
    "session.Session.insert1(session_key)\n",
    "session.Session()"
   ]
  },
  {
   "attachments": {},
   "cell_type": "markdown",
   "metadata": {},
   "source": [
    "The `SessionDirectory` table locates the relevant data files in a directory path\n",
    "relative to the root directory defined in your `dj.config[\"custom\"]`. More\n",
    "information about `dj.config` is provided at the end of this tutorial and is\n",
    "particularly useful for local deployments of this workflow."
   ]
  },
  {
   "cell_type": "code",
   "execution_count": 10,
   "metadata": {},
   "outputs": [
    {
     "name": "stdout",
     "output_type": "stream",
     "text": [
      "-> session.Session\n",
      "---\n",
      "session_dir          : varchar(256)                 # Path to the data directory for a session\n",
      "\n"
     ]
    }
   ],
   "source": [
    "print(session.SessionDirectory.describe())"
   ]
  },
  {
   "cell_type": "code",
   "execution_count": 11,
   "metadata": {},
   "outputs": [
    {
     "data": {
      "text/plain": [
       "# \n",
       "subject              : varchar(8)                   # \n",
       "session_datetime     : datetime                     # \n",
       "---\n",
       "session_dir          : varchar(256)                 # Path to the data directory for a session"
      ]
     },
     "execution_count": 11,
     "metadata": {},
     "output_type": "execute_result"
    }
   ],
   "source": [
    "session.SessionDirectory.heading"
   ]
  },
  {
   "cell_type": "code",
   "execution_count": 12,
   "metadata": {},
   "outputs": [
    {
     "data": {
      "text/html": [
       "\n",
       "    \n",
       "    <style type=\"text/css\">\n",
       "        .Table{\n",
       "            border-collapse:collapse;\n",
       "        }\n",
       "        .Table th{\n",
       "            background: #A0A0A0; color: #ffffff; padding:4px; border:#f0e0e0 1px solid;\n",
       "            font-weight: normal; font-family: monospace; font-size: 100%;\n",
       "        }\n",
       "        .Table td{\n",
       "            padding:4px; border:#f0e0e0 1px solid; font-size:100%;\n",
       "        }\n",
       "        .Table tr:nth-child(odd){\n",
       "            background: #ffffff;\n",
       "            color: #000000;\n",
       "        }\n",
       "        .Table tr:nth-child(even){\n",
       "            background: #f3f1ff;\n",
       "            color: #000000;\n",
       "        }\n",
       "        /* Tooltip container */\n",
       "        .djtooltip {\n",
       "        }\n",
       "        /* Tooltip text */\n",
       "        .djtooltip .djtooltiptext {\n",
       "            visibility: hidden;\n",
       "            width: 120px;\n",
       "            background-color: black;\n",
       "            color: #fff;\n",
       "            text-align: center;\n",
       "            padding: 5px 0;\n",
       "            border-radius: 6px;\n",
       "            /* Position the tooltip text - see examples below! */\n",
       "            position: absolute;\n",
       "            z-index: 1;\n",
       "        }\n",
       "        #primary {\n",
       "            font-weight: bold;\n",
       "            color: black;\n",
       "        }\n",
       "        #nonprimary {\n",
       "            font-weight: normal;\n",
       "            color: white;\n",
       "        }\n",
       "\n",
       "        /* Show the tooltip text when you mouse over the tooltip container */\n",
       "        .djtooltip:hover .djtooltiptext {\n",
       "            visibility: visible;\n",
       "        }\n",
       "    </style>\n",
       "    \n",
       "    <b></b>\n",
       "        <div style=\"max-height:1000px;max-width:1500px;overflow:auto;\">\n",
       "        <table border=\"1\" class=\"Table\">\n",
       "            <thead> <tr style=\"text-align: right;\"> <th> <div class=\"djtooltip\">\n",
       "                            <p id=\"primary\">subject</p>\n",
       "                            <span class=\"djtooltiptext\"></span>\n",
       "                        </div></th><th><div class=\"djtooltip\">\n",
       "                            <p id=\"primary\">session_datetime</p>\n",
       "                            <span class=\"djtooltiptext\"></span>\n",
       "                        </div></th><th><div class=\"djtooltip\">\n",
       "                            <p id=\"nonprimary\">session_dir</p>\n",
       "                            <span class=\"djtooltiptext\">Path to the data directory for a session</span>\n",
       "                        </div> </th> </tr> </thead>\n",
       "            <tbody> <tr> <td>subject5</td>\n",
       "<td>2023-06-30 03:34:20</td>\n",
       "<td>subject5/session1</td> </tr> </tbody>\n",
       "        </table>\n",
       "        \n",
       "        <p>Total: 1</p></div>\n",
       "        "
      ],
      "text/plain": [
       "*subject     *session_datet session_dir   \n",
       "+----------+ +------------+ +------------+\n",
       "subject5     2023-06-30 03: subject5/sessi\n",
       " (Total: 1)"
      ]
     },
     "execution_count": 12,
     "metadata": {},
     "output_type": "execute_result"
    }
   ],
   "source": [
    "session.SessionDirectory.insert1(\n",
    "    dict(\n",
    "        session_key, \n",
    "        session_dir='subject5/session1'\n",
    "    )\n",
    ")\n",
    "session.SessionDirectory()"
   ]
  },
  {
   "attachments": {},
   "cell_type": "markdown",
   "metadata": {},
   "source": [
    "As the workflow diagram indicates, the tables in the `probe` schemas need to\n",
    "contain data before the tables in the `ephys` schema accept any data. Let's\n",
    "start by inserting into `probe.Probe`, a table containing metadata about a\n",
    "multielectrode probe. "
   ]
  },
  {
   "cell_type": "code",
   "execution_count": 13,
   "metadata": {},
   "outputs": [
    {
     "name": "stdout",
     "output_type": "stream",
     "text": [
      "# Represent a physical probe with unique identification\n",
      "probe                : varchar(32)                  # unique identifier for this model of probe (e.g. serial number)\n",
      "---\n",
      "-> probe.ProbeType\n",
      "probe_comment        : varchar(1000)                \n",
      "\n"
     ]
    }
   ],
   "source": [
    "print(probe.Probe.describe())"
   ]
  },
  {
   "cell_type": "code",
   "execution_count": 14,
   "metadata": {},
   "outputs": [
    {
     "data": {
      "text/plain": [
       "# Represent a physical probe with unique identification\n",
       "probe                : varchar(32)                  # unique identifier for this model of probe (e.g. serial number)\n",
       "---\n",
       "probe_type           : varchar(32)                  # e.g. neuropixels_1.0\n",
       "probe_comment        : varchar(1000)                # "
      ]
     },
     "execution_count": 14,
     "metadata": {},
     "output_type": "execute_result"
    }
   ],
   "source": [
    "probe.Probe.heading"
   ]
  },
  {
   "cell_type": "code",
   "execution_count": 15,
   "metadata": {},
   "outputs": [
    {
     "data": {
      "text/html": [
       "\n",
       "    \n",
       "    <style type=\"text/css\">\n",
       "        .Table{\n",
       "            border-collapse:collapse;\n",
       "        }\n",
       "        .Table th{\n",
       "            background: #A0A0A0; color: #ffffff; padding:4px; border:#f0e0e0 1px solid;\n",
       "            font-weight: normal; font-family: monospace; font-size: 100%;\n",
       "        }\n",
       "        .Table td{\n",
       "            padding:4px; border:#f0e0e0 1px solid; font-size:100%;\n",
       "        }\n",
       "        .Table tr:nth-child(odd){\n",
       "            background: #ffffff;\n",
       "            color: #000000;\n",
       "        }\n",
       "        .Table tr:nth-child(even){\n",
       "            background: #f3f1ff;\n",
       "            color: #000000;\n",
       "        }\n",
       "        /* Tooltip container */\n",
       "        .djtooltip {\n",
       "        }\n",
       "        /* Tooltip text */\n",
       "        .djtooltip .djtooltiptext {\n",
       "            visibility: hidden;\n",
       "            width: 120px;\n",
       "            background-color: black;\n",
       "            color: #fff;\n",
       "            text-align: center;\n",
       "            padding: 5px 0;\n",
       "            border-radius: 6px;\n",
       "            /* Position the tooltip text - see examples below! */\n",
       "            position: absolute;\n",
       "            z-index: 1;\n",
       "        }\n",
       "        #primary {\n",
       "            font-weight: bold;\n",
       "            color: black;\n",
       "        }\n",
       "        #nonprimary {\n",
       "            font-weight: normal;\n",
       "            color: white;\n",
       "        }\n",
       "\n",
       "        /* Show the tooltip text when you mouse over the tooltip container */\n",
       "        .djtooltip:hover .djtooltiptext {\n",
       "            visibility: visible;\n",
       "        }\n",
       "    </style>\n",
       "    \n",
       "    <b>Represent a physical probe with unique identification</b>\n",
       "        <div style=\"max-height:1000px;max-width:1500px;overflow:auto;\">\n",
       "        <table border=\"1\" class=\"Table\">\n",
       "            <thead> <tr style=\"text-align: right;\"> <th> <div class=\"djtooltip\">\n",
       "                            <p id=\"primary\">probe</p>\n",
       "                            <span class=\"djtooltiptext\">unique identifier for this model of probe (e.g. serial number)</span>\n",
       "                        </div></th><th><div class=\"djtooltip\">\n",
       "                            <p id=\"nonprimary\">probe_type</p>\n",
       "                            <span class=\"djtooltiptext\">e.g. neuropixels_1.0</span>\n",
       "                        </div></th><th><div class=\"djtooltip\">\n",
       "                            <p id=\"nonprimary\">probe_comment</p>\n",
       "                            <span class=\"djtooltiptext\"></span>\n",
       "                        </div> </th> </tr> </thead>\n",
       "            <tbody> <tr> <td>714000838</td>\n",
       "<td>neuropixels 1.0 - 3B</td>\n",
       "<td>Example probe</td> </tr> </tbody>\n",
       "        </table>\n",
       "        \n",
       "        <p>Total: 1</p></div>\n",
       "        "
      ],
      "text/plain": [
       "*probe        probe_type     probe_comment \n",
       "+-----------+ +------------+ +------------+\n",
       "714000838     neuropixels 1. Example probe \n",
       " (Total: 1)"
      ]
     },
     "execution_count": 15,
     "metadata": {},
     "output_type": "execute_result"
    }
   ],
   "source": [
    "probe.Probe.insert1(\n",
    "    dict(probe=\"714000838\", \n",
    "         probe_type=\"neuropixels 1.0 - 3B\",\n",
    "         probe_comment=\"Example probe\")\n",
    ")  # this info could be achieve from neuropixels meta file.\n",
    "probe.Probe()"
   ]
  },
  {
   "attachments": {},
   "cell_type": "markdown",
   "metadata": {},
   "source": [
    "The probe metadata is used by the downstream `ProbeInsertion` table which we\n",
    "insert data into in the cells below:"
   ]
  },
  {
   "cell_type": "code",
   "execution_count": 16,
   "metadata": {},
   "outputs": [
    {
     "name": "stdout",
     "output_type": "stream",
     "text": [
      "# Probe insertion implanted into an animal for a given session.\n",
      "-> session.Session\n",
      "insertion_number     : tinyint unsigned             \n",
      "---\n",
      "-> probe.Probe\n",
      "\n"
     ]
    }
   ],
   "source": [
    "print(ephys.ProbeInsertion.describe())"
   ]
  },
  {
   "cell_type": "code",
   "execution_count": 17,
   "metadata": {},
   "outputs": [
    {
     "data": {
      "text/plain": [
       "# Probe insertion implanted into an animal for a given session.\n",
       "subject              : varchar(8)                   # \n",
       "session_datetime     : datetime                     # \n",
       "insertion_number     : tinyint unsigned             # \n",
       "---\n",
       "probe                : varchar(32)                  # unique identifier for this model of probe (e.g. serial number)"
      ]
     },
     "execution_count": 17,
     "metadata": {},
     "output_type": "execute_result"
    }
   ],
   "source": [
    "ephys.ProbeInsertion.heading"
   ]
  },
  {
   "cell_type": "code",
   "execution_count": 18,
   "metadata": {},
   "outputs": [
    {
     "data": {
      "text/html": [
       "\n",
       "    \n",
       "    <style type=\"text/css\">\n",
       "        .Table{\n",
       "            border-collapse:collapse;\n",
       "        }\n",
       "        .Table th{\n",
       "            background: #A0A0A0; color: #ffffff; padding:4px; border:#f0e0e0 1px solid;\n",
       "            font-weight: normal; font-family: monospace; font-size: 100%;\n",
       "        }\n",
       "        .Table td{\n",
       "            padding:4px; border:#f0e0e0 1px solid; font-size:100%;\n",
       "        }\n",
       "        .Table tr:nth-child(odd){\n",
       "            background: #ffffff;\n",
       "            color: #000000;\n",
       "        }\n",
       "        .Table tr:nth-child(even){\n",
       "            background: #f3f1ff;\n",
       "            color: #000000;\n",
       "        }\n",
       "        /* Tooltip container */\n",
       "        .djtooltip {\n",
       "        }\n",
       "        /* Tooltip text */\n",
       "        .djtooltip .djtooltiptext {\n",
       "            visibility: hidden;\n",
       "            width: 120px;\n",
       "            background-color: black;\n",
       "            color: #fff;\n",
       "            text-align: center;\n",
       "            padding: 5px 0;\n",
       "            border-radius: 6px;\n",
       "            /* Position the tooltip text - see examples below! */\n",
       "            position: absolute;\n",
       "            z-index: 1;\n",
       "        }\n",
       "        #primary {\n",
       "            font-weight: bold;\n",
       "            color: black;\n",
       "        }\n",
       "        #nonprimary {\n",
       "            font-weight: normal;\n",
       "            color: white;\n",
       "        }\n",
       "\n",
       "        /* Show the tooltip text when you mouse over the tooltip container */\n",
       "        .djtooltip:hover .djtooltiptext {\n",
       "            visibility: visible;\n",
       "        }\n",
       "    </style>\n",
       "    \n",
       "    <b>Probe insertion implanted into an animal for a given session.</b>\n",
       "        <div style=\"max-height:1000px;max-width:1500px;overflow:auto;\">\n",
       "        <table border=\"1\" class=\"Table\">\n",
       "            <thead> <tr style=\"text-align: right;\"> <th> <div class=\"djtooltip\">\n",
       "                            <p id=\"primary\">subject</p>\n",
       "                            <span class=\"djtooltiptext\"></span>\n",
       "                        </div></th><th><div class=\"djtooltip\">\n",
       "                            <p id=\"primary\">session_datetime</p>\n",
       "                            <span class=\"djtooltiptext\"></span>\n",
       "                        </div></th><th><div class=\"djtooltip\">\n",
       "                            <p id=\"primary\">insertion_number</p>\n",
       "                            <span class=\"djtooltiptext\"></span>\n",
       "                        </div></th><th><div class=\"djtooltip\">\n",
       "                            <p id=\"nonprimary\">probe</p>\n",
       "                            <span class=\"djtooltiptext\">unique identifier for this model of probe (e.g. serial number)</span>\n",
       "                        </div> </th> </tr> </thead>\n",
       "            <tbody> <tr> <td>subject5</td>\n",
       "<td>2023-06-30 03:34:20</td>\n",
       "<td>1</td>\n",
       "<td>714000838</td> </tr> </tbody>\n",
       "        </table>\n",
       "        \n",
       "        <p>Total: 1</p></div>\n",
       "        "
      ],
      "text/plain": [
       "*subject     *session_datet *insertion_num probe        \n",
       "+----------+ +------------+ +------------+ +-----------+\n",
       "subject5     2023-06-30 03: 1              714000838    \n",
       " (Total: 1)"
      ]
     },
     "execution_count": 18,
     "metadata": {},
     "output_type": "execute_result"
    }
   ],
   "source": [
    "ephys.ProbeInsertion.insert1(\n",
    "    dict(\n",
    "        session_key,\n",
    "        insertion_number=1,\n",
    "        probe=\"714000838\",\n",
    "    )\n",
    ") # probe, subject, session_datetime needs to follow the restrictions of foreign keys.\n",
    "ephys.ProbeInsertion()"
   ]
  },
  {
   "attachments": {},
   "cell_type": "markdown",
   "metadata": {},
   "source": [
    "## Populate\n",
    "\n",
    "### Automatically populate tables\n",
    "\n",
    "`ephys.EphysRecording` is the first table in the pipeline that can be populated automatically.\n",
    "If a table contains a part table, this part table is also populated during the\n",
    "`populate()` call. `populate()` takes several arguments including the a session\n",
    "key. This key restricts `populate()` to performing the operation on the session\n",
    "of interest rather than all possible sessions which could be a time-intensive\n",
    "process for databases with lots of entries.\n",
    "\n",
    "Let's view the `ephys.EphysRecording` and its part table\n",
    "`ephys.EphysRecording.EphysFile` and populate both through a single `populate()`\n",
    "call."
   ]
  },
  {
   "cell_type": "code",
   "execution_count": 19,
   "metadata": {},
   "outputs": [
    {
     "data": {
      "text/plain": [
       "# Ephys recording from a probe insertion for a given session.\n",
       "subject              : varchar(8)                   # \n",
       "session_datetime     : datetime                     # \n",
       "insertion_number     : tinyint unsigned             # \n",
       "---\n",
       "electrode_config_hash : uuid                         # \n",
       "acq_software         : varchar(24)                  # \n",
       "sampling_rate        : float                        # (Hz)\n",
       "recording_datetime   : datetime                     # datetime of the recording from this probe\n",
       "recording_duration   : float                        # (seconds) duration of the recording from this probe"
      ]
     },
     "execution_count": 19,
     "metadata": {},
     "output_type": "execute_result"
    }
   ],
   "source": [
    "ephys.EphysRecording.heading"
   ]
  },
  {
   "cell_type": "code",
   "execution_count": 20,
   "metadata": {},
   "outputs": [
    {
     "data": {
      "text/plain": [
       "# Paths of files of a given EphysRecording round.\n",
       "subject              : varchar(8)                   # \n",
       "session_datetime     : datetime                     # \n",
       "insertion_number     : tinyint unsigned             # \n",
       "file_path            : varchar(255)                 # filepath relative to root data directory"
      ]
     },
     "execution_count": 20,
     "metadata": {},
     "output_type": "execute_result"
    }
   ],
   "source": [
    "ephys.EphysRecording.EphysFile.heading"
   ]
  },
  {
   "cell_type": "code",
   "execution_count": 21,
   "metadata": {},
   "outputs": [
    {
     "data": {
      "text/html": [
       "\n",
       "    \n",
       "    <style type=\"text/css\">\n",
       "        .Table{\n",
       "            border-collapse:collapse;\n",
       "        }\n",
       "        .Table th{\n",
       "            background: #A0A0A0; color: #ffffff; padding:4px; border:#f0e0e0 1px solid;\n",
       "            font-weight: normal; font-family: monospace; font-size: 100%;\n",
       "        }\n",
       "        .Table td{\n",
       "            padding:4px; border:#f0e0e0 1px solid; font-size:100%;\n",
       "        }\n",
       "        .Table tr:nth-child(odd){\n",
       "            background: #ffffff;\n",
       "            color: #000000;\n",
       "        }\n",
       "        .Table tr:nth-child(even){\n",
       "            background: #f3f1ff;\n",
       "            color: #000000;\n",
       "        }\n",
       "        /* Tooltip container */\n",
       "        .djtooltip {\n",
       "        }\n",
       "        /* Tooltip text */\n",
       "        .djtooltip .djtooltiptext {\n",
       "            visibility: hidden;\n",
       "            width: 120px;\n",
       "            background-color: black;\n",
       "            color: #fff;\n",
       "            text-align: center;\n",
       "            padding: 5px 0;\n",
       "            border-radius: 6px;\n",
       "            /* Position the tooltip text - see examples below! */\n",
       "            position: absolute;\n",
       "            z-index: 1;\n",
       "        }\n",
       "        #primary {\n",
       "            font-weight: bold;\n",
       "            color: black;\n",
       "        }\n",
       "        #nonprimary {\n",
       "            font-weight: normal;\n",
       "            color: white;\n",
       "        }\n",
       "\n",
       "        /* Show the tooltip text when you mouse over the tooltip container */\n",
       "        .djtooltip:hover .djtooltiptext {\n",
       "            visibility: visible;\n",
       "        }\n",
       "    </style>\n",
       "    \n",
       "    <b>Ephys recording from a probe insertion for a given session.</b>\n",
       "        <div style=\"max-height:1000px;max-width:1500px;overflow:auto;\">\n",
       "        <table border=\"1\" class=\"Table\">\n",
       "            <thead> <tr style=\"text-align: right;\"> <th> <div class=\"djtooltip\">\n",
       "                            <p id=\"primary\">subject</p>\n",
       "                            <span class=\"djtooltiptext\"></span>\n",
       "                        </div></th><th><div class=\"djtooltip\">\n",
       "                            <p id=\"primary\">session_datetime</p>\n",
       "                            <span class=\"djtooltiptext\"></span>\n",
       "                        </div></th><th><div class=\"djtooltip\">\n",
       "                            <p id=\"primary\">insertion_number</p>\n",
       "                            <span class=\"djtooltiptext\"></span>\n",
       "                        </div></th><th><div class=\"djtooltip\">\n",
       "                            <p id=\"nonprimary\">electrode_config_hash</p>\n",
       "                            <span class=\"djtooltiptext\"></span>\n",
       "                        </div></th><th><div class=\"djtooltip\">\n",
       "                            <p id=\"nonprimary\">acq_software</p>\n",
       "                            <span class=\"djtooltiptext\"></span>\n",
       "                        </div></th><th><div class=\"djtooltip\">\n",
       "                            <p id=\"nonprimary\">sampling_rate</p>\n",
       "                            <span class=\"djtooltiptext\">(Hz)</span>\n",
       "                        </div></th><th><div class=\"djtooltip\">\n",
       "                            <p id=\"nonprimary\">recording_datetime</p>\n",
       "                            <span class=\"djtooltiptext\">datetime of the recording from this probe</span>\n",
       "                        </div></th><th><div class=\"djtooltip\">\n",
       "                            <p id=\"nonprimary\">recording_duration</p>\n",
       "                            <span class=\"djtooltiptext\">(seconds) duration of the recording from this probe</span>\n",
       "                        </div> </th> </tr> </thead>\n",
       "            <tbody> <tr>  </tr> </tbody>\n",
       "        </table>\n",
       "        \n",
       "        <p>Total: 0</p></div>\n",
       "        "
      ],
      "text/plain": [
       "*subject    *session_datet *insertion_num electrode_conf acq_software   sampling_rate  recording_date recording_dura\n",
       "+---------+ +------------+ +------------+ +------------+ +------------+ +------------+ +------------+ +------------+\n",
       "\n",
       " (Total: 0)"
      ]
     },
     "execution_count": 21,
     "metadata": {},
     "output_type": "execute_result"
    }
   ],
   "source": [
    "ephys.EphysRecording()"
   ]
  },
  {
   "cell_type": "code",
   "execution_count": 22,
   "metadata": {},
   "outputs": [
    {
     "data": {
      "text/html": [
       "\n",
       "    \n",
       "    <style type=\"text/css\">\n",
       "        .Table{\n",
       "            border-collapse:collapse;\n",
       "        }\n",
       "        .Table th{\n",
       "            background: #A0A0A0; color: #ffffff; padding:4px; border:#f0e0e0 1px solid;\n",
       "            font-weight: normal; font-family: monospace; font-size: 100%;\n",
       "        }\n",
       "        .Table td{\n",
       "            padding:4px; border:#f0e0e0 1px solid; font-size:100%;\n",
       "        }\n",
       "        .Table tr:nth-child(odd){\n",
       "            background: #ffffff;\n",
       "            color: #000000;\n",
       "        }\n",
       "        .Table tr:nth-child(even){\n",
       "            background: #f3f1ff;\n",
       "            color: #000000;\n",
       "        }\n",
       "        /* Tooltip container */\n",
       "        .djtooltip {\n",
       "        }\n",
       "        /* Tooltip text */\n",
       "        .djtooltip .djtooltiptext {\n",
       "            visibility: hidden;\n",
       "            width: 120px;\n",
       "            background-color: black;\n",
       "            color: #fff;\n",
       "            text-align: center;\n",
       "            padding: 5px 0;\n",
       "            border-radius: 6px;\n",
       "            /* Position the tooltip text - see examples below! */\n",
       "            position: absolute;\n",
       "            z-index: 1;\n",
       "        }\n",
       "        #primary {\n",
       "            font-weight: bold;\n",
       "            color: black;\n",
       "        }\n",
       "        #nonprimary {\n",
       "            font-weight: normal;\n",
       "            color: white;\n",
       "        }\n",
       "\n",
       "        /* Show the tooltip text when you mouse over the tooltip container */\n",
       "        .djtooltip:hover .djtooltiptext {\n",
       "            visibility: visible;\n",
       "        }\n",
       "    </style>\n",
       "    \n",
       "    <b>Paths of files of a given EphysRecording round.</b>\n",
       "        <div style=\"max-height:1000px;max-width:1500px;overflow:auto;\">\n",
       "        <table border=\"1\" class=\"Table\">\n",
       "            <thead> <tr style=\"text-align: right;\"> <th> <div class=\"djtooltip\">\n",
       "                            <p id=\"primary\">subject</p>\n",
       "                            <span class=\"djtooltiptext\"></span>\n",
       "                        </div></th><th><div class=\"djtooltip\">\n",
       "                            <p id=\"primary\">session_datetime</p>\n",
       "                            <span class=\"djtooltiptext\"></span>\n",
       "                        </div></th><th><div class=\"djtooltip\">\n",
       "                            <p id=\"primary\">insertion_number</p>\n",
       "                            <span class=\"djtooltiptext\"></span>\n",
       "                        </div></th><th><div class=\"djtooltip\">\n",
       "                            <p id=\"primary\">file_path</p>\n",
       "                            <span class=\"djtooltiptext\">filepath relative to root data directory</span>\n",
       "                        </div> </th> </tr> </thead>\n",
       "            <tbody> <tr>  </tr> </tbody>\n",
       "        </table>\n",
       "        \n",
       "        <p>Total: 0</p></div>\n",
       "        "
      ],
      "text/plain": [
       "*subject    *session_datet *insertion_num *file_path   \n",
       "+---------+ +------------+ +------------+ +-----------+\n",
       "\n",
       " (Total: 0)"
      ]
     },
     "execution_count": 22,
     "metadata": {},
     "output_type": "execute_result"
    }
   ],
   "source": [
    "ephys.EphysRecording.EphysFile()"
   ]
  },
  {
   "cell_type": "code",
   "execution_count": 23,
   "metadata": {},
   "outputs": [
    {
     "name": "stderr",
     "output_type": "stream",
     "text": [
      "EphysRecording:   0%|          | 0/1 [00:00<?, ?it/s]"
     ]
    },
    {
     "name": "stderr",
     "output_type": "stream",
     "text": [
      "EphysRecording: 100%|██████████| 1/1 [00:02<00:00,  2.07s/it]\n"
     ]
    }
   ],
   "source": [
    "ephys.EphysRecording.populate(session_key, display_progress=True)"
   ]
  },
  {
   "attachments": {},
   "cell_type": "markdown",
   "metadata": {},
   "source": [
    "Let's view the information was entered into each of these tables:"
   ]
  },
  {
   "cell_type": "code",
   "execution_count": 24,
   "metadata": {},
   "outputs": [
    {
     "data": {
      "text/html": [
       "\n",
       "    \n",
       "    <style type=\"text/css\">\n",
       "        .Table{\n",
       "            border-collapse:collapse;\n",
       "        }\n",
       "        .Table th{\n",
       "            background: #A0A0A0; color: #ffffff; padding:4px; border:#f0e0e0 1px solid;\n",
       "            font-weight: normal; font-family: monospace; font-size: 100%;\n",
       "        }\n",
       "        .Table td{\n",
       "            padding:4px; border:#f0e0e0 1px solid; font-size:100%;\n",
       "        }\n",
       "        .Table tr:nth-child(odd){\n",
       "            background: #ffffff;\n",
       "            color: #000000;\n",
       "        }\n",
       "        .Table tr:nth-child(even){\n",
       "            background: #f3f1ff;\n",
       "            color: #000000;\n",
       "        }\n",
       "        /* Tooltip container */\n",
       "        .djtooltip {\n",
       "        }\n",
       "        /* Tooltip text */\n",
       "        .djtooltip .djtooltiptext {\n",
       "            visibility: hidden;\n",
       "            width: 120px;\n",
       "            background-color: black;\n",
       "            color: #fff;\n",
       "            text-align: center;\n",
       "            padding: 5px 0;\n",
       "            border-radius: 6px;\n",
       "            /* Position the tooltip text - see examples below! */\n",
       "            position: absolute;\n",
       "            z-index: 1;\n",
       "        }\n",
       "        #primary {\n",
       "            font-weight: bold;\n",
       "            color: black;\n",
       "        }\n",
       "        #nonprimary {\n",
       "            font-weight: normal;\n",
       "            color: white;\n",
       "        }\n",
       "\n",
       "        /* Show the tooltip text when you mouse over the tooltip container */\n",
       "        .djtooltip:hover .djtooltiptext {\n",
       "            visibility: visible;\n",
       "        }\n",
       "    </style>\n",
       "    \n",
       "    <b>Ephys recording from a probe insertion for a given session.</b>\n",
       "        <div style=\"max-height:1000px;max-width:1500px;overflow:auto;\">\n",
       "        <table border=\"1\" class=\"Table\">\n",
       "            <thead> <tr style=\"text-align: right;\"> <th> <div class=\"djtooltip\">\n",
       "                            <p id=\"primary\">subject</p>\n",
       "                            <span class=\"djtooltiptext\"></span>\n",
       "                        </div></th><th><div class=\"djtooltip\">\n",
       "                            <p id=\"primary\">session_datetime</p>\n",
       "                            <span class=\"djtooltiptext\"></span>\n",
       "                        </div></th><th><div class=\"djtooltip\">\n",
       "                            <p id=\"primary\">insertion_number</p>\n",
       "                            <span class=\"djtooltiptext\"></span>\n",
       "                        </div></th><th><div class=\"djtooltip\">\n",
       "                            <p id=\"nonprimary\">electrode_config_hash</p>\n",
       "                            <span class=\"djtooltiptext\"></span>\n",
       "                        </div></th><th><div class=\"djtooltip\">\n",
       "                            <p id=\"nonprimary\">acq_software</p>\n",
       "                            <span class=\"djtooltiptext\"></span>\n",
       "                        </div></th><th><div class=\"djtooltip\">\n",
       "                            <p id=\"nonprimary\">sampling_rate</p>\n",
       "                            <span class=\"djtooltiptext\">(Hz)</span>\n",
       "                        </div></th><th><div class=\"djtooltip\">\n",
       "                            <p id=\"nonprimary\">recording_datetime</p>\n",
       "                            <span class=\"djtooltiptext\">datetime of the recording from this probe</span>\n",
       "                        </div></th><th><div class=\"djtooltip\">\n",
       "                            <p id=\"nonprimary\">recording_duration</p>\n",
       "                            <span class=\"djtooltiptext\">(seconds) duration of the recording from this probe</span>\n",
       "                        </div> </th> </tr> </thead>\n",
       "            <tbody> <tr> <td>subject5</td>\n",
       "<td>2023-06-30 03:34:20</td>\n",
       "<td>1</td>\n",
       "<td>8d4cc6d8-a02d-42c8-bf27-7459c39ea0ee</td>\n",
       "<td>SpikeGLX</td>\n",
       "<td>30000.0</td>\n",
       "<td>2018-07-03 20:32:28</td>\n",
       "<td>338.666</td> </tr> </tbody>\n",
       "        </table>\n",
       "        \n",
       "        <p>Total: 1</p></div>\n",
       "        "
      ],
      "text/plain": [
       "*subject     *session_datet *insertion_num electrode_conf acq_software   sampling_rate  recording_date recording_dura\n",
       "+----------+ +------------+ +------------+ +------------+ +------------+ +------------+ +------------+ +------------+\n",
       "subject5     2023-06-30 03: 1              8d4cc6d8-a02d- SpikeGLX       30000.0        2018-07-03 20: 338.666       \n",
       " (Total: 1)"
      ]
     },
     "execution_count": 24,
     "metadata": {},
     "output_type": "execute_result"
    }
   ],
   "source": [
    "ephys.EphysRecording()"
   ]
  },
  {
   "cell_type": "code",
   "execution_count": 25,
   "metadata": {},
   "outputs": [
    {
     "data": {
      "text/html": [
       "\n",
       "    \n",
       "    <style type=\"text/css\">\n",
       "        .Table{\n",
       "            border-collapse:collapse;\n",
       "        }\n",
       "        .Table th{\n",
       "            background: #A0A0A0; color: #ffffff; padding:4px; border:#f0e0e0 1px solid;\n",
       "            font-weight: normal; font-family: monospace; font-size: 100%;\n",
       "        }\n",
       "        .Table td{\n",
       "            padding:4px; border:#f0e0e0 1px solid; font-size:100%;\n",
       "        }\n",
       "        .Table tr:nth-child(odd){\n",
       "            background: #ffffff;\n",
       "            color: #000000;\n",
       "        }\n",
       "        .Table tr:nth-child(even){\n",
       "            background: #f3f1ff;\n",
       "            color: #000000;\n",
       "        }\n",
       "        /* Tooltip container */\n",
       "        .djtooltip {\n",
       "        }\n",
       "        /* Tooltip text */\n",
       "        .djtooltip .djtooltiptext {\n",
       "            visibility: hidden;\n",
       "            width: 120px;\n",
       "            background-color: black;\n",
       "            color: #fff;\n",
       "            text-align: center;\n",
       "            padding: 5px 0;\n",
       "            border-radius: 6px;\n",
       "            /* Position the tooltip text - see examples below! */\n",
       "            position: absolute;\n",
       "            z-index: 1;\n",
       "        }\n",
       "        #primary {\n",
       "            font-weight: bold;\n",
       "            color: black;\n",
       "        }\n",
       "        #nonprimary {\n",
       "            font-weight: normal;\n",
       "            color: white;\n",
       "        }\n",
       "\n",
       "        /* Show the tooltip text when you mouse over the tooltip container */\n",
       "        .djtooltip:hover .djtooltiptext {\n",
       "            visibility: visible;\n",
       "        }\n",
       "    </style>\n",
       "    \n",
       "    <b>Paths of files of a given EphysRecording round.</b>\n",
       "        <div style=\"max-height:1000px;max-width:1500px;overflow:auto;\">\n",
       "        <table border=\"1\" class=\"Table\">\n",
       "            <thead> <tr style=\"text-align: right;\"> <th> <div class=\"djtooltip\">\n",
       "                            <p id=\"primary\">subject</p>\n",
       "                            <span class=\"djtooltiptext\"></span>\n",
       "                        </div></th><th><div class=\"djtooltip\">\n",
       "                            <p id=\"primary\">session_datetime</p>\n",
       "                            <span class=\"djtooltiptext\"></span>\n",
       "                        </div></th><th><div class=\"djtooltip\">\n",
       "                            <p id=\"primary\">insertion_number</p>\n",
       "                            <span class=\"djtooltiptext\"></span>\n",
       "                        </div></th><th><div class=\"djtooltip\">\n",
       "                            <p id=\"primary\">file_path</p>\n",
       "                            <span class=\"djtooltiptext\">filepath relative to root data directory</span>\n",
       "                        </div> </th> </tr> </thead>\n",
       "            <tbody> <tr> <td>subject5</td>\n",
       "<td>2023-06-30 03:34:20</td>\n",
       "<td>1</td>\n",
       "<td>subject5/session1/probe_1/npx_g0_t0.imec.ap.meta</td> </tr> </tbody>\n",
       "        </table>\n",
       "        \n",
       "        <p>Total: 1</p></div>\n",
       "        "
      ],
      "text/plain": [
       "*subject     *session_datet *insertion_num *file_path    \n",
       "+----------+ +------------+ +------------+ +------------+\n",
       "subject5     2023-06-30 03: 1              subject5/sessi\n",
       " (Total: 1)"
      ]
     },
     "execution_count": 25,
     "metadata": {},
     "output_type": "execute_result"
    }
   ],
   "source": [
    "ephys.EphysRecording.EphysFile()"
   ]
  },
  {
   "attachments": {},
   "cell_type": "markdown",
   "metadata": {},
   "source": [
    "We're almost ready to spike sort the data with `kilosort`. An important step before\n",
    "processing is managing the parameters which will be used in that step. To do so, we will\n",
    "define the kilosort parameters in a dictionary and insert them into a DataJoint table\n",
    "`ClusteringParamSet`. This table keeps track of all combinations of your spike sorting\n",
    "parameters. You can choose which parameters are used during processing in a later step.\n",
    "\n",
    "Let's view the attributes and insert data into `ephys.ClusteringParamSet`."
   ]
  },
  {
   "cell_type": "code",
   "execution_count": 26,
   "metadata": {},
   "outputs": [
    {
     "data": {
      "text/plain": [
       "# Parameter set to be used in a clustering procedure\n",
       "paramset_idx         : smallint                     # \n",
       "---\n",
       "clustering_method    : varchar(16)                  # \n",
       "paramset_desc        : varchar(128)                 # \n",
       "param_set_hash       : uuid                         # \n",
       "params               : longblob                     # dictionary of all applicable parameters"
      ]
     },
     "execution_count": 26,
     "metadata": {},
     "output_type": "execute_result"
    }
   ],
   "source": [
    "ephys.ClusteringParamSet.heading"
   ]
  },
  {
   "cell_type": "code",
   "execution_count": 27,
   "metadata": {},
   "outputs": [
    {
     "data": {
      "text/html": [
       "\n",
       "    \n",
       "    <style type=\"text/css\">\n",
       "        .Table{\n",
       "            border-collapse:collapse;\n",
       "        }\n",
       "        .Table th{\n",
       "            background: #A0A0A0; color: #ffffff; padding:4px; border:#f0e0e0 1px solid;\n",
       "            font-weight: normal; font-family: monospace; font-size: 100%;\n",
       "        }\n",
       "        .Table td{\n",
       "            padding:4px; border:#f0e0e0 1px solid; font-size:100%;\n",
       "        }\n",
       "        .Table tr:nth-child(odd){\n",
       "            background: #ffffff;\n",
       "            color: #000000;\n",
       "        }\n",
       "        .Table tr:nth-child(even){\n",
       "            background: #f3f1ff;\n",
       "            color: #000000;\n",
       "        }\n",
       "        /* Tooltip container */\n",
       "        .djtooltip {\n",
       "        }\n",
       "        /* Tooltip text */\n",
       "        .djtooltip .djtooltiptext {\n",
       "            visibility: hidden;\n",
       "            width: 120px;\n",
       "            background-color: black;\n",
       "            color: #fff;\n",
       "            text-align: center;\n",
       "            padding: 5px 0;\n",
       "            border-radius: 6px;\n",
       "            /* Position the tooltip text - see examples below! */\n",
       "            position: absolute;\n",
       "            z-index: 1;\n",
       "        }\n",
       "        #primary {\n",
       "            font-weight: bold;\n",
       "            color: black;\n",
       "        }\n",
       "        #nonprimary {\n",
       "            font-weight: normal;\n",
       "            color: white;\n",
       "        }\n",
       "\n",
       "        /* Show the tooltip text when you mouse over the tooltip container */\n",
       "        .djtooltip:hover .djtooltiptext {\n",
       "            visibility: visible;\n",
       "        }\n",
       "    </style>\n",
       "    \n",
       "    <b>Parameter set to be used in a clustering procedure</b>\n",
       "        <div style=\"max-height:1000px;max-width:1500px;overflow:auto;\">\n",
       "        <table border=\"1\" class=\"Table\">\n",
       "            <thead> <tr style=\"text-align: right;\"> <th> <div class=\"djtooltip\">\n",
       "                            <p id=\"primary\">paramset_idx</p>\n",
       "                            <span class=\"djtooltiptext\"></span>\n",
       "                        </div></th><th><div class=\"djtooltip\">\n",
       "                            <p id=\"nonprimary\">clustering_method</p>\n",
       "                            <span class=\"djtooltiptext\"></span>\n",
       "                        </div></th><th><div class=\"djtooltip\">\n",
       "                            <p id=\"nonprimary\">paramset_desc</p>\n",
       "                            <span class=\"djtooltiptext\"></span>\n",
       "                        </div></th><th><div class=\"djtooltip\">\n",
       "                            <p id=\"nonprimary\">param_set_hash</p>\n",
       "                            <span class=\"djtooltiptext\"></span>\n",
       "                        </div></th><th><div class=\"djtooltip\">\n",
       "                            <p id=\"nonprimary\">params</p>\n",
       "                            <span class=\"djtooltiptext\">dictionary of all applicable parameters</span>\n",
       "                        </div> </th> </tr> </thead>\n",
       "            <tbody> <tr> <td>0</td>\n",
       "<td>kilosort2</td>\n",
       "<td>Spike sorting using Kilosort2</td>\n",
       "<td>de78cee1-526f-319e-b6d5-8a2ba04963d8</td>\n",
       "<td>=BLOB=</td> </tr> </tbody>\n",
       "        </table>\n",
       "        \n",
       "        <p>Total: 1</p></div>\n",
       "        "
      ],
      "text/plain": [
       "*paramset_idx  clustering_met paramset_desc  param_set_hash params    \n",
       "+------------+ +------------+ +------------+ +------------+ +--------+\n",
       "0              kilosort2      Spike sorting  de78cee1-526f- =BLOB=    \n",
       " (Total: 1)"
      ]
     },
     "execution_count": 27,
     "metadata": {},
     "output_type": "execute_result"
    }
   ],
   "source": [
    "# insert clustering task manually\n",
    "params_ks = {\n",
    "    \"fs\": 30000,\n",
    "    \"fshigh\": 150,\n",
    "    \"minfr_goodchannels\": 0.1,\n",
    "    \"Th\": [10, 4],\n",
    "    \"lam\": 10,\n",
    "    \"AUCsplit\": 0.9,\n",
    "    \"minFR\": 0.02,\n",
    "    \"momentum\": [20, 400],\n",
    "    \"sigmaMask\": 30,\n",
    "    \"ThPr\": 8,\n",
    "    \"spkTh\": -6,\n",
    "    \"reorder\": 1,\n",
    "    \"nskip\": 25,\n",
    "    \"GPU\": 1,\n",
    "    \"Nfilt\": 1024,\n",
    "    \"nfilt_factor\": 4,\n",
    "    \"ntbuff\": 64,\n",
    "    \"whiteningRange\": 32,\n",
    "    \"nSkipCov\": 25,\n",
    "    \"scaleproc\": 200,\n",
    "    \"nPCs\": 3,\n",
    "    \"useRAM\": 0,\n",
    "}\n",
    "ephys.ClusteringParamSet.insert_new_params(\n",
    "    clustering_method=\"kilosort2\",\n",
    "    paramset_idx=0,\n",
    "    params=params_ks,\n",
    "    paramset_desc=\"Spike sorting using Kilosort2\",\n",
    ")\n",
    "ephys.ClusteringParamSet()"
   ]
  },
  {
   "attachments": {},
   "cell_type": "markdown",
   "metadata": {},
   "source": [
    "Now that we've inserted kilosort parameters into the `ClusteringParamSet` table,\n",
    "we're almost ready to sort our data. DataJoint uses a `ClusteringTask` table to\n",
    "manage which `EphysRecording` and `ClusteringParamSet` should be used during processing. \n",
    "\n",
    "This table is important for defining several important aspects of\n",
    "downstream processing. Let's view the attributes to get a better understanding. "
   ]
  },
  {
   "cell_type": "code",
   "execution_count": 28,
   "metadata": {},
   "outputs": [
    {
     "name": "stdout",
     "output_type": "stream",
     "text": [
      "# Manual table for defining a clustering task ready to be run\n",
      "-> ephys.EphysRecording\n",
      "-> ephys.ClusteringParamSet\n",
      "---\n",
      "clustering_output_dir : varchar(255)                 # clustering output directory relative to the clustering root data directory\n",
      "task_mode            : enum('load','trigger')       # 'load': load computed analysis results, 'trigger': trigger computation\n",
      "\n"
     ]
    }
   ],
   "source": [
    "print(ephys.ClusteringTask.describe())"
   ]
  },
  {
   "cell_type": "code",
   "execution_count": 29,
   "metadata": {},
   "outputs": [
    {
     "data": {
      "text/plain": [
       "# Manual table for defining a clustering task ready to be run\n",
       "subject              : varchar(8)                   # \n",
       "session_datetime     : datetime                     # \n",
       "insertion_number     : tinyint unsigned             # \n",
       "paramset_idx         : smallint                     # \n",
       "---\n",
       "clustering_output_dir : varchar(255)                 # clustering output directory relative to the clustering root data directory\n",
       "task_mode            : enum('load','trigger')       # 'load': load computed analysis results, 'trigger': trigger computation"
      ]
     },
     "execution_count": 29,
     "metadata": {},
     "output_type": "execute_result"
    }
   ],
   "source": [
    "ephys.ClusteringTask.heading"
   ]
  },
  {
   "attachments": {},
   "cell_type": "markdown",
   "metadata": {},
   "source": [
    "The `ClusteringTask` table contains two important attributes: \n",
    "+ `paramset_idx` \n",
    "+ `task_mode` \n",
    "\n",
    "The `paramset_idx` attribute is tracks\n",
    "your kilosort parameter sets. You can choose the parameter set using which \n",
    "you want spike sort ephys data. For example, `paramset_idx=0` may contain\n",
    "default parameters for kilosort processing whereas `paramset_idx=1` contains your custom parameters for sorting. This\n",
    "attribute tells the `Processing` table which set of parameters you are processing in a given `populate()`.\n",
    "\n",
    "The `task_mode` attribute can be set to either `load` or `trigger`. When set to `load`,\n",
    "running the processing step initiates a search for exisiting kilosort output files. When set to `trigger`, the\n",
    "processing step will run kilosort on the raw data. "
   ]
  },
  {
   "cell_type": "code",
   "execution_count": 30,
   "metadata": {},
   "outputs": [],
   "source": [
    "ephys.ClusteringTask.insert1(\n",
    "    dict(\n",
    "        session_key,\n",
    "        insertion_number=1,\n",
    "        paramset_idx=0,\n",
    "        task_mode='load', # load or trigger\n",
    "        clustering_output_dir=\"subject5/session1/probe_1/kilosort2-5_1\"\n",
    "    )\n",
    ")"
   ]
  },
  {
   "attachments": {},
   "cell_type": "markdown",
   "metadata": {},
   "source": [
    "Notice we set the `task_mode` to `load`. Let's call populate on the `Clustering`\n",
    "table in the pipeline."
   ]
  },
  {
   "cell_type": "code",
   "execution_count": 31,
   "metadata": {},
   "outputs": [
    {
     "name": "stderr",
     "output_type": "stream",
     "text": [
      "Clustering:   0%|          | 0/1 [00:00<?, ?it/s]"
     ]
    },
    {
     "name": "stderr",
     "output_type": "stream",
     "text": [
      "Clustering: 100%|██████████| 1/1 [00:00<00:00,  1.85it/s]\n"
     ]
    }
   ],
   "source": [
    "ephys.Clustering.populate(session_key, display_progress=True)"
   ]
  },
  {
   "attachments": {},
   "cell_type": "markdown",
   "metadata": {},
   "source": [
    "While spike sorting is completed in the above step, you can optionally curate\n",
    "the output of image processing using the `Curation` table. For this demo, we\n",
    "will simply use the results of the spike sorting output from the `Clustering` task."
   ]
  },
  {
   "cell_type": "code",
   "execution_count": 32,
   "metadata": {},
   "outputs": [
    {
     "data": {
      "text/plain": [
       "# Manual curation procedure\n",
       "subject              : varchar(8)                   # \n",
       "session_datetime     : datetime                     # \n",
       "insertion_number     : tinyint unsigned             # \n",
       "paramset_idx         : smallint                     # \n",
       "curation_id          : int                          # \n",
       "---\n",
       "curation_time        : datetime                     # time of generation of this set of curated clustering results\n",
       "curation_output_dir  : varchar(255)                 # output directory of the curated results, relative to root data directory\n",
       "quality_control      : tinyint                      # has this clustering result undergone quality control?\n",
       "manual_curation      : tinyint                      # has manual curation been performed on this clustering result?\n",
       "curation_note        : varchar(2000)                # "
      ]
     },
     "execution_count": 32,
     "metadata": {},
     "output_type": "execute_result"
    }
   ],
   "source": [
    "ephys.Curation.heading"
   ]
  },
  {
   "cell_type": "code",
   "execution_count": 33,
   "metadata": {},
   "outputs": [],
   "source": [
    "clustering_key = (ephys.ClusteringTask & session_key).fetch1('KEY')\n",
    "ephys.Curation().create1_from_clustering_task(clustering_key)"
   ]
  },
  {
   "attachments": {},
   "cell_type": "markdown",
   "metadata": {},
   "source": [
    "Once the `Curation` table receives an entry, we can populate the remaining\n",
    "tables in the workflow including `CuratedClustering`, `WaveformSet`, and `LFP`. "
   ]
  },
  {
   "cell_type": "code",
   "execution_count": 34,
   "metadata": {},
   "outputs": [
    {
     "name": "stderr",
     "output_type": "stream",
     "text": [
      "CuratedClustering:   0%|          | 0/1 [00:00<?, ?it/s]"
     ]
    },
    {
     "name": "stderr",
     "output_type": "stream",
     "text": [
      "/home/vscode/.local/lib/python3.9/site-packages/element_array_ephys/readers/kilosort.py:172: RuntimeWarning: invalid value encountered in divide\n",
      "  self._data[\"spike_depths\"] = np.sum(\n",
      "CuratedClustering: 100%|██████████| 1/1 [00:26<00:00, 26.13s/it]\n",
      "LFP: 100%|██████████| 1/1 [01:27<00:00, 87.95s/it]\n",
      "WaveformSet: 100%|██████████| 1/1 [00:53<00:00, 53.70s/it]\n"
     ]
    }
   ],
   "source": [
    "ephys.CuratedClustering.populate(session_key, display_progress=True)\n",
    "ephys.LFP.populate(session_key, display_progress=True)\n",
    "ephys.WaveformSet.populate(session_key, display_progress=True)"
   ]
  },
  {
   "attachments": {},
   "cell_type": "markdown",
   "metadata": {},
   "source": [
    "Now that we've populated the tables in this workflow, there are one of\n",
    "several next steps. If you have an existing workflow for\n",
    "aligning waveforms to behavior data or other stimuli, you can easily\n",
    "invoke `element-event` or define your custom DataJoint tables to extend the\n",
    "pipeline.\n",
    "\n",
    "In this tutorial, we will do some exploratory analysis by fetching the data from the database and creating a few plots.\n",
    "\n",
    "## Query\n",
    "\n",
    "This section focuses on working with data that is already in the\n",
    "database. \n",
    "\n",
    "DataJoint queries allow you to view and import data from the database into a python\n",
    "variable using the `fetch()` method. \n",
    "\n",
    "There are several important features supported by `fetch()`:\n",
    "- By default, an empty `fetch()` imports a list of dictionaries containing all\n",
    "  attributes of all entries in the table that is queried.\n",
    "- **`fetch1()`**, on the other hand, imports a dictionary containing all attributes of\n",
    "  one of the entries in the table. By default, if a table has multiple entries,\n",
    "  `fetch1()` imports the first entry in the table.\n",
    "- Both `fetch()` and `fetch1()` accept table attributes as an argument to query\n",
    "  that particular attribute. For example `fetch1('fps')` will fetch the first\n",
    "  value of the `fps` attribute if it exists in the table.\n",
    "- Recommended best practice is to **restrict** queries by primary key attributes of the\n",
    "  table to ensure the accuracy of imported data.\n",
    "    - The most common restriction for entries in DataJoint tables is performed\n",
    "      using the `&` operator. For example to fetch all session start times belonging to\n",
    "      `subject1`, a possible query could be `subject1_sessions =\n",
    "      (session.Session & \"subject = 'subject1'\").fetch(\"session_datetime\")`.  \n",
    "- `fetch()` can also be used to obtain the primary keys of a table. To fetch the primary\n",
    "  keys of a table use `<table_name>.fetch(\"KEY\")` syntax.\n",
    "\n",
    "Let's walk through these concepts of querying by moving from simple to more\n",
    "complex queries."
   ]
  },
  {
   "cell_type": "code",
   "execution_count": 35,
   "metadata": {},
   "outputs": [],
   "source": [
    "lfp_average = (ephys.LFP & \"insertion_number = '1'\").fetch1(\"lfp_mean\")"
   ]
  },
  {
   "attachments": {},
   "cell_type": "markdown",
   "metadata": {},
   "source": [
    "In the query above, we fetch a single `lfp_mean` attribute from the `LFP` table.\n",
    "We also restrict the query to insertion number 1.\n",
    "\n",
    "Let's go ahead and plot the LFP mean."
   ]
  },
  {
   "cell_type": "code",
   "execution_count": 36,
   "metadata": {},
   "outputs": [
    {
     "data": {
      "image/png": "[encoded data removed]",
      "text/plain": [
       "<Figure size 640x480 with 1 Axes>"
      ]
     },
     "metadata": {},
     "output_type": "display_data"
    }
   ],
   "source": [
    "plt.plot(lfp_average)\n",
    "plt.title(\"Average LFP Waveform for Insertion 1\")\n",
    "plt.xlabel(\"Samples\")\n",
    "plt.ylabel(\"microvolts (uV)\");"
   ]
  },
  {
   "attachments": {},
   "cell_type": "markdown",
   "metadata": {},
   "source": [
    "DataJoint queries are a highly flexible tool to manipulate and visualize your data.\n",
    "After all, visualizing traces or generating rasters is likely just the start of\n",
    "your analysis workflow. This can also make the queries seem more complex at\n",
    "first. However, we'll walk through them slowly to simplify their content in this notebook. \n",
    "\n",
    "The examples below perform several operations using DataJoint queries:\n",
    "- Fetch the primary key attributes of all units that are in `insertion_number=1`.\n",
    "- Use **multiple restrictions** to fetch timestamps and create a raster plot.\n",
    "- Use a **join** operation and **multiple restrictions** to fetch a waveform\n",
    "  trace, along with unit data to create a single waveform plot"
   ]
  },
  {
   "cell_type": "code",
   "execution_count": 37,
   "metadata": {},
   "outputs": [],
   "source": [
    "insert_key = (ephys.ProbeInsertion & \"insertion_number = '1'\").fetch1(\"KEY\")\n",
    "units, unit_spiketimes = (ephys.CuratedClustering.Unit & insert_key & 'unit IN (\"6\",\"7\",\"9\",\"14\",\"15\",\"17\",\"19\")').fetch(\"unit\", \"spike_times\")\n"
   ]
  },
  {
   "cell_type": "code",
   "execution_count": 38,
   "metadata": {},
   "outputs": [
    {
     "data": {
      "image/png": "[encoded data removed]",
      "text/plain": [
       "<Figure size 640x480 with 1 Axes>"
      ]
     },
     "metadata": {},
     "output_type": "display_data"
    }
   ],
   "source": [
    "x = np.hstack(unit_spiketimes)\n",
    "y = np.hstack([np.full_like(s, u) for u, s in zip(units, unit_spiketimes)])\n",
    "plt.plot(x, y, \"|\")\n",
    "plt.xlabel(\"Time (s)\")\n",
    "plt.ylabel(\"Unit\");"
   ]
  },
  {
   "cell_type": "code",
   "execution_count": 39,
   "metadata": {},
   "outputs": [],
   "source": [
    "unit_key = (ephys.CuratedClustering.Unit & insert_key & \"unit = '15'\").fetch1(\"KEY\")\n",
    "unit_data = (ephys.CuratedClustering.Unit * ephys.WaveformSet.PeakWaveform & unit_key).fetch1()"
   ]
  },
  {
   "cell_type": "code",
   "execution_count": 40,
   "metadata": {},
   "outputs": [
    {
     "data": {
      "text/plain": [
       "{'subject': 'subject5',\n",
       " 'session_datetime': datetime.datetime(2023, 6, 30, 3, 34, 20),\n",
       " 'insertion_number': 1,\n",
       " 'paramset_idx': 0,\n",
       " 'curation_id': 1,\n",
       " 'unit': 15,\n",
       " 'electrode_config_hash': UUID('8d4cc6d8-a02d-42c8-bf27-7459c39ea0ee'),\n",
       " 'probe_type': 'neuropixels 1.0 - 3A',\n",
       " 'electrode': 92,\n",
       " 'cluster_quality_label': 'noise',\n",
       " 'spike_count': 292,\n",
       " 'spike_times': array([  1.02606667,   1.19973333,   1.5044    ,   1.52283333,\n",
       "          1.86786667,   1.8688    ,   1.8806    ,   1.88553333,\n",
       "          2.0581    ,   2.76826667,   2.89186667,   2.9311    ,\n",
       "          4.8753    ,   5.2964    ,   7.02266667,   9.65273333,\n",
       "          9.81373333,  10.22443333,  11.96146667,  15.07173333,\n",
       "         15.08983333,  15.78326667,  21.30936667,  22.7549    ,\n",
       "         23.5582    ,  23.6582    ,  23.87043333,  24.16726667,\n",
       "         24.25456667,  24.2671    ,  25.0249    ,  27.89116667,\n",
       "         35.3036    ,  36.0171    ,  40.00396667,  40.0873    ,\n",
       "         41.015     ,  42.70086667,  45.8682    ,  47.9291    ,\n",
       "         48.90843333,  49.37996667,  49.39596667,  49.4058    ,\n",
       "         49.65926667,  49.68203333,  49.74273333,  51.52213333,\n",
       "         52.41486667,  55.27623333,  55.54576667,  55.81213333,\n",
       "         56.0544    ,  56.29426667,  56.36896667,  56.3743    ,\n",
       "         56.47403333,  56.7147    ,  56.71683333,  60.764     ,\n",
       "         61.5317    ,  61.54046667,  61.7721    ,  62.10233333,\n",
       "         62.10726667,  62.2118    ,  62.81173333,  63.15896667,\n",
       "         65.11126667,  65.495     ,  67.18373333,  77.59256667,\n",
       "         79.2709    ,  80.46186667,  82.1178    ,  85.6568    ,\n",
       "         86.52613333,  89.12126667,  89.46963333,  89.64663333,\n",
       "         90.19103333,  92.0923    ,  92.99573333,  93.36923333,\n",
       "         93.68086667,  95.2097    ,  97.96296667,  98.1067    ,\n",
       "         98.69713333,  99.26963333,  99.28013333, 101.04216667,\n",
       "        101.2002    , 101.3843    , 101.3975    , 101.40656667,\n",
       "        102.00996667, 102.07066667, 102.17033333, 103.5861    ,\n",
       "        104.68523333, 104.71643333, 105.2595    , 105.5166    ,\n",
       "        105.54723333, 107.0848    , 109.82746667, 110.14853333,\n",
       "        110.92203333, 111.2481    , 112.26      , 113.09466667,\n",
       "        113.09846667, 113.1005    , 113.33513333, 118.842     ,\n",
       "        118.96803333, 119.32606667, 119.64796667, 119.96313333,\n",
       "        119.97343333, 120.19573333, 120.19693333, 120.21163333,\n",
       "        121.1879    , 121.233     , 121.9611    , 122.40203333,\n",
       "        123.1745    , 124.6798    , 124.68196667, 124.97396667,\n",
       "        125.2205    , 125.87786667, 125.957     , 125.95803333,\n",
       "        127.7149    , 136.8558    , 136.86413333, 138.49966667,\n",
       "        139.49553333, 139.93163333, 139.9819    , 142.57013333,\n",
       "        142.70053333, 143.343     , 143.40796667, 148.46066667,\n",
       "        148.47023333, 148.89893333, 152.79766667, 153.2198    ,\n",
       "        153.39096667, 153.62456667, 153.82253333, 153.82693333,\n",
       "        153.8364    , 153.98863333, 155.4047    , 157.52706667,\n",
       "        157.53233333, 163.1177    , 163.12516667, 163.46916667,\n",
       "        163.69406667, 163.7119    , 166.6946    , 166.7006    ,\n",
       "        170.78053333, 170.7891    , 170.79653333, 180.36596667,\n",
       "        180.43416667, 182.72556667, 182.73706667, 182.76576667,\n",
       "        184.24713333, 185.5131    , 185.7329    , 186.4198    ,\n",
       "        186.48443333, 186.72036667, 186.95926667, 187.1402    ,\n",
       "        187.16683333, 189.4036    , 193.27583333, 195.40946667,\n",
       "        200.2427    , 203.03376667, 203.04076667, 205.84043333,\n",
       "        206.1151    , 207.3402    , 210.95773333, 217.73583333,\n",
       "        220.35      , 221.1235    , 227.7719    , 227.946     ,\n",
       "        228.02456667, 231.2108    , 231.80003333, 233.48253333,\n",
       "        236.8342    , 241.78993333, 243.6285    , 245.61546667,\n",
       "        245.95573333, 246.04586667, 246.06206667, 247.12933333,\n",
       "        248.17143333, 249.16873333, 251.13613333, 252.4734    ,\n",
       "        253.2007    , 254.50943333, 255.22563333, 255.2502    ,\n",
       "        255.5314    , 255.53423333, 255.7684    , 256.81196667,\n",
       "        256.99066667, 256.9928    , 257.0588    , 257.06206667,\n",
       "        257.0801    , 257.15523333, 257.27496667, 257.291     ,\n",
       "        257.99483333, 259.6955    , 259.7061    , 259.71746667,\n",
       "        263.59203333, 266.7052    , 266.70576667, 267.0376    ,\n",
       "        267.35913333, 267.87316667, 268.36156667, 268.94556667,\n",
       "        269.01516667, 269.63623333, 269.88553333, 270.16176667,\n",
       "        270.39123333, 273.41633333, 273.43763333, 274.2084    ,\n",
       "        276.36113333, 278.68053333, 279.50626667, 281.0338    ,\n",
       "        281.9869    , 283.69233333, 285.0663    , 287.0179    ,\n",
       "        289.5541    , 291.78113333, 292.16493333, 292.85823333,\n",
       "        292.8702    , 295.93823333, 295.9514    , 295.9679    ,\n",
       "        296.00623333, 296.0391    , 296.04393333, 298.9717    ,\n",
       "        299.01556667, 299.0859    , 299.7463    , 306.65153333,\n",
       "        307.38243333, 307.7771    , 311.80163333, 311.83026667,\n",
       "        313.37816667, 314.948     , 317.10726667, 317.98363333,\n",
       "        319.25856667, 321.01533333, 321.16426667, 330.15466667,\n",
       "        330.73633333, 330.91536667, 332.83243333, 332.86266667]),\n",
       " 'spike_sites': array([92, 92, 92, 92, 92, 92, 92, 92, 92, 92, 92, 92, 92, 92, 92, 92, 92,\n",
       "        92, 92, 92, 92, 92, 92, 92, 92, 92, 92, 92, 92, 92, 92, 92, 92, 92,\n",
       "        92, 92, 92, 92, 92, 92, 92, 92, 92, 92, 92, 92, 92, 92, 92, 92, 92,\n",
       "        92, 92, 92, 92, 92, 92, 92, 92, 92, 92, 92, 92, 92, 92, 92, 92, 92,\n",
       "        92, 92, 92, 92, 92, 92, 92, 92, 92, 92, 92, 92, 92, 92, 92, 92, 92,\n",
       "        92, 92, 92, 92, 92, 92, 92, 92, 92, 92, 92, 92, 92, 92, 92, 92, 92,\n",
       "        92, 92, 92, 92, 92, 92, 92, 92, 92, 92, 92, 92, 92, 92, 92, 92, 92,\n",
       "        92, 92, 92, 92, 92, 92, 92, 92, 92, 92, 92, 92, 92, 92, 92, 92, 92,\n",
       "        92, 92, 92, 92, 92, 92, 92, 92, 92, 92, 92, 92, 92, 92, 92, 92, 92,\n",
       "        92, 92, 92, 92, 92, 92, 92, 92, 92, 92, 92, 92, 92, 92, 92, 92, 92,\n",
       "        92, 92, 92, 92, 92, 92, 92, 92, 92, 92, 92, 92, 92, 92, 92, 92, 92,\n",
       "        92, 92, 92, 92, 92, 92, 92, 92, 92, 92, 92, 92, 92, 92, 92, 92, 92,\n",
       "        92, 92, 92, 92, 92, 92, 92, 92, 92, 92, 92, 92, 92, 92, 92, 92, 92,\n",
       "        92, 92, 92, 92, 92, 92, 92, 92, 92, 92, 92, 92, 92, 92, 92, 92, 92,\n",
       "        92, 92, 92, 92, 92, 92, 92, 92, 92, 92, 92, 92, 92, 92, 92, 92, 92,\n",
       "        92, 92, 92, 92, 92, 92, 92, 92, 92, 92, 92, 92, 92, 92, 92, 92, 92,\n",
       "        92, 92, 92, 92, 92, 92, 92, 92, 92, 92, 92, 92, 92, 92, 92, 92, 92,\n",
       "        92, 92, 92]),\n",
       " 'spike_depths': array([ 917.68931051, 1002.6141662 ,  893.1431346 ,  912.33104931,\n",
       "         902.87693568,  872.31105976,  875.26191363,  922.47333477,\n",
       "         949.16252597,  801.99946108,  858.01692677,  921.7837487 ,\n",
       "         897.25087548,  874.42894267,  914.89717798,  861.55454858,\n",
       "         904.22082978,  900.71556806,  848.89880207,  871.55857472,\n",
       "         849.40502424,  887.21898509,  957.57407264,  857.52950094,\n",
       "         941.13752662,  931.03217518,  898.99527832,  962.92735677,\n",
       "         915.56550832,  922.14542481,  894.27941318,  874.31413165,\n",
       "         847.78323382,  960.73651726,  902.09721294,  899.97936727,\n",
       "         936.76767365,  908.68471877,  931.97562897,  892.8563381 ,\n",
       "         940.49920044,  925.87119487,  915.55667036,  786.01763842,\n",
       "         867.61268444, 1007.66794229,  867.43220284,  941.51843395,\n",
       "         955.66765617,  970.36344663,  894.82624021,  915.00922015,\n",
       "         889.99169864,  878.28545616,  850.33714087,  928.43421969,\n",
       "         939.52352775,  962.60336897,  903.36858487,  896.37548128,\n",
       "         963.73199174,  789.82843798,  920.43722936,  828.40065648,\n",
       "         943.98810503,  835.85766882,  841.76946105,  937.36801859,\n",
       "         896.49642885,  967.15672796,  918.39713395,  906.36795986,\n",
       "         919.40916519,  875.89694182,  908.3418033 ,  972.05674531,\n",
       "         927.07275902,  940.77150366,  918.04680759,  981.59648505,\n",
       "         940.32229921,  938.36235287,  849.04038544,  893.3058527 ,\n",
       "         913.09883832,  912.35625832,  989.78190796,  879.34780591,\n",
       "         928.81644221,  892.97322993,  898.70158737,  906.91746418,\n",
       "         946.42526162,  914.08702993,  859.34034454,  907.18338275,\n",
       "         989.30138781,  926.06769221,  838.08269605,  929.50654863,\n",
       "         827.39586238,  927.36188021,  910.17661856,  935.41822322,\n",
       "         885.63661049,  914.48018584,  895.93753147,  911.13864214,\n",
       "         881.60996972,  938.20931097, 1015.75963624,  938.56188955,\n",
       "         909.09481672,  867.81417174,  912.15092578,  907.0519042 ,\n",
       "         913.43873474,  913.23570042,  983.89208176,  899.44708324,\n",
       "         910.55603061,  950.67199374,  916.27718038,  886.16272254,\n",
       "         975.57372749,  882.46972449,  908.99151954,  893.41760103,\n",
       "         938.6441373 ,  885.19738826,  947.44382361,  918.75218854,\n",
       "         942.78614663,  968.52291541,  915.78656008,  989.00683215,\n",
       "         855.88223229,  976.62553529,  919.25644927,  958.63970635,\n",
       "         934.03540249,  926.45247121,  961.36373273,  926.55709697,\n",
       "         896.6375551 ,  897.47943897,  907.74803191,  954.04187795,\n",
       "         882.10295293, 1004.09432843,  892.73726557,  846.13198111,\n",
       "         929.42733278,  894.24531402,  921.97988827,  860.601478  ,\n",
       "         912.55635483,  997.22339505,  985.88635074,  938.45775184,\n",
       "         944.63766895,  942.18376197,  984.23087354,  922.40370934,\n",
       "         965.34813049,  921.32552393,  969.81367405,  917.74503135,\n",
       "         833.76599428,  894.97963584,  878.49090123,  864.91049261,\n",
       "         985.04808527,  927.18133162,  844.64492657,  913.88047009,\n",
       "         928.03561194,  930.79686847,  930.13055052,  839.5761256 ,\n",
       "         943.37875897,  956.44476838,  931.39781252,  989.20932655,\n",
       "        1006.29928459,  942.03146682,  901.72518137,  932.53880871,\n",
       "         935.96943144,  925.53161728,  874.67439465,  951.48997974,\n",
       "         960.        ,  874.14717137,  921.49562818,  927.26749515,\n",
       "         926.41158172,  896.61260138,  938.6103718 ,  959.64828575,\n",
       "         935.22630845,  955.63103852,  950.8495808 ,  888.45366602,\n",
       "         912.06814044,  862.81354284,  875.05713562,  875.4100677 ,\n",
       "         923.5426824 ,  839.78562837,  889.74471045,  867.8332007 ,\n",
       "         933.88736839,  868.07155277,  883.34738777,  913.12741673,\n",
       "         915.77804797,  962.99775026,  932.9485248 ,  930.37415413,\n",
       "         944.21567324,  776.98228821,  936.37311401,  941.58975024,\n",
       "         941.55965056,  864.51860126,  930.38329188,  912.78502395,\n",
       "         947.32712079, 1011.13494089,  937.99624501,  916.59535343,\n",
       "         873.82437868,  901.49630725,  846.11674006,  998.64016883,\n",
       "         978.32805846,  876.27655411,  905.78089027,  827.25234516,\n",
       "        1002.18813125,  898.65291068,  920.350764  ,  874.17361952,\n",
       "         938.70381451,  945.81921622,  874.98921047,  915.97985629,\n",
       "         920.14460695,  965.25282342,  977.01542391,  863.18856888,\n",
       "         907.62393082,  906.19584978,  851.37149337,  956.85804045,\n",
       "         969.94521463,  912.02588788,  953.60047228,  819.53086148,\n",
       "         911.99611929,  845.66361521,  962.24964999,  921.43338903,\n",
       "         982.04267741,  931.1841306 ,  896.56744607,  926.6958426 ,\n",
       "         841.56778533,  961.77261899,  943.15601639,  786.18136435,\n",
       "         864.98026608,  950.29718422,  930.39820918,  983.57154574,\n",
       "         909.55498598,  925.76591071,  906.07808244,  964.41923255,\n",
       "         911.17276099,  919.34859876,  906.11721418,  905.96844161,\n",
       "         911.53683431,  958.97512493,  953.15452691,  889.09240389,\n",
       "         957.98473324,  993.29170991,  928.99175736,  908.10563408]),\n",
       " 'peak_electrode_waveform': array([-503.33636558, -502.734375  , -501.32973031, -500.34246575,\n",
       "        -499.73244863, -498.66491866, -494.41887842, -491.6015625 ,\n",
       "        -486.59300086, -481.55233305, -474.36055223, -466.79152397,\n",
       "        -458.98169949, -451.10766267, -442.41491866, -431.03328339,\n",
       "        -420.81549658, -410.91074486, -402.25010702, -395.59610445,\n",
       "        -389.25513699, -384.02985873, -381.67005565, -379.81592466,\n",
       "        -378.79655394, -380.26541096, -384.54355736, -392.41759418,\n",
       "        -401.11033818, -410.67797517, -420.13324058, -430.6640625 ,\n",
       "        -442.34267979, -452.71297089, -461.42979452, -469.67305223,\n",
       "        -478.64672517, -486.40036387, -493.83294092, -498.87360873,\n",
       "        -504.82127568, -509.58101455, -511.55554366, -514.19627568,\n",
       "        -515.77750428, -516.41160103, -517.3828125 , -518.16941353,\n",
       "        -517.26241438, -518.46639555, -517.76808647, -517.3828125 ,\n",
       "        -516.61226455, -514.32470034, -512.5187286 , -511.66791524,\n",
       "        -510.65657106, -507.74293664, -504.84535531, -503.02333048,\n",
       "        -501.93172089, -499.3552012 , -498.77729024, -495.78339041,\n",
       "        -495.42219606, -495.78339041, -494.30650685, -492.30789812,\n",
       "        -491.83433219, -492.14736729, -490.16481164, -489.69124572,\n",
       "        -488.84043236, -488.5354238 , -489.24175942, -487.68461045,\n",
       "        -486.48062928, -485.50941781, -484.23319777, -484.24925086,\n",
       "        -484.26530394, -483.3984375 ])}"
      ]
     },
     "execution_count": 40,
     "metadata": {},
     "output_type": "execute_result"
    }
   ],
   "source": [
    "unit_data"
   ]
  },
  {
   "cell_type": "code",
   "execution_count": 41,
   "metadata": {},
   "outputs": [
    {
     "data": {
      "image/png": "[encoded data removed]",
      "text/plain": [
       "<Figure size 640x480 with 1 Axes>"
      ]
     },
     "metadata": {},
     "output_type": "display_data"
    }
   ],
   "source": [
    "sampling_rate = (ephys.EphysRecording & insert_key).fetch1(\n",
    "    \"sampling_rate\"\n",
    ") / 1000  # in kHz\n",
    "plt.plot(\n",
    "    np.r_[: unit_data[\"peak_electrode_waveform\"].size] * 1 / sampling_rate,\n",
    "    unit_data[\"peak_electrode_waveform\"],\n",
    ")\n",
    "plt.xlabel(\"Time (ms)\")\n",
    "plt.ylabel(r\"Voltage ($\\mu$V)\");"
   ]
  },
  {
   "attachments": {},
   "cell_type": "markdown",
   "metadata": {},
   "source": [
    "To run this tutorial notebook on your own data, please use the following steps:\n",
    "- Download the mysql-docker image for DataJoint and run the container according to the\n",
    "  instructions provide in the repository.\n",
    "- Create a fork of this repository to your GitHub account.\n",
    "- Clone the repository and open the files using your IDE.\n",
    "- Add a code cell immediately after the first code cell in the notebook - we will setup\n",
    "  the local connection using this cell. In this cell, type in the following code. \n",
    "\n",
    "```python\n",
    "import datajoint as dj\n",
    "dj.config[\"database.host\"] = \"localhost\"\n",
    "dj.config[\"database.user\"] = \"<your-username>\"\n",
    "dj.config[\"database.password\"] = \"<your-password>\"\n",
    "dj.config[\"custom\"] = {\"imaging_root_data_dir\": \"path/to/your/data/dir\",\n",
    "\"database_prefix\": \"<your-username_>\"}\n",
    "dj.config.save_local()\n",
    "dj.conn()\n",
    "```\n",
    "\n",
    "- Run this code cell and proceed with the rest of the notebook."
   ]
  },
  {
   "attachments": {},
   "cell_type": "markdown",
   "metadata": {},
   "source": []
  }
 ],
 "metadata": {
  "kernelspec": {
   "display_name": "python3p10",
   "language": "python",
   "name": "python3"
  },
  "language_info": {
   "codemirror_mode": {
    "name": "ipython",
    "version": 3
   },
   "file_extension": ".py",
   "mimetype": "text/x-python",
   "name": "python",
   "nbconvert_exporter": "python",
   "pygments_lexer": "ipython3",
   "version": "3.9.17"
  },
  "orig_nbformat": 4,
  "vscode": {
   "interpreter": {
    "hash": "ff52d424e56dd643d8b2ec122f40a2e279e94970100b4e6430cb9025a65ba4cf"
   }
  }
 },
 "nbformat": 4,
 "nbformat_minor": 2
}
