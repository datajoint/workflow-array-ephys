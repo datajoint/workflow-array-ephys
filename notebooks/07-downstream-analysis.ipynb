{
 "cells": [
  {
   "cell_type": "markdown",
   "id": "15bdef0d-bd52-49e6-87a0-d569006149a0",
   "metadata": {
    "tags": []
   },
   "source": [
    "# Event-aligned spike time analysis"
   ]
  },
  {
   "cell_type": "markdown",
   "id": "15ba9ad8-f0e4-48ec-b959-324c35c7581b",
   "metadata": {
    "tags": []
   },
   "source": [
    "## Setup"
   ]
  },
  {
   "cell_type": "markdown",
   "id": "fdb8265a-129e-4ccb-b995-bb4ff30d756d",
   "metadata": {},
   "source": [
    "First, let's change directories to find the `dj_local_conf` file."
   ]
  },
  {
   "cell_type": "code",
   "execution_count": 1,
   "id": "921a4a03",
   "metadata": {},
   "outputs": [],
   "source": [
    "import os\n",
    "if os.path.basename(os.getcwd()) == \"notebooks\": os.chdir(\"..\")"
   ]
  },
  {
   "cell_type": "code",
   "execution_count": 2,
   "id": "e69b8c23",
   "metadata": {},
   "outputs": [],
   "source": [
    "# We'll be working with long tables, so we'll make visualization easier with a limit\n",
    "import datajoint as dj\n",
    "dj.config[\"display.limit\"] = 10"
   ]
  },
  {
   "cell_type": "markdown",
   "id": "84b2c6ae-b8cd-47b8-af38-812f65032933",
   "metadata": {},
   "source": [
    "Next, we populate the python namespace with the required schemas"
   ]
  },
  {
   "cell_type": "code",
   "execution_count": 3,
   "id": "79cef246",
   "metadata": {},
   "outputs": [
    {
     "name": "stderr",
     "output_type": "stream",
     "text": [
      "[2022-09-15 10:14:05,277][INFO]: Connecting cbroz@tutorial-db.datajoint.io:3306\n",
      "[2022-09-15 10:14:05,749][INFO]: Connected cbroz@tutorial-db.datajoint.io:3306\n"
     ]
    }
   ],
   "source": [
    "from workflow_array_ephys.pipeline import session, ephys, trial, event, analysis"
   ]
  },
  {
   "cell_type": "markdown",
   "id": "04616e30-c9f8-468c-bed1-0d233ab76617",
   "metadata": {
    "incorrectly_encoded_metadata": "jp-MarkdownHeadingCollapsed=true jp-MarkdownHeadingCollapsed=true",
    "tags": []
   },
   "source": [
    "## Trial and Event schemas"
   ]
  },
  {
   "cell_type": "markdown",
   "id": "a1451602-df01-4c33-b4bf-e280d3d0742c",
   "metadata": {},
   "source": [
    "Tables in the `trial` and `event` schemas specify the structure of your experiment, including block, trial and event timing.\n",
    "- Session has a 1-to-1 mapping with a behavior recording\n",
    "- A block is a continuous phase of an experiment that contains repeated instances of a condition, or trials.\n",
    "- Events may occur within or outside of conditions, either instantaneous or continuous.\n",
    "\n",
    "The diagram below shows (a) the levels of hierarchy and (b) how the bounds may not completely overlap. A block may not fully capture trials and events may occur outside both blocks/trials."
   ]
  },
  {
   "cell_type": "markdown",
   "id": "d5bc66f4-4a30-467a-829d-2e3b05decdd0",
   "metadata": {},
   "source": [
    "```\n",
    "|----------------------------------------------------------------------------|\n",
    "|-------------------------------- Session ---------------------------------|__\n",
    "|-------------------------- BehaviorRecording -----------------------------|__\n",
    "|----- Block 1 -----|______|----- Block 2 -----|______|----- Block 3 -----|___\n",
    "| trial 1 || trial 2 |____| trial 3 || trial 4 |____| trial 5 |____| trial 6 |\n",
    "|_|e1|_|e2||e3|_|e4|__|e5|__|e6||e7||e8||e9||e10||e11|____|e12||e13|_________|\n",
    "|----------------------------------------------------------------------------|\n",
    "```"
   ]
  },
  {
   "cell_type": "markdown",
   "id": "2e9a8cfd-8188-4d69-9c3a-b91a1ba4876a",
   "metadata": {},
   "source": [
    "Let's load some example data. The `ingest.py` script has a series of loaders to help."
   ]
  },
  {
   "cell_type": "code",
   "execution_count": 4,
   "id": "dab268a4-ae07-4c8b-b999-536d9e5b3e2e",
   "metadata": {},
   "outputs": [],
   "source": [
    "from workflow_array_ephys.ingest import (\n",
    "    ingest_subjects,\n",
    "    ingest_sessions,\n",
    "    ingest_events,\n",
    "    ingest_alignment,\n",
    ")"
   ]
  },
  {
   "cell_type": "code",
   "execution_count": 5,
   "id": "5b6eaecd-a823-4649-9b81-63f8f2b4dc21",
   "metadata": {},
   "outputs": [
    {
     "name": "stdout",
     "output_type": "stream",
     "text": [
      "\n",
      "---- Insert 0 entry(s) into subject.Subject ----\n",
      "\n",
      "---- Successfully completed ingest_subjects ----\n",
      "\n",
      "---- Insert 0 entry(s) into session.Session ----\n",
      "\n",
      "---- Insert 0 entry(s) into probe.Probe ----\n",
      "\n",
      "---- Insert 0 entry(s) into ephys.ProbeInsertion ----\n",
      "\n",
      "---- Successfully completed ingest_subjects ----\n",
      "\n",
      "---- Inserting 1 entry(s) into behavior_recording ----\n",
      "\n",
      "---- Inserting 2 entry(s) into behavior_recording__file ----\n",
      "\n",
      "---- Inserting 4 entry(s) into _block ----\n",
      "\n",
      "---- Inserting 4 entry(s) into _block__attribute ----\n",
      "\n",
      "---- Inserting 2 entry(s) into #trial_type ----\n",
      "\n",
      "---- Inserting 100 entry(s) into _trial ----\n",
      "\n",
      "---- Inserting 100 entry(s) into _trial__attribute ----\n",
      "\n",
      "---- Inserting 100 entry(s) into _block_trial ----\n",
      "\n",
      "---- Inserting 3 entry(s) into #event_type ----\n",
      "\n",
      "---- Inserting 153 entry(s) into _event ----\n",
      "\n",
      "---- Inserting 153 entry(s) into _trial_event ----\n"
     ]
    }
   ],
   "source": [
    "ingest_subjects()\n",
    "ingest_sessions()\n",
    "ingest_events()"
   ]
  },
  {
   "cell_type": "markdown",
   "id": "3a51de8b-3ddd-473e-b930-b0bc0c50d05f",
   "metadata": {},
   "source": [
    "We have 100 total trials, either 'stim' or 'ctrl', with start and stop time"
   ]
  },
  {
   "cell_type": "code",
   "execution_count": 6,
   "id": "4cdf4879-cd05-43c3-89fa-cacc1b1474a6",
   "metadata": {},
   "outputs": [
    {
     "data": {
      "text/html": [
       "\n",
       "    \n",
       "    <style type=\"text/css\">\n",
       "        .Relation{\n",
       "            border-collapse:collapse;\n",
       "        }\n",
       "        .Relation th{\n",
       "            background: #A0A0A0; color: #ffffff; padding:4px; border:#f0e0e0 1px solid;\n",
       "            font-weight: normal; font-family: monospace; font-size: 100%;\n",
       "        }\n",
       "        .Relation td{\n",
       "            padding:4px; border:#f0e0e0 1px solid; font-size:100%;\n",
       "        }\n",
       "        .Relation tr:nth-child(odd){\n",
       "            background: #ffffff;\n",
       "        }\n",
       "        .Relation tr:nth-child(even){\n",
       "            background: #f3f1ff;\n",
       "        }\n",
       "        /* Tooltip container */\n",
       "        .djtooltip {\n",
       "        }\n",
       "        /* Tooltip text */\n",
       "        .djtooltip .djtooltiptext {\n",
       "            visibility: hidden;\n",
       "            width: 120px;\n",
       "            background-color: black;\n",
       "            color: #fff;\n",
       "            text-align: center;\n",
       "            padding: 5px 0;\n",
       "            border-radius: 6px;\n",
       "            /* Position the tooltip text - see examples below! */\n",
       "            position: absolute;\n",
       "            z-index: 1;\n",
       "        }\n",
       "        #primary {\n",
       "            font-weight: bold;\n",
       "            color: black;\n",
       "        }\n",
       "        #nonprimary {\n",
       "            font-weight: normal;\n",
       "            color: white;\n",
       "        }\n",
       "\n",
       "        /* Show the tooltip text when you mouse over the tooltip container */\n",
       "        .djtooltip:hover .djtooltiptext {\n",
       "            visibility: visible;\n",
       "        }\n",
       "    </style>\n",
       "    \n",
       "    <b>Experimental trials</b>\n",
       "        <div style=\"max-height:1000px;max-width:1500px;overflow:auto;\">\n",
       "        <table border=\"1\" class=\"Relation\">\n",
       "            <thead> <tr style=\"text-align: right;\"> <th> <div class=\"djtooltip\">\n",
       "                            <p id=\"primary\">subject</p>\n",
       "                            <span class=\"djtooltiptext\"></span>\n",
       "                        </div></th><th><div class=\"djtooltip\">\n",
       "                            <p id=\"primary\">session_datetime</p>\n",
       "                            <span class=\"djtooltiptext\"></span>\n",
       "                        </div></th><th><div class=\"djtooltip\">\n",
       "                            <p id=\"primary\">trial_id</p>\n",
       "                            <span class=\"djtooltiptext\">trial number (1-based indexing)</span>\n",
       "                        </div></th><th><div class=\"djtooltip\">\n",
       "                            <p id=\"nonprimary\">trial_type</p>\n",
       "                            <span class=\"djtooltiptext\"></span>\n",
       "                        </div></th><th><div class=\"djtooltip\">\n",
       "                            <p id=\"nonprimary\">trial_start_time</p>\n",
       "                            <span class=\"djtooltiptext\">(second) relative to recording start</span>\n",
       "                        </div></th><th><div class=\"djtooltip\">\n",
       "                            <p id=\"nonprimary\">trial_stop_time</p>\n",
       "                            <span class=\"djtooltiptext\">(second) relative to recording start</span>\n",
       "                        </div> </th> </tr> </thead>\n",
       "            <tbody> <tr> <td>subject6</td>\n",
       "<td>2021-01-15 11:16:38</td>\n",
       "<td>1</td>\n",
       "<td>stim</td>\n",
       "<td>0.123</td>\n",
       "<td>17.123</td></tr><tr><td>subject6</td>\n",
       "<td>2021-01-15 11:16:38</td>\n",
       "<td>2</td>\n",
       "<td>ctrl</td>\n",
       "<td>17.54</td>\n",
       "<td>34.54</td></tr><tr><td>subject6</td>\n",
       "<td>2021-01-15 11:16:38</td>\n",
       "<td>3</td>\n",
       "<td>ctrl</td>\n",
       "<td>34.81</td>\n",
       "<td>51.81</td></tr><tr><td>subject6</td>\n",
       "<td>2021-01-15 11:16:38</td>\n",
       "<td>4</td>\n",
       "<td>ctrl</td>\n",
       "<td>52.202</td>\n",
       "<td>69.202</td></tr><tr><td>subject6</td>\n",
       "<td>2021-01-15 11:16:38</td>\n",
       "<td>5</td>\n",
       "<td>stim</td>\n",
       "<td>69.611</td>\n",
       "<td>86.611</td></tr><tr><td>subject6</td>\n",
       "<td>2021-01-15 11:16:38</td>\n",
       "<td>6</td>\n",
       "<td>stim</td>\n",
       "<td>87.03</td>\n",
       "<td>104.03</td></tr><tr><td>subject6</td>\n",
       "<td>2021-01-15 11:16:38</td>\n",
       "<td>7</td>\n",
       "<td>ctrl</td>\n",
       "<td>104.165</td>\n",
       "<td>121.165</td></tr><tr><td>subject6</td>\n",
       "<td>2021-01-15 11:16:38</td>\n",
       "<td>8</td>\n",
       "<td>ctrl</td>\n",
       "<td>121.502</td>\n",
       "<td>138.502</td></tr><tr><td>subject6</td>\n",
       "<td>2021-01-15 11:16:38</td>\n",
       "<td>9</td>\n",
       "<td>ctrl</td>\n",
       "<td>138.612</td>\n",
       "<td>155.612</td></tr><tr><td>subject6</td>\n",
       "<td>2021-01-15 11:16:38</td>\n",
       "<td>10</td>\n",
       "<td>stim</td>\n",
       "<td>155.741</td>\n",
       "<td>172.741</td> </tr> </tbody>\n",
       "        </table>\n",
       "        <p>...</p>\n",
       "        <p>Total: 100</p></div>\n",
       "        "
      ],
      "text/plain": [
       "*subject     *session_datet *trial_id    trial_type     trial_start_ti trial_stop_tim\n",
       "+----------+ +------------+ +----------+ +------------+ +------------+ +------------+\n",
       "subject6     2021-01-15 11: 1            stim           0.123          17.123        \n",
       "subject6     2021-01-15 11: 2            ctrl           17.54          34.54         \n",
       "subject6     2021-01-15 11: 3            ctrl           34.81          51.81         \n",
       "subject6     2021-01-15 11: 4            ctrl           52.202         69.202        \n",
       "subject6     2021-01-15 11: 5            stim           69.611         86.611        \n",
       "subject6     2021-01-15 11: 6            stim           87.03          104.03        \n",
       "subject6     2021-01-15 11: 7            ctrl           104.165        121.165       \n",
       "subject6     2021-01-15 11: 8            ctrl           121.502        138.502       \n",
       "subject6     2021-01-15 11: 9            ctrl           138.612        155.612       \n",
       "subject6     2021-01-15 11: 10           stim           155.741        172.741       \n",
       "   ...\n",
       " (Total: 100)"
      ]
     },
     "execution_count": 6,
     "metadata": {},
     "output_type": "execute_result"
    }
   ],
   "source": [
    "trial.Trial()"
   ]
  },
  {
   "cell_type": "markdown",
   "id": "ea3ed128-cb2c-400f-866c-1337d6608d2b",
   "metadata": {},
   "source": [
    "Each trial is paired with events that take place during the trial window."
   ]
  },
  {
   "cell_type": "code",
   "execution_count": 7,
   "id": "7fe42898-3ff9-4394-a811-a4cb85320f04",
   "metadata": {},
   "outputs": [
    {
     "data": {
      "text/html": [
       "\n",
       "    \n",
       "    <style type=\"text/css\">\n",
       "        .Relation{\n",
       "            border-collapse:collapse;\n",
       "        }\n",
       "        .Relation th{\n",
       "            background: #A0A0A0; color: #ffffff; padding:4px; border:#f0e0e0 1px solid;\n",
       "            font-weight: normal; font-family: monospace; font-size: 100%;\n",
       "        }\n",
       "        .Relation td{\n",
       "            padding:4px; border:#f0e0e0 1px solid; font-size:100%;\n",
       "        }\n",
       "        .Relation tr:nth-child(odd){\n",
       "            background: #ffffff;\n",
       "        }\n",
       "        .Relation tr:nth-child(even){\n",
       "            background: #f3f1ff;\n",
       "        }\n",
       "        /* Tooltip container */\n",
       "        .djtooltip {\n",
       "        }\n",
       "        /* Tooltip text */\n",
       "        .djtooltip .djtooltiptext {\n",
       "            visibility: hidden;\n",
       "            width: 120px;\n",
       "            background-color: black;\n",
       "            color: #fff;\n",
       "            text-align: center;\n",
       "            padding: 5px 0;\n",
       "            border-radius: 6px;\n",
       "            /* Position the tooltip text - see examples below! */\n",
       "            position: absolute;\n",
       "            z-index: 1;\n",
       "        }\n",
       "        #primary {\n",
       "            font-weight: bold;\n",
       "            color: black;\n",
       "        }\n",
       "        #nonprimary {\n",
       "            font-weight: normal;\n",
       "            color: white;\n",
       "        }\n",
       "\n",
       "        /* Show the tooltip text when you mouse over the tooltip container */\n",
       "        .djtooltip:hover .djtooltiptext {\n",
       "            visibility: visible;\n",
       "        }\n",
       "    </style>\n",
       "    \n",
       "    <b></b>\n",
       "        <div style=\"max-height:1000px;max-width:1500px;overflow:auto;\">\n",
       "        <table border=\"1\" class=\"Relation\">\n",
       "            <thead> <tr style=\"text-align: right;\"> <th> <div class=\"djtooltip\">\n",
       "                            <p id=\"primary\">subject</p>\n",
       "                            <span class=\"djtooltiptext\"></span>\n",
       "                        </div></th><th><div class=\"djtooltip\">\n",
       "                            <p id=\"primary\">session_datetime</p>\n",
       "                            <span class=\"djtooltiptext\"></span>\n",
       "                        </div></th><th><div class=\"djtooltip\">\n",
       "                            <p id=\"primary\">trial_id</p>\n",
       "                            <span class=\"djtooltiptext\">trial number (1-based indexing)</span>\n",
       "                        </div></th><th><div class=\"djtooltip\">\n",
       "                            <p id=\"primary\">event_type</p>\n",
       "                            <span class=\"djtooltiptext\"></span>\n",
       "                        </div></th><th><div class=\"djtooltip\">\n",
       "                            <p id=\"primary\">event_start_time</p>\n",
       "                            <span class=\"djtooltiptext\">(second) relative to recording start</span>\n",
       "                        </div> </th> </tr> </thead>\n",
       "            <tbody> <tr> <td>subject6</td>\n",
       "<td>2021-01-15 11:16:38</td>\n",
       "<td>1</td>\n",
       "<td>center</td>\n",
       "<td>10.58</td></tr><tr><td>subject6</td>\n",
       "<td>2021-01-15 11:16:38</td>\n",
       "<td>2</td>\n",
       "<td>center</td>\n",
       "<td>21.647</td></tr><tr><td>subject6</td>\n",
       "<td>2021-01-15 11:16:38</td>\n",
       "<td>3</td>\n",
       "<td>center</td>\n",
       "<td>37.044</td></tr><tr><td>subject6</td>\n",
       "<td>2021-01-15 11:16:38</td>\n",
       "<td>4</td>\n",
       "<td>center</td>\n",
       "<td>55.259</td></tr><tr><td>subject6</td>\n",
       "<td>2021-01-15 11:16:38</td>\n",
       "<td>1</td>\n",
       "<td>left</td>\n",
       "<td>4.498</td></tr><tr><td>subject6</td>\n",
       "<td>2021-01-15 11:16:38</td>\n",
       "<td>3</td>\n",
       "<td>left</td>\n",
       "<td>41.892</td></tr><tr><td>subject6</td>\n",
       "<td>2021-01-15 11:16:38</td>\n",
       "<td>2</td>\n",
       "<td>right</td>\n",
       "<td>23.9</td> </tr> </tbody>\n",
       "        </table>\n",
       "        \n",
       "        <p>Total: 7</p></div>\n",
       "        "
      ],
      "text/plain": [
       "*subject     *session_datet *trial_id    *event_type    *event_start_t\n",
       "+----------+ +------------+ +----------+ +------------+ +------------+\n",
       "subject6     2021-01-15 11: 1            center         10.58         \n",
       "subject6     2021-01-15 11: 2            center         21.647        \n",
       "subject6     2021-01-15 11: 3            center         37.044        \n",
       "subject6     2021-01-15 11: 4            center         55.259        \n",
       "subject6     2021-01-15 11: 1            left           4.498         \n",
       "subject6     2021-01-15 11: 3            left           41.892        \n",
       "subject6     2021-01-15 11: 2            right          23.9          \n",
       " (Total: 7)"
      ]
     },
     "execution_count": 7,
     "metadata": {},
     "output_type": "execute_result"
    }
   ],
   "source": [
    "trial.TrialEvent() & \"trial_id<5\""
   ]
  },
  {
   "cell_type": "markdown",
   "id": "1b2a40b8-8104-4fba-b99c-355162e4c8a9",
   "metadata": {},
   "source": [
    "Finally, the `AlignmentEvent` describes the event of interest and the window we'd like to see around it."
   ]
  },
  {
   "cell_type": "code",
   "execution_count": 8,
   "id": "5122d831-48b2-4214-bd43-a42d67a5dc2d",
   "metadata": {},
   "outputs": [
    {
     "name": "stdout",
     "output_type": "stream",
     "text": [
      "\n",
      "---- Inserting 3 entry(s) into alignment_event ----\n"
     ]
    }
   ],
   "source": [
    "ingest_alignment()"
   ]
  },
  {
   "cell_type": "code",
   "execution_count": 9,
   "id": "50a2c99f",
   "metadata": {},
   "outputs": [
    {
     "data": {
      "text/html": [
       "\n",
       "    \n",
       "    <style type=\"text/css\">\n",
       "        .Relation{\n",
       "            border-collapse:collapse;\n",
       "        }\n",
       "        .Relation th{\n",
       "            background: #A0A0A0; color: #ffffff; padding:4px; border:#f0e0e0 1px solid;\n",
       "            font-weight: normal; font-family: monospace; font-size: 100%;\n",
       "        }\n",
       "        .Relation td{\n",
       "            padding:4px; border:#f0e0e0 1px solid; font-size:100%;\n",
       "        }\n",
       "        .Relation tr:nth-child(odd){\n",
       "            background: #ffffff;\n",
       "        }\n",
       "        .Relation tr:nth-child(even){\n",
       "            background: #f3f1ff;\n",
       "        }\n",
       "        /* Tooltip container */\n",
       "        .djtooltip {\n",
       "        }\n",
       "        /* Tooltip text */\n",
       "        .djtooltip .djtooltiptext {\n",
       "            visibility: hidden;\n",
       "            width: 120px;\n",
       "            background-color: black;\n",
       "            color: #fff;\n",
       "            text-align: center;\n",
       "            padding: 5px 0;\n",
       "            border-radius: 6px;\n",
       "            /* Position the tooltip text - see examples below! */\n",
       "            position: absolute;\n",
       "            z-index: 1;\n",
       "        }\n",
       "        #primary {\n",
       "            font-weight: bold;\n",
       "            color: black;\n",
       "        }\n",
       "        #nonprimary {\n",
       "            font-weight: normal;\n",
       "            color: white;\n",
       "        }\n",
       "\n",
       "        /* Show the tooltip text when you mouse over the tooltip container */\n",
       "        .djtooltip:hover .djtooltiptext {\n",
       "            visibility: visible;\n",
       "        }\n",
       "    </style>\n",
       "    \n",
       "    <b>time_shift is seconds to shift with respect to (WRT) a variable</b>\n",
       "        <div style=\"max-height:1000px;max-width:1500px;overflow:auto;\">\n",
       "        <table border=\"1\" class=\"Relation\">\n",
       "            <thead> <tr style=\"text-align: right;\"> <th> <div class=\"djtooltip\">\n",
       "                            <p id=\"primary\">alignment_name</p>\n",
       "                            <span class=\"djtooltiptext\"></span>\n",
       "                        </div></th><th><div class=\"djtooltip\">\n",
       "                            <p id=\"nonprimary\">alignment_description</p>\n",
       "                            <span class=\"djtooltiptext\"></span>\n",
       "                        </div></th><th><div class=\"djtooltip\">\n",
       "                            <p id=\"nonprimary\">alignment_event_type</p>\n",
       "                            <span class=\"djtooltiptext\"></span>\n",
       "                        </div></th><th><div class=\"djtooltip\">\n",
       "                            <p id=\"nonprimary\">alignment_time_shift</p>\n",
       "                            <span class=\"djtooltiptext\">(s) WRT alignment_event_type</span>\n",
       "                        </div></th><th><div class=\"djtooltip\">\n",
       "                            <p id=\"nonprimary\">start_event_type</p>\n",
       "                            <span class=\"djtooltiptext\"></span>\n",
       "                        </div></th><th><div class=\"djtooltip\">\n",
       "                            <p id=\"nonprimary\">start_time_shift</p>\n",
       "                            <span class=\"djtooltiptext\">(s) WRT start_event_type</span>\n",
       "                        </div></th><th><div class=\"djtooltip\">\n",
       "                            <p id=\"nonprimary\">end_event_type</p>\n",
       "                            <span class=\"djtooltiptext\"></span>\n",
       "                        </div></th><th><div class=\"djtooltip\">\n",
       "                            <p id=\"nonprimary\">end_time_shift</p>\n",
       "                            <span class=\"djtooltiptext\">(s) WRT end_event_type</span>\n",
       "                        </div> </th> </tr> </thead>\n",
       "            <tbody> <tr> <td>center_button</td>\n",
       "<td></td>\n",
       "<td>center</td>\n",
       "<td>0.0</td>\n",
       "<td>center</td>\n",
       "<td>-3.0</td>\n",
       "<td>center</td>\n",
       "<td>3.0</td></tr><tr><td>left_button</td>\n",
       "<td></td>\n",
       "<td>left</td>\n",
       "<td>0.0</td>\n",
       "<td>left</td>\n",
       "<td>-3.0</td>\n",
       "<td>left</td>\n",
       "<td>3.0</td></tr><tr><td>right_button</td>\n",
       "<td></td>\n",
       "<td>right</td>\n",
       "<td>0.0</td>\n",
       "<td>right</td>\n",
       "<td>-3.0</td>\n",
       "<td>right</td>\n",
       "<td>3.0</td> </tr> </tbody>\n",
       "        </table>\n",
       "        \n",
       "        <p>Total: 3</p></div>\n",
       "        "
      ],
      "text/plain": [
       "*alignment_nam alignment_desc alignment_even alignment_time start_event_ty start_time_shi end_event_type end_time_shift\n",
       "+------------+ +------------+ +------------+ +------------+ +------------+ +------------+ +------------+ +------------+\n",
       "center_button                 center         0.0            center         -3.0           center         3.0           \n",
       "left_button                   left           0.0            left           -3.0           left           3.0           \n",
       "right_button                  right          0.0            right          -3.0           right          3.0           \n",
       " (Total: 3)"
      ]
     },
     "execution_count": 9,
     "metadata": {},
     "output_type": "execute_result"
    }
   ],
   "source": [
    "event.AlignmentEvent()"
   ]
  },
  {
   "cell_type": "markdown",
   "id": "4936a1e8",
   "metadata": {
    "tags": []
   },
   "source": [
    "## Event-aligned spike times"
   ]
  },
  {
   "cell_type": "markdown",
   "id": "48907760-54b8-485f-b2eb-8c03a5cc2839",
   "metadata": {},
   "source": [
    "First, we'll check that the data is still properly inserted from the previous notebooks."
   ]
  },
  {
   "cell_type": "code",
   "execution_count": 10,
   "id": "9a36c342",
   "metadata": {},
   "outputs": [
    {
     "data": {
      "text/html": [
       "\n",
       "    \n",
       "    <style type=\"text/css\">\n",
       "        .Relation{\n",
       "            border-collapse:collapse;\n",
       "        }\n",
       "        .Relation th{\n",
       "            background: #A0A0A0; color: #ffffff; padding:4px; border:#f0e0e0 1px solid;\n",
       "            font-weight: normal; font-family: monospace; font-size: 100%;\n",
       "        }\n",
       "        .Relation td{\n",
       "            padding:4px; border:#f0e0e0 1px solid; font-size:100%;\n",
       "        }\n",
       "        .Relation tr:nth-child(odd){\n",
       "            background: #ffffff;\n",
       "        }\n",
       "        .Relation tr:nth-child(even){\n",
       "            background: #f3f1ff;\n",
       "        }\n",
       "        /* Tooltip container */\n",
       "        .djtooltip {\n",
       "        }\n",
       "        /* Tooltip text */\n",
       "        .djtooltip .djtooltiptext {\n",
       "            visibility: hidden;\n",
       "            width: 120px;\n",
       "            background-color: black;\n",
       "            color: #fff;\n",
       "            text-align: center;\n",
       "            padding: 5px 0;\n",
       "            border-radius: 6px;\n",
       "            /* Position the tooltip text - see examples below! */\n",
       "            position: absolute;\n",
       "            z-index: 1;\n",
       "        }\n",
       "        #primary {\n",
       "            font-weight: bold;\n",
       "            color: black;\n",
       "        }\n",
       "        #nonprimary {\n",
       "            font-weight: normal;\n",
       "            color: white;\n",
       "        }\n",
       "\n",
       "        /* Show the tooltip text when you mouse over the tooltip container */\n",
       "        .djtooltip:hover .djtooltiptext {\n",
       "            visibility: visible;\n",
       "        }\n",
       "    </style>\n",
       "    \n",
       "    <b>Clustering results of the spike sorting step.</b>\n",
       "        <div style=\"max-height:1000px;max-width:1500px;overflow:auto;\">\n",
       "        <table border=\"1\" class=\"Relation\">\n",
       "            <thead> <tr style=\"text-align: right;\"> <th> <div class=\"djtooltip\">\n",
       "                            <p id=\"primary\">subject</p>\n",
       "                            <span class=\"djtooltiptext\"></span>\n",
       "                        </div></th><th><div class=\"djtooltip\">\n",
       "                            <p id=\"primary\">session_datetime</p>\n",
       "                            <span class=\"djtooltiptext\"></span>\n",
       "                        </div></th><th><div class=\"djtooltip\">\n",
       "                            <p id=\"primary\">insertion_number</p>\n",
       "                            <span class=\"djtooltiptext\"></span>\n",
       "                        </div></th><th><div class=\"djtooltip\">\n",
       "                            <p id=\"primary\">paramset_idx</p>\n",
       "                            <span class=\"djtooltiptext\"></span>\n",
       "                        </div> </th> </tr> </thead>\n",
       "            <tbody> <tr> <td>subject6</td>\n",
       "<td>2021-01-15 11:16:38</td>\n",
       "<td>0</td>\n",
       "<td>0</td> </tr> </tbody>\n",
       "        </table>\n",
       "        \n",
       "        <p>Total: 1</p></div>\n",
       "        "
      ],
      "text/plain": [
       "*subject     *session_datet *insertion_num *paramset_idx \n",
       "+----------+ +------------+ +------------+ +------------+\n",
       "subject6     2021-01-15 11: 0              0             \n",
       " (Total: 1)"
      ]
     },
     "execution_count": 10,
     "metadata": {},
     "output_type": "execute_result"
    }
   ],
   "source": [
    "ephys.CuratedClustering()"
   ]
  },
  {
   "cell_type": "markdown",
   "id": "cc6c1e0c-ad56-4152-a200-873150aafb17",
   "metadata": {},
   "source": [
    "For this example, we'll be looking at `subject6`."
   ]
  },
  {
   "cell_type": "code",
   "execution_count": 11,
   "id": "8642f010",
   "metadata": {},
   "outputs": [],
   "source": [
    "clustering_key = (\n",
    "    ephys.CuratedClustering\n",
    "    & {\n",
    "        \"subject\": \"subject6\",\n",
    "        \"session_datetime\": \"2021-01-15 11:16:38\",\n",
    "        \"insertion_number\": 0,\n",
    "    }\n",
    ").fetch1(\"KEY\")"
   ]
  },
  {
   "cell_type": "code",
   "execution_count": 12,
   "id": "c9c95806",
   "metadata": {},
   "outputs": [
    {
     "data": {
      "text/html": [
       "\n",
       "    \n",
       "    <style type=\"text/css\">\n",
       "        .Relation{\n",
       "            border-collapse:collapse;\n",
       "        }\n",
       "        .Relation th{\n",
       "            background: #A0A0A0; color: #ffffff; padding:4px; border:#f0e0e0 1px solid;\n",
       "            font-weight: normal; font-family: monospace; font-size: 100%;\n",
       "        }\n",
       "        .Relation td{\n",
       "            padding:4px; border:#f0e0e0 1px solid; font-size:100%;\n",
       "        }\n",
       "        .Relation tr:nth-child(odd){\n",
       "            background: #ffffff;\n",
       "        }\n",
       "        .Relation tr:nth-child(even){\n",
       "            background: #f3f1ff;\n",
       "        }\n",
       "        /* Tooltip container */\n",
       "        .djtooltip {\n",
       "        }\n",
       "        /* Tooltip text */\n",
       "        .djtooltip .djtooltiptext {\n",
       "            visibility: hidden;\n",
       "            width: 120px;\n",
       "            background-color: black;\n",
       "            color: #fff;\n",
       "            text-align: center;\n",
       "            padding: 5px 0;\n",
       "            border-radius: 6px;\n",
       "            /* Position the tooltip text - see examples below! */\n",
       "            position: absolute;\n",
       "            z-index: 1;\n",
       "        }\n",
       "        #primary {\n",
       "            font-weight: bold;\n",
       "            color: black;\n",
       "        }\n",
       "        #nonprimary {\n",
       "            font-weight: normal;\n",
       "            color: white;\n",
       "        }\n",
       "\n",
       "        /* Show the tooltip text when you mouse over the tooltip container */\n",
       "        .djtooltip:hover .djtooltiptext {\n",
       "            visibility: visible;\n",
       "        }\n",
       "    </style>\n",
       "    \n",
       "    <b>Experimental trials</b>\n",
       "        <div style=\"max-height:1000px;max-width:1500px;overflow:auto;\">\n",
       "        <table border=\"1\" class=\"Relation\">\n",
       "            <thead> <tr style=\"text-align: right;\"> <th> <div class=\"djtooltip\">\n",
       "                            <p id=\"primary\">subject</p>\n",
       "                            <span class=\"djtooltiptext\"></span>\n",
       "                        </div></th><th><div class=\"djtooltip\">\n",
       "                            <p id=\"primary\">session_datetime</p>\n",
       "                            <span class=\"djtooltiptext\"></span>\n",
       "                        </div></th><th><div class=\"djtooltip\">\n",
       "                            <p id=\"primary\">trial_id</p>\n",
       "                            <span class=\"djtooltiptext\">trial number (1-based indexing)</span>\n",
       "                        </div></th><th><div class=\"djtooltip\">\n",
       "                            <p id=\"nonprimary\">trial_type</p>\n",
       "                            <span class=\"djtooltiptext\"></span>\n",
       "                        </div></th><th><div class=\"djtooltip\">\n",
       "                            <p id=\"nonprimary\">trial_start_time</p>\n",
       "                            <span class=\"djtooltiptext\">(second) relative to recording start</span>\n",
       "                        </div></th><th><div class=\"djtooltip\">\n",
       "                            <p id=\"nonprimary\">trial_stop_time</p>\n",
       "                            <span class=\"djtooltiptext\">(second) relative to recording start</span>\n",
       "                        </div> </th> </tr> </thead>\n",
       "            <tbody> <tr> <td>subject6</td>\n",
       "<td>2021-01-15 11:16:38</td>\n",
       "<td>1</td>\n",
       "<td>stim</td>\n",
       "<td>0.123</td>\n",
       "<td>17.123</td></tr><tr><td>subject6</td>\n",
       "<td>2021-01-15 11:16:38</td>\n",
       "<td>2</td>\n",
       "<td>ctrl</td>\n",
       "<td>17.54</td>\n",
       "<td>34.54</td></tr><tr><td>subject6</td>\n",
       "<td>2021-01-15 11:16:38</td>\n",
       "<td>3</td>\n",
       "<td>ctrl</td>\n",
       "<td>34.81</td>\n",
       "<td>51.81</td></tr><tr><td>subject6</td>\n",
       "<td>2021-01-15 11:16:38</td>\n",
       "<td>4</td>\n",
       "<td>ctrl</td>\n",
       "<td>52.202</td>\n",
       "<td>69.202</td></tr><tr><td>subject6</td>\n",
       "<td>2021-01-15 11:16:38</td>\n",
       "<td>5</td>\n",
       "<td>stim</td>\n",
       "<td>69.611</td>\n",
       "<td>86.611</td></tr><tr><td>subject6</td>\n",
       "<td>2021-01-15 11:16:38</td>\n",
       "<td>6</td>\n",
       "<td>stim</td>\n",
       "<td>87.03</td>\n",
       "<td>104.03</td></tr><tr><td>subject6</td>\n",
       "<td>2021-01-15 11:16:38</td>\n",
       "<td>7</td>\n",
       "<td>ctrl</td>\n",
       "<td>104.165</td>\n",
       "<td>121.165</td></tr><tr><td>subject6</td>\n",
       "<td>2021-01-15 11:16:38</td>\n",
       "<td>8</td>\n",
       "<td>ctrl</td>\n",
       "<td>121.502</td>\n",
       "<td>138.502</td></tr><tr><td>subject6</td>\n",
       "<td>2021-01-15 11:16:38</td>\n",
       "<td>9</td>\n",
       "<td>ctrl</td>\n",
       "<td>138.612</td>\n",
       "<td>155.612</td></tr><tr><td>subject6</td>\n",
       "<td>2021-01-15 11:16:38</td>\n",
       "<td>10</td>\n",
       "<td>stim</td>\n",
       "<td>155.741</td>\n",
       "<td>172.741</td> </tr> </tbody>\n",
       "        </table>\n",
       "        <p>...</p>\n",
       "        <p>Total: 100</p></div>\n",
       "        "
      ],
      "text/plain": [
       "*subject     *session_datet *trial_id    trial_type     trial_start_ti trial_stop_tim\n",
       "+----------+ +------------+ +----------+ +------------+ +------------+ +------------+\n",
       "subject6     2021-01-15 11: 1            stim           0.123          17.123        \n",
       "subject6     2021-01-15 11: 2            ctrl           17.54          34.54         \n",
       "subject6     2021-01-15 11: 3            ctrl           34.81          51.81         \n",
       "subject6     2021-01-15 11: 4            ctrl           52.202         69.202        \n",
       "subject6     2021-01-15 11: 5            stim           69.611         86.611        \n",
       "subject6     2021-01-15 11: 6            stim           87.03          104.03        \n",
       "subject6     2021-01-15 11: 7            ctrl           104.165        121.165       \n",
       "subject6     2021-01-15 11: 8            ctrl           121.502        138.502       \n",
       "subject6     2021-01-15 11: 9            ctrl           138.612        155.612       \n",
       "subject6     2021-01-15 11: 10           stim           155.741        172.741       \n",
       "   ...\n",
       " (Total: 100)"
      ]
     },
     "execution_count": 12,
     "metadata": {},
     "output_type": "execute_result"
    }
   ],
   "source": [
    "trial.Trial & clustering_key"
   ]
  },
  {
   "cell_type": "markdown",
   "id": "a2947c6b-e58b-4dd8-b6ac-23717244634b",
   "metadata": {},
   "source": [
    "And we can narrow our focus on `ctrl` trials."
   ]
  },
  {
   "cell_type": "code",
   "execution_count": 13,
   "id": "1851ad2b",
   "metadata": {},
   "outputs": [],
   "source": [
    "ctrl_trials = trial.Trial & clustering_key & 'trial_type = \"ctrl\"'"
   ]
  },
  {
   "cell_type": "markdown",
   "id": "be1e7935-7a12-4753-9132-e311f9c3fadd",
   "metadata": {},
   "source": [
    "The `analysis` schema provides example tables to perform event-aligned spike-times analysis."
   ]
  },
  {
   "cell_type": "code",
   "execution_count": 14,
   "id": "937383de-b313-45ec-9239-8f6a8e604ac1",
   "metadata": {},
   "outputs": [
    {
     "name": "stderr",
     "output_type": "stream",
     "text": [
      "/Users/cb/miniforge3/envs/ele/lib/python3.9/inspect.py:351: FutureWarning: pandas.Float64Index is deprecated and will be removed from pandas in a future version. Use pandas.Index with the appropriate dtype instead.\n",
      "  value = getattr(object, key)\n",
      "/Users/cb/miniforge3/envs/ele/lib/python3.9/inspect.py:351: FutureWarning: pandas.Int64Index is deprecated and will be removed from pandas in a future version. Use pandas.Index with the appropriate dtype instead.\n",
      "  value = getattr(object, key)\n",
      "/Users/cb/miniforge3/envs/ele/lib/python3.9/inspect.py:351: FutureWarning: pandas.UInt64Index is deprecated and will be removed from pandas in a future version. Use pandas.Index with the appropriate dtype instead.\n",
      "  value = getattr(object, key)\n"
     ]
    },
    {
     "data": {
      "image/svg+xml": "<svg xmlns=\"http://www.w3.org/2000/svg\" xmlns:xlink=\"http://www.w3.org/1999/xlink\" width=\"579pt\" height=\"231pt\" viewBox=\"0.00 0.00 579.25 231.00\">\n<g id=\"graph0\" class=\"graph\" transform=\"scale(1 1) rotate(0) translate(4 227)\">\n<polygon fill=\"white\" stroke=\"transparent\" points=\"-4,4 -4,-227 575.25,-227 575.25,4 -4,4\"/>\n<!-- analysis.SpikesAlignmentCondition -->\n<g id=\"node1\" class=\"node\">\n<title>analysis.SpikesAlignmentCondition</title>\n<g id=\"a_node1\"><a xlink:title=\"→ ephys.CuratedClustering\r→ event.AlignmentEvent\rtrial_condition      \r------------------------------\rcondition_description=&quot;&quot; \rbin_size=0.04        \r\">\n<polygon fill=\"#00ff00\" fill-opacity=\"0.188235\" stroke=\"#00ff00\" stroke-opacity=\"0.188235\" points=\"475.5,-152 269.5,-152 269.5,-117 475.5,-117 475.5,-152\"/>\n<text text-anchor=\"start\" x=\"277.5\" y=\"-132.4\" font-family=\"arial\" text-decoration=\"underline\" font-size=\"12.00\" fill=\"darkgreen\">analysis.SpikesAlignmentCondition</text>\n</a>\n</g>\n</g>\n<!-- analysis.SpikesAlignment -->\n<g id=\"node3\" class=\"node\">\n<title>analysis.SpikesAlignment</title>\n<g id=\"a_node3\"><a xlink:title=\"→ analysis.SpikesAlignmentCondition\r\">\n<ellipse fill=\"#ff0000\" fill-opacity=\"0.125490\" stroke=\"#ff0000\" stroke-opacity=\"0.125490\" cx=\"232.5\" cy=\"-68\" rx=\"13\" ry=\"13\"/>\n<text text-anchor=\"middle\" x=\"232.5\" y=\"-64.9\" font-family=\"arial\" font-size=\"12.00\" fill=\"#7f0000\" fill-opacity=\"0.627451\">analysis.SpikesAlignment</text>\n</a>\n</g>\n</g>\n<!-- analysis.SpikesAlignmentCondition&#45;&gt;analysis.SpikesAlignment -->\n<g id=\"edge1\" class=\"edge\">\n<title>analysis.SpikesAlignmentCondition-&gt;analysis.SpikesAlignment</title>\n<path fill=\"none\" stroke=\"#000000\" stroke-width=\"2\" stroke-opacity=\"0.250980\" d=\"M336.45,-116.89C305.98,-102.86 264.2,-83.61 244.16,-74.37\"/>\n</g>\n<!-- analysis.SpikesAlignmentCondition.Trial -->\n<g id=\"node8\" class=\"node\">\n<title>analysis.SpikesAlignmentCondition.Trial</title>\n<g id=\"a_node8\"><a xlink:title=\"→ analysis.SpikesAlignmentCondition\r→ trial.Trial\r\">\n<polygon fill=\"transparent\" stroke=\"transparent\" points=\"520.5,-77.5 328.5,-77.5 328.5,-58.5 520.5,-58.5 520.5,-77.5\"/>\n<text text-anchor=\"middle\" x=\"424.5\" y=\"-65.5\" font-family=\"arial\" font-size=\"10.00\">analysis.SpikesAlignmentCondition.Trial</text>\n</a>\n</g>\n</g>\n<!-- analysis.SpikesAlignmentCondition&#45;&gt;analysis.SpikesAlignmentCondition.Trial -->\n<g id=\"edge2\" class=\"edge\">\n<title>analysis.SpikesAlignmentCondition-&gt;analysis.SpikesAlignmentCondition.Trial</title>\n<path fill=\"none\" stroke=\"#000000\" stroke-width=\"0.75\" stroke-opacity=\"0.250980\" d=\"M385.89,-116.89C396,-104.35 409.47,-87.64 417.53,-77.64\"/>\n</g>\n<!-- analysis.SpikesAlignment.UnitPSTH -->\n<g id=\"node2\" class=\"node\">\n<title>analysis.SpikesAlignment.UnitPSTH</title>\n<g id=\"a_node2\"><a xlink:title=\"→ analysis.SpikesAlignment\r→ ephys.CuratedClustering.Unit\r------------------------------\rpsth                 \rpsth_edges           \r\">\n<polygon fill=\"transparent\" stroke=\"transparent\" points=\"177,-19 0,-19 0,0 177,0 177,-19\"/>\n<text text-anchor=\"middle\" x=\"88.5\" y=\"-7\" font-family=\"arial\" font-size=\"10.00\">analysis.SpikesAlignment.UnitPSTH</text>\n</a>\n</g>\n</g>\n<!-- analysis.SpikesAlignment&#45;&gt;analysis.SpikesAlignment.UnitPSTH -->\n<g id=\"edge3\" class=\"edge\">\n<title>analysis.SpikesAlignment-&gt;analysis.SpikesAlignment.UnitPSTH</title>\n<path fill=\"none\" stroke=\"#000000\" stroke-width=\"0.75\" stroke-opacity=\"0.250980\" d=\"M220.72,-62.38C196.6,-52.91 141.3,-31.22 110.4,-19.09\"/>\n</g>\n<!-- analysis.SpikesAlignment.AlignedTrialSpikes -->\n<g id=\"node6\" class=\"node\">\n<title>analysis.SpikesAlignment.AlignedTrialSpikes</title>\n<g id=\"a_node6\"><a xlink:title=\"→ analysis.SpikesAlignment\r→ ephys.CuratedClustering.Unit\r→ analysis.SpikesAlignmentCondition.Trial\r------------------------------\raligned_spike_times  \r\">\n<polygon fill=\"transparent\" stroke=\"transparent\" points=\"408,-19 195,-19 195,0 408,0 408,-19\"/>\n<text text-anchor=\"middle\" x=\"301.5\" y=\"-7\" font-family=\"arial\" font-size=\"10.00\">analysis.SpikesAlignment.AlignedTrialSpikes</text>\n</a>\n</g>\n</g>\n<!-- analysis.SpikesAlignment&#45;&gt;analysis.SpikesAlignment.AlignedTrialSpikes -->\n<g id=\"edge4\" class=\"edge\">\n<title>analysis.SpikesAlignment-&gt;analysis.SpikesAlignment.AlignedTrialSpikes</title>\n<path fill=\"none\" stroke=\"#000000\" stroke-width=\"0.75\" stroke-opacity=\"0.250980\" d=\"M242.09,-59.14C254.98,-48.59 277.79,-29.91 291.09,-19.03\"/>\n</g>\n<!-- ephys.CuratedClustering.Unit -->\n<g id=\"node4\" class=\"node\">\n<title>ephys.CuratedClustering.Unit</title>\n<g id=\"a_node4\"><a xlink:title=\"→ ephys.CuratedClustering\runit                 \r------------------------------\r→ ephys.probe.ElectrodeConfig.Electrode\r→ ephys.ClusterQualityLabel\rspike_count          \rspike_times          \rspike_sites          \rspike_depths         \r\">\n<polygon fill=\"transparent\" stroke=\"transparent\" points=\"199.5,-144 53.5,-144 53.5,-125 199.5,-125 199.5,-144\"/>\n<text text-anchor=\"middle\" x=\"126.5\" y=\"-132\" font-family=\"arial\" font-size=\"10.00\">ephys.CuratedClustering.Unit</text>\n</a>\n</g>\n</g>\n<!-- ephys.CuratedClustering.Unit&#45;&gt;analysis.SpikesAlignment.UnitPSTH -->\n<g id=\"edge5\" class=\"edge\">\n<title>ephys.CuratedClustering.Unit-&gt;analysis.SpikesAlignment.UnitPSTH</title>\n<path fill=\"none\" stroke=\"#000000\" stroke-width=\"0.75\" stroke-opacity=\"0.250980\" d=\"M123.77,-124.65C116.76,-101.96 98.19,-41.87 91.21,-19.27\"/>\n</g>\n<!-- ephys.CuratedClustering.Unit&#45;&gt;analysis.SpikesAlignment.AlignedTrialSpikes -->\n<g id=\"edge6\" class=\"edge\">\n<title>ephys.CuratedClustering.Unit-&gt;analysis.SpikesAlignment.AlignedTrialSpikes</title>\n<path fill=\"none\" stroke=\"#000000\" stroke-width=\"0.75\" stroke-opacity=\"0.250980\" d=\"M125.97,-124.88C125.49,-108.87 126.85,-74.42 145.5,-55 163.25,-36.52 188.1,-25.55 212.75,-19.09\"/>\n</g>\n<!-- event.AlignmentEvent -->\n<g id=\"node5\" class=\"node\">\n<title>event.AlignmentEvent</title>\n<g id=\"a_node5\"><a xlink:title=\"alignment_name       \r------------------------------\ralignment_description=&quot;&quot; \r→ event.EventType.proj(alignment_event_type=&quot;event_type&quot;)\ralignment_time_shift \r→ event.EventType.proj(start_event_type=&quot;event_type&quot;)\rstart_time_shift     \r→ event.EventType.proj(end_event_type=&quot;event_type&quot;)\rend_time_shift       \r\">\n<polygon fill=\"#00ff00\" fill-opacity=\"0.188235\" stroke=\"#00ff00\" stroke-opacity=\"0.188235\" points=\"439.5,-223 305.5,-223 305.5,-188 439.5,-188 439.5,-223\"/>\n<text text-anchor=\"start\" x=\"313.5\" y=\"-203.4\" font-family=\"arial\" text-decoration=\"underline\" font-size=\"12.00\" fill=\"darkgreen\">event.AlignmentEvent</text>\n</a>\n</g>\n</g>\n<!-- event.AlignmentEvent&#45;&gt;analysis.SpikesAlignmentCondition -->\n<g id=\"edge7\" class=\"edge\">\n<title>event.AlignmentEvent-&gt;analysis.SpikesAlignmentCondition</title>\n<path fill=\"none\" stroke=\"#000000\" stroke-width=\"0.75\" stroke-opacity=\"0.250980\" d=\"M372.5,-187.8C372.5,-176.95 372.5,-162.87 372.5,-152.05\"/>\n</g>\n<!-- trial.Trial -->\n<g id=\"node7\" class=\"node\">\n<title>trial.Trial</title>\n<g id=\"a_node7\"><a xlink:title=\"→ event.BehaviorRecording\rtrial_id             \r------------------------------\r→ [nullable] trial.TrialType\rtrial_start_time     \rtrial_stop_time      \r\">\n<ellipse fill=\"#00007f\" fill-opacity=\"0.250980\" stroke=\"#00007f\" stroke-opacity=\"0.250980\" cx=\"532.5\" cy=\"-134.5\" rx=\"38.5\" ry=\"17.5\"/>\n<text text-anchor=\"start\" x=\"509.5\" y=\"-132.4\" font-family=\"arial\" text-decoration=\"underline\" font-size=\"12.00\" fill=\"#00007f\" fill-opacity=\"0.627451\">trial.Trial</text>\n</a>\n</g>\n</g>\n<!-- trial.Trial&#45;&gt;analysis.SpikesAlignmentCondition.Trial -->\n<g id=\"edge8\" class=\"edge\">\n<title>trial.Trial-&gt;analysis.SpikesAlignmentCondition.Trial</title>\n<path fill=\"none\" stroke=\"#000000\" stroke-width=\"0.75\" stroke-opacity=\"0.250980\" d=\"M510.12,-120.14C488.74,-107.37 457.16,-88.5 438.92,-77.61\"/>\n</g>\n<!-- analysis.SpikesAlignmentCondition.Trial&#45;&gt;analysis.SpikesAlignment.AlignedTrialSpikes -->\n<g id=\"edge9\" class=\"edge\">\n<title>analysis.SpikesAlignmentCondition.Trial-&gt;analysis.SpikesAlignment.AlignedTrialSpikes</title>\n<path fill=\"none\" stroke=\"#000000\" stroke-width=\"0.75\" stroke-opacity=\"0.250980\" d=\"M405.82,-58.42C382.7,-47.8 343.56,-29.82 320.36,-19.16\"/>\n</g>\n<!-- ephys.CuratedClustering -->\n<g id=\"node9\" class=\"node\">\n<title>ephys.CuratedClustering</title>\n<g id=\"a_node9\"><a xlink:title=\"→ ephys.Clustering\r\">\n<ellipse fill=\"#00007f\" fill-opacity=\"0.250980\" stroke=\"#00007f\" stroke-opacity=\"0.250980\" cx=\"126.5\" cy=\"-205.5\" rx=\"93.25\" ry=\"17.5\"/>\n<text text-anchor=\"middle\" x=\"126.5\" y=\"-202.4\" font-family=\"arial\" font-size=\"12.00\" fill=\"#00007f\" fill-opacity=\"0.627451\">ephys.CuratedClustering</text>\n</a>\n</g>\n</g>\n<!-- ephys.CuratedClustering&#45;&gt;analysis.SpikesAlignmentCondition -->\n<g id=\"edge10\" class=\"edge\">\n<title>ephys.CuratedClustering-&gt;analysis.SpikesAlignmentCondition</title>\n<path fill=\"none\" stroke=\"#000000\" stroke-width=\"0.75\" stroke-opacity=\"0.250980\" d=\"M175.99,-190.62C215.69,-179.48 271.54,-163.82 313.56,-152.03\"/>\n</g>\n<!-- ephys.CuratedClustering&#45;&gt;ephys.CuratedClustering.Unit -->\n<g id=\"edge11\" class=\"edge\">\n<title>ephys.CuratedClustering-&gt;ephys.CuratedClustering.Unit</title>\n<path fill=\"none\" stroke=\"#000000\" stroke-width=\"0.75\" stroke-opacity=\"0.250980\" d=\"M126.5,-187.8C126.5,-174.08 126.5,-155.19 126.5,-144.27\"/>\n</g>\n</g>\n</svg>",
      "text/plain": [
       "<datajoint.diagram.Diagram at 0x105ff9fa0>"
      ]
     },
     "execution_count": 14,
     "metadata": {},
     "output_type": "execute_result"
    }
   ],
   "source": [
    "(\n",
    "    dj.Diagram(analysis)\n",
    "    + dj.Diagram(event.AlignmentEvent)\n",
    "    + dj.Diagram(trial.Trial)\n",
    "    + dj.Diagram(ephys.CuratedClustering)\n",
    ")"
   ]
  },
  {
   "cell_type": "markdown",
   "id": "0fdb3f63-6dda-4489-b2a1-8a9073ff290a",
   "metadata": {
    "title": "***SpikesAlignmentCondition*** - a manual table to specify the inputs and condition for the analysis"
   },
   "source": [
    "Let's start by creating an analysis configuration - i.e. inserting into ***SpikesAlignmentCondition*** for the `center` event, called `center_button` in the `AlignmentEvent` table."
   ]
  },
  {
   "cell_type": "code",
   "execution_count": 15,
   "id": "f76cc104-4925-4e71-822e-81f3643e5625",
   "metadata": {
    "lines_to_next_cell": 0,
    "title": "***SpikesAlignment*** - a computed table to extract event-aligned spikes and compute unit PSTH"
   },
   "outputs": [],
   "source": [
    "alignment_key = (event.AlignmentEvent & 'alignment_name = \"center_button\"').fetch1(\n",
    "    \"KEY\"\n",
    ")\n",
    "alignment_condition = {\n",
    "    **clustering_key,\n",
    "    **alignment_key,\n",
    "    \"trial_condition\": \"ctrl_center_button\",\n",
    "    \"bin_size\": 0.2,\n",
    "}\n",
    "analysis.SpikesAlignmentCondition.insert1(alignment_condition, skip_duplicates=True)\n",
    "alignment_condition.pop(\"bin_size\")\n",
    "analysis.SpikesAlignmentCondition.Trial.insert(\n",
    "    (analysis.SpikesAlignmentCondition * ctrl_trials & alignment_condition).proj(),\n",
    "    skip_duplicates=True,\n",
    ")"
   ]
  },
  {
   "cell_type": "markdown",
   "id": "8d095e0a-207d-4641-86eb-bc25a0a09018",
   "metadata": {
    "title": "a CuratedClustering of interest for analysis"
   },
   "source": [
    "With the steps above, we have created a new spike alignment condition for analysis, named `ctrl_center_button`, which retains all spiking information related to control trials during which the center button was pressed."
   ]
  },
  {
   "cell_type": "code",
   "execution_count": 16,
   "id": "5e2c96c5-9382-4d57-a1c9-0124611a3e08",
   "metadata": {
    "lines_to_next_cell": 0,
    "title": "***SpikesAlignment*** - a computed table to extract event-aligned spikes and compute unit PSTH"
   },
   "outputs": [
    {
     "data": {
      "text/html": [
       "\n",
       "    \n",
       "    <style type=\"text/css\">\n",
       "        .Relation{\n",
       "            border-collapse:collapse;\n",
       "        }\n",
       "        .Relation th{\n",
       "            background: #A0A0A0; color: #ffffff; padding:4px; border:#f0e0e0 1px solid;\n",
       "            font-weight: normal; font-family: monospace; font-size: 100%;\n",
       "        }\n",
       "        .Relation td{\n",
       "            padding:4px; border:#f0e0e0 1px solid; font-size:100%;\n",
       "        }\n",
       "        .Relation tr:nth-child(odd){\n",
       "            background: #ffffff;\n",
       "        }\n",
       "        .Relation tr:nth-child(even){\n",
       "            background: #f3f1ff;\n",
       "        }\n",
       "        /* Tooltip container */\n",
       "        .djtooltip {\n",
       "        }\n",
       "        /* Tooltip text */\n",
       "        .djtooltip .djtooltiptext {\n",
       "            visibility: hidden;\n",
       "            width: 120px;\n",
       "            background-color: black;\n",
       "            color: #fff;\n",
       "            text-align: center;\n",
       "            padding: 5px 0;\n",
       "            border-radius: 6px;\n",
       "            /* Position the tooltip text - see examples below! */\n",
       "            position: absolute;\n",
       "            z-index: 1;\n",
       "        }\n",
       "        #primary {\n",
       "            font-weight: bold;\n",
       "            color: black;\n",
       "        }\n",
       "        #nonprimary {\n",
       "            font-weight: normal;\n",
       "            color: white;\n",
       "        }\n",
       "\n",
       "        /* Show the tooltip text when you mouse over the tooltip container */\n",
       "        .djtooltip:hover .djtooltiptext {\n",
       "            visibility: visible;\n",
       "        }\n",
       "    </style>\n",
       "    \n",
       "    <b>Trials on which to compute event-aligned spikes and PSTH</b>\n",
       "        <div style=\"max-height:1000px;max-width:1500px;overflow:auto;\">\n",
       "        <table border=\"1\" class=\"Relation\">\n",
       "            <thead> <tr style=\"text-align: right;\"> <th> <div class=\"djtooltip\">\n",
       "                            <p id=\"primary\">subject</p>\n",
       "                            <span class=\"djtooltiptext\"></span>\n",
       "                        </div></th><th><div class=\"djtooltip\">\n",
       "                            <p id=\"primary\">session_datetime</p>\n",
       "                            <span class=\"djtooltiptext\"></span>\n",
       "                        </div></th><th><div class=\"djtooltip\">\n",
       "                            <p id=\"primary\">insertion_number</p>\n",
       "                            <span class=\"djtooltiptext\"></span>\n",
       "                        </div></th><th><div class=\"djtooltip\">\n",
       "                            <p id=\"primary\">paramset_idx</p>\n",
       "                            <span class=\"djtooltiptext\"></span>\n",
       "                        </div></th><th><div class=\"djtooltip\">\n",
       "                            <p id=\"primary\">alignment_name</p>\n",
       "                            <span class=\"djtooltiptext\"></span>\n",
       "                        </div></th><th><div class=\"djtooltip\">\n",
       "                            <p id=\"primary\">trial_condition</p>\n",
       "                            <span class=\"djtooltiptext\">user-friendly name of condition</span>\n",
       "                        </div></th><th><div class=\"djtooltip\">\n",
       "                            <p id=\"primary\">trial_id</p>\n",
       "                            <span class=\"djtooltiptext\">trial number (1-based indexing)</span>\n",
       "                        </div> </th> </tr> </thead>\n",
       "            <tbody> <tr> <td>subject6</td>\n",
       "<td>2021-01-15 11:16:38</td>\n",
       "<td>0</td>\n",
       "<td>0</td>\n",
       "<td>center_button</td>\n",
       "<td>ctrl_center_button</td>\n",
       "<td>2</td></tr><tr><td>subject6</td>\n",
       "<td>2021-01-15 11:16:38</td>\n",
       "<td>0</td>\n",
       "<td>0</td>\n",
       "<td>center_button</td>\n",
       "<td>ctrl_center_button</td>\n",
       "<td>3</td></tr><tr><td>subject6</td>\n",
       "<td>2021-01-15 11:16:38</td>\n",
       "<td>0</td>\n",
       "<td>0</td>\n",
       "<td>center_button</td>\n",
       "<td>ctrl_center_button</td>\n",
       "<td>4</td></tr><tr><td>subject6</td>\n",
       "<td>2021-01-15 11:16:38</td>\n",
       "<td>0</td>\n",
       "<td>0</td>\n",
       "<td>center_button</td>\n",
       "<td>ctrl_center_button</td>\n",
       "<td>7</td></tr><tr><td>subject6</td>\n",
       "<td>2021-01-15 11:16:38</td>\n",
       "<td>0</td>\n",
       "<td>0</td>\n",
       "<td>center_button</td>\n",
       "<td>ctrl_center_button</td>\n",
       "<td>8</td></tr><tr><td>subject6</td>\n",
       "<td>2021-01-15 11:16:38</td>\n",
       "<td>0</td>\n",
       "<td>0</td>\n",
       "<td>center_button</td>\n",
       "<td>ctrl_center_button</td>\n",
       "<td>9</td></tr><tr><td>subject6</td>\n",
       "<td>2021-01-15 11:16:38</td>\n",
       "<td>0</td>\n",
       "<td>0</td>\n",
       "<td>center_button</td>\n",
       "<td>ctrl_center_button</td>\n",
       "<td>13</td></tr><tr><td>subject6</td>\n",
       "<td>2021-01-15 11:16:38</td>\n",
       "<td>0</td>\n",
       "<td>0</td>\n",
       "<td>center_button</td>\n",
       "<td>ctrl_center_button</td>\n",
       "<td>14</td></tr><tr><td>subject6</td>\n",
       "<td>2021-01-15 11:16:38</td>\n",
       "<td>0</td>\n",
       "<td>0</td>\n",
       "<td>center_button</td>\n",
       "<td>ctrl_center_button</td>\n",
       "<td>15</td></tr><tr><td>subject6</td>\n",
       "<td>2021-01-15 11:16:38</td>\n",
       "<td>0</td>\n",
       "<td>0</td>\n",
       "<td>center_button</td>\n",
       "<td>ctrl_center_button</td>\n",
       "<td>16</td> </tr> </tbody>\n",
       "        </table>\n",
       "        <p>...</p>\n",
       "        <p>Total: 50</p></div>\n",
       "        "
      ],
      "text/plain": [
       "*subject     *session_datet *insertion_num *paramset_idx  *alignment_nam *trial_conditi *trial_id   \n",
       "+----------+ +------------+ +------------+ +------------+ +------------+ +------------+ +----------+\n",
       "subject6     2021-01-15 11: 0              0              center_button  ctrl_center_bu 2           \n",
       "subject6     2021-01-15 11: 0              0              center_button  ctrl_center_bu 3           \n",
       "subject6     2021-01-15 11: 0              0              center_button  ctrl_center_bu 4           \n",
       "subject6     2021-01-15 11: 0              0              center_button  ctrl_center_bu 7           \n",
       "subject6     2021-01-15 11: 0              0              center_button  ctrl_center_bu 8           \n",
       "subject6     2021-01-15 11: 0              0              center_button  ctrl_center_bu 9           \n",
       "subject6     2021-01-15 11: 0              0              center_button  ctrl_center_bu 13          \n",
       "subject6     2021-01-15 11: 0              0              center_button  ctrl_center_bu 14          \n",
       "subject6     2021-01-15 11: 0              0              center_button  ctrl_center_bu 15          \n",
       "subject6     2021-01-15 11: 0              0              center_button  ctrl_center_bu 16          \n",
       "   ...\n",
       " (Total: 50)"
      ]
     },
     "execution_count": 16,
     "metadata": {},
     "output_type": "execute_result"
    }
   ],
   "source": [
    "analysis.SpikesAlignmentCondition.Trial()"
   ]
  },
  {
   "cell_type": "markdown",
   "id": "68d6a35b-41be-404c-b39d-7df813d2a9de",
   "metadata": {
    "lines_to_next_cell": 0,
    "title": "a set of trials of interest to perform the analysis on - `ctrl` trials"
   },
   "source": [
    "Now, let's create another set for the stimulus condition."
   ]
  },
  {
   "cell_type": "code",
   "execution_count": 17,
   "id": "1ea69400-75a0-4421-9310-8eec465b4775",
   "metadata": {
    "title": "a set of trials of interest to perform the analysis on - `stim` trials"
   },
   "outputs": [],
   "source": [
    "stim_trials = trial.Trial & clustering_key & 'trial_type = \"stim\"'\n",
    "alignment_condition = {\n",
    "    **clustering_key,\n",
    "    **alignment_key,\n",
    "    \"trial_condition\": \"stim_center_button\",\n",
    "    \"bin_size\": 0.2,\n",
    "}\n",
    "analysis.SpikesAlignmentCondition.insert1(alignment_condition, skip_duplicates=True)\n",
    "alignment_condition.pop(\"bin_size\")\n",
    "analysis.SpikesAlignmentCondition.Trial.insert(\n",
    "    (analysis.SpikesAlignmentCondition * stim_trials & alignment_condition).proj(),\n",
    "    skip_duplicates=True,\n",
    ")"
   ]
  },
  {
   "cell_type": "markdown",
   "id": "b77f92ae-d2ba-4894-a439-286efd5d13f6",
   "metadata": {
    "title": "a set of trials of interest to perform the analysis on - `stim` trials"
   },
   "source": [
    "We can compare conditions in the `SpikesAlignmentCondition` table."
   ]
  },
  {
   "cell_type": "code",
   "execution_count": 18,
   "id": "10abfa77-a30c-4d4f-b905-51adaa6de54c",
   "metadata": {
    "title": "a set of trials of interest to perform the analysis on - `stim` trials"
   },
   "outputs": [
    {
     "data": {
      "text/html": [
       "\n",
       "    \n",
       "    <style type=\"text/css\">\n",
       "        .Relation{\n",
       "            border-collapse:collapse;\n",
       "        }\n",
       "        .Relation th{\n",
       "            background: #A0A0A0; color: #ffffff; padding:4px; border:#f0e0e0 1px solid;\n",
       "            font-weight: normal; font-family: monospace; font-size: 100%;\n",
       "        }\n",
       "        .Relation td{\n",
       "            padding:4px; border:#f0e0e0 1px solid; font-size:100%;\n",
       "        }\n",
       "        .Relation tr:nth-child(odd){\n",
       "            background: #ffffff;\n",
       "        }\n",
       "        .Relation tr:nth-child(even){\n",
       "            background: #f3f1ff;\n",
       "        }\n",
       "        /* Tooltip container */\n",
       "        .djtooltip {\n",
       "        }\n",
       "        /* Tooltip text */\n",
       "        .djtooltip .djtooltiptext {\n",
       "            visibility: hidden;\n",
       "            width: 120px;\n",
       "            background-color: black;\n",
       "            color: #fff;\n",
       "            text-align: center;\n",
       "            padding: 5px 0;\n",
       "            border-radius: 6px;\n",
       "            /* Position the tooltip text - see examples below! */\n",
       "            position: absolute;\n",
       "            z-index: 1;\n",
       "        }\n",
       "        #primary {\n",
       "            font-weight: bold;\n",
       "            color: black;\n",
       "        }\n",
       "        #nonprimary {\n",
       "            font-weight: normal;\n",
       "            color: white;\n",
       "        }\n",
       "\n",
       "        /* Show the tooltip text when you mouse over the tooltip container */\n",
       "        .djtooltip:hover .djtooltiptext {\n",
       "            visibility: visible;\n",
       "        }\n",
       "    </style>\n",
       "    \n",
       "    <b></b>\n",
       "        <div style=\"max-height:1000px;max-width:1500px;overflow:auto;\">\n",
       "        <table border=\"1\" class=\"Relation\">\n",
       "            <thead> <tr style=\"text-align: right;\"> <th> <div class=\"djtooltip\">\n",
       "                            <p id=\"primary\">subject</p>\n",
       "                            <span class=\"djtooltiptext\"></span>\n",
       "                        </div></th><th><div class=\"djtooltip\">\n",
       "                            <p id=\"primary\">session_datetime</p>\n",
       "                            <span class=\"djtooltiptext\"></span>\n",
       "                        </div></th><th><div class=\"djtooltip\">\n",
       "                            <p id=\"primary\">insertion_number</p>\n",
       "                            <span class=\"djtooltiptext\"></span>\n",
       "                        </div></th><th><div class=\"djtooltip\">\n",
       "                            <p id=\"primary\">paramset_idx</p>\n",
       "                            <span class=\"djtooltiptext\"></span>\n",
       "                        </div></th><th><div class=\"djtooltip\">\n",
       "                            <p id=\"primary\">alignment_name</p>\n",
       "                            <span class=\"djtooltiptext\"></span>\n",
       "                        </div></th><th><div class=\"djtooltip\">\n",
       "                            <p id=\"primary\">trial_condition</p>\n",
       "                            <span class=\"djtooltiptext\">user-friendly name of condition</span>\n",
       "                        </div></th><th><div class=\"djtooltip\">\n",
       "                            <p id=\"nonprimary\">condition_description</p>\n",
       "                            <span class=\"djtooltiptext\"></span>\n",
       "                        </div></th><th><div class=\"djtooltip\">\n",
       "                            <p id=\"nonprimary\">bin_size</p>\n",
       "                            <span class=\"djtooltiptext\">bin-size (in second) used to compute the PSTH</span>\n",
       "                        </div> </th> </tr> </thead>\n",
       "            <tbody> <tr> <td>subject6</td>\n",
       "<td>2021-01-15 11:16:38</td>\n",
       "<td>0</td>\n",
       "<td>0</td>\n",
       "<td>center_button</td>\n",
       "<td>ctrl_center_button</td>\n",
       "<td></td>\n",
       "<td>0.2</td></tr><tr><td>subject6</td>\n",
       "<td>2021-01-15 11:16:38</td>\n",
       "<td>0</td>\n",
       "<td>0</td>\n",
       "<td>center_button</td>\n",
       "<td>stim_center_button</td>\n",
       "<td></td>\n",
       "<td>0.2</td> </tr> </tbody>\n",
       "        </table>\n",
       "        \n",
       "        <p>Total: 2</p></div>\n",
       "        "
      ],
      "text/plain": [
       "*subject     *session_datet *insertion_num *paramset_idx  *alignment_nam *trial_conditi condition_desc bin_size    \n",
       "+----------+ +------------+ +------------+ +------------+ +------------+ +------------+ +------------+ +----------+\n",
       "subject6     2021-01-15 11: 0              0              center_button  ctrl_center_bu                0.2         \n",
       "subject6     2021-01-15 11: 0              0              center_button  stim_center_bu                0.2         \n",
       " (Total: 2)"
      ]
     },
     "execution_count": 18,
     "metadata": {},
     "output_type": "execute_result"
    }
   ],
   "source": [
    "analysis.SpikesAlignmentCondition()"
   ]
  },
  {
   "cell_type": "code",
   "execution_count": 19,
   "id": "8125c8d8-006d-41af-9c87-5c13973cdc3f",
   "metadata": {
    "title": "a set of trials of interest to perform the analysis on - `stim` trials"
   },
   "outputs": [
    {
     "data": {
      "text/html": [
       "\n",
       "    \n",
       "    <style type=\"text/css\">\n",
       "        .Relation{\n",
       "            border-collapse:collapse;\n",
       "        }\n",
       "        .Relation th{\n",
       "            background: #A0A0A0; color: #ffffff; padding:4px; border:#f0e0e0 1px solid;\n",
       "            font-weight: normal; font-family: monospace; font-size: 100%;\n",
       "        }\n",
       "        .Relation td{\n",
       "            padding:4px; border:#f0e0e0 1px solid; font-size:100%;\n",
       "        }\n",
       "        .Relation tr:nth-child(odd){\n",
       "            background: #ffffff;\n",
       "        }\n",
       "        .Relation tr:nth-child(even){\n",
       "            background: #f3f1ff;\n",
       "        }\n",
       "        /* Tooltip container */\n",
       "        .djtooltip {\n",
       "        }\n",
       "        /* Tooltip text */\n",
       "        .djtooltip .djtooltiptext {\n",
       "            visibility: hidden;\n",
       "            width: 120px;\n",
       "            background-color: black;\n",
       "            color: #fff;\n",
       "            text-align: center;\n",
       "            padding: 5px 0;\n",
       "            border-radius: 6px;\n",
       "            /* Position the tooltip text - see examples below! */\n",
       "            position: absolute;\n",
       "            z-index: 1;\n",
       "        }\n",
       "        #primary {\n",
       "            font-weight: bold;\n",
       "            color: black;\n",
       "        }\n",
       "        #nonprimary {\n",
       "            font-weight: normal;\n",
       "            color: white;\n",
       "        }\n",
       "\n",
       "        /* Show the tooltip text when you mouse over the tooltip container */\n",
       "        .djtooltip:hover .djtooltiptext {\n",
       "            visibility: visible;\n",
       "        }\n",
       "    </style>\n",
       "    \n",
       "    <b>Trials on which to compute event-aligned spikes and PSTH</b>\n",
       "        <div style=\"max-height:1000px;max-width:1500px;overflow:auto;\">\n",
       "        <table border=\"1\" class=\"Relation\">\n",
       "            <thead> <tr style=\"text-align: right;\"> <th> <div class=\"djtooltip\">\n",
       "                            <p id=\"primary\">subject</p>\n",
       "                            <span class=\"djtooltiptext\"></span>\n",
       "                        </div></th><th><div class=\"djtooltip\">\n",
       "                            <p id=\"primary\">session_datetime</p>\n",
       "                            <span class=\"djtooltiptext\"></span>\n",
       "                        </div></th><th><div class=\"djtooltip\">\n",
       "                            <p id=\"primary\">insertion_number</p>\n",
       "                            <span class=\"djtooltiptext\"></span>\n",
       "                        </div></th><th><div class=\"djtooltip\">\n",
       "                            <p id=\"primary\">paramset_idx</p>\n",
       "                            <span class=\"djtooltiptext\"></span>\n",
       "                        </div></th><th><div class=\"djtooltip\">\n",
       "                            <p id=\"primary\">alignment_name</p>\n",
       "                            <span class=\"djtooltiptext\"></span>\n",
       "                        </div></th><th><div class=\"djtooltip\">\n",
       "                            <p id=\"primary\">trial_condition</p>\n",
       "                            <span class=\"djtooltiptext\">user-friendly name of condition</span>\n",
       "                        </div></th><th><div class=\"djtooltip\">\n",
       "                            <p id=\"primary\">trial_id</p>\n",
       "                            <span class=\"djtooltiptext\">trial number (1-based indexing)</span>\n",
       "                        </div> </th> </tr> </thead>\n",
       "            <tbody> <tr> <td>subject6</td>\n",
       "<td>2021-01-15 11:16:38</td>\n",
       "<td>0</td>\n",
       "<td>0</td>\n",
       "<td>center_button</td>\n",
       "<td>stim_center_button</td>\n",
       "<td>1</td></tr><tr><td>subject6</td>\n",
       "<td>2021-01-15 11:16:38</td>\n",
       "<td>0</td>\n",
       "<td>0</td>\n",
       "<td>center_button</td>\n",
       "<td>stim_center_button</td>\n",
       "<td>5</td></tr><tr><td>subject6</td>\n",
       "<td>2021-01-15 11:16:38</td>\n",
       "<td>0</td>\n",
       "<td>0</td>\n",
       "<td>center_button</td>\n",
       "<td>stim_center_button</td>\n",
       "<td>6</td></tr><tr><td>subject6</td>\n",
       "<td>2021-01-15 11:16:38</td>\n",
       "<td>0</td>\n",
       "<td>0</td>\n",
       "<td>center_button</td>\n",
       "<td>stim_center_button</td>\n",
       "<td>10</td></tr><tr><td>subject6</td>\n",
       "<td>2021-01-15 11:16:38</td>\n",
       "<td>0</td>\n",
       "<td>0</td>\n",
       "<td>center_button</td>\n",
       "<td>stim_center_button</td>\n",
       "<td>11</td></tr><tr><td>subject6</td>\n",
       "<td>2021-01-15 11:16:38</td>\n",
       "<td>0</td>\n",
       "<td>0</td>\n",
       "<td>center_button</td>\n",
       "<td>stim_center_button</td>\n",
       "<td>12</td></tr><tr><td>subject6</td>\n",
       "<td>2021-01-15 11:16:38</td>\n",
       "<td>0</td>\n",
       "<td>0</td>\n",
       "<td>center_button</td>\n",
       "<td>stim_center_button</td>\n",
       "<td>17</td></tr><tr><td>subject6</td>\n",
       "<td>2021-01-15 11:16:38</td>\n",
       "<td>0</td>\n",
       "<td>0</td>\n",
       "<td>center_button</td>\n",
       "<td>stim_center_button</td>\n",
       "<td>18</td></tr><tr><td>subject6</td>\n",
       "<td>2021-01-15 11:16:38</td>\n",
       "<td>0</td>\n",
       "<td>0</td>\n",
       "<td>center_button</td>\n",
       "<td>stim_center_button</td>\n",
       "<td>19</td></tr><tr><td>subject6</td>\n",
       "<td>2021-01-15 11:16:38</td>\n",
       "<td>0</td>\n",
       "<td>0</td>\n",
       "<td>center_button</td>\n",
       "<td>stim_center_button</td>\n",
       "<td>21</td> </tr> </tbody>\n",
       "        </table>\n",
       "        <p>...</p>\n",
       "        <p>Total: 50</p></div>\n",
       "        "
      ],
      "text/plain": [
       "*subject     *session_datet *insertion_num *paramset_idx  *alignment_nam *trial_conditi *trial_id   \n",
       "+----------+ +------------+ +------------+ +------------+ +------------+ +------------+ +----------+\n",
       "subject6     2021-01-15 11: 0              0              center_button  stim_center_bu 1           \n",
       "subject6     2021-01-15 11: 0              0              center_button  stim_center_bu 5           \n",
       "subject6     2021-01-15 11: 0              0              center_button  stim_center_bu 6           \n",
       "subject6     2021-01-15 11: 0              0              center_button  stim_center_bu 10          \n",
       "subject6     2021-01-15 11: 0              0              center_button  stim_center_bu 11          \n",
       "subject6     2021-01-15 11: 0              0              center_button  stim_center_bu 12          \n",
       "subject6     2021-01-15 11: 0              0              center_button  stim_center_bu 17          \n",
       "subject6     2021-01-15 11: 0              0              center_button  stim_center_bu 18          \n",
       "subject6     2021-01-15 11: 0              0              center_button  stim_center_bu 19          \n",
       "subject6     2021-01-15 11: 0              0              center_button  stim_center_bu 21          \n",
       "   ...\n",
       " (Total: 50)"
      ]
     },
     "execution_count": 19,
     "metadata": {},
     "output_type": "execute_result"
    }
   ],
   "source": [
    "analysis.SpikesAlignmentCondition.Trial & 'trial_condition = \"stim_center_button\"'"
   ]
  },
  {
   "cell_type": "markdown",
   "id": "fa873de6-8e37-4616-996a-967682a896fb",
   "metadata": {
    "title": "a set of trials of interest to perform the analysis on - `stim` trials"
   },
   "source": [
    "## Computation\n",
    "\n",
    "Now let's run the computation on these."
   ]
  },
  {
   "cell_type": "code",
   "execution_count": 20,
   "id": "623998dd-0c08-4c75-b5ad-2766f11bda6b",
   "metadata": {
    "title": "a set of trials of interest to perform the analysis on - `stim` trials"
   },
   "outputs": [
    {
     "name": "stderr",
     "output_type": "stream",
     "text": [
      "SpikesAlignment: 100%|██████████| 2/2 [00:16<00:00,  8.24s/it]\n"
     ]
    }
   ],
   "source": [
    "analysis.SpikesAlignment.populate(display_progress=True)"
   ]
  },
  {
   "cell_type": "markdown",
   "id": "e80e0b70-1b75-4645-87d3-519e7f1a5ff6",
   "metadata": {
    "title": "a set of trials of interest to perform the analysis on - `stim` trials"
   },
   "source": [
    "## Visualize\n",
    "\n",
    "We can visualize the results with the `plot` function with our keys."
   ]
  },
  {
   "cell_type": "code",
   "execution_count": 21,
   "id": "b1f8bd26",
   "metadata": {},
   "outputs": [],
   "source": [
    "clustering_key = (\n",
    "    ephys.CuratedClustering\n",
    "    & {\n",
    "        \"subject\": \"subject6\",\n",
    "        \"session_datetime\": \"2021-01-15 11:16:38\",\n",
    "        \"insertion_number\": 0,\n",
    "    }\n",
    ").fetch1(\"KEY\")\n",
    "alignment_key = (event.AlignmentEvent & 'alignment_name = \"center_button\"').fetch1(\n",
    "    \"KEY\"\n",
    ")"
   ]
  },
  {
   "cell_type": "code",
   "execution_count": 22,
   "id": "03132026-55e3-4522-9f58-ce86b94c7842",
   "metadata": {
    "title": "a set of trials of interest to perform the analysis on - `stim` trials"
   },
   "outputs": [
    {
     "data": {
      "image/png": "[encoded data removed]",
      "text/plain": [
       "<Figure size 1200x800 with 2 Axes>"
      ]
     },
     "execution_count": 22,
     "metadata": {},
     "output_type": "execute_result"
    },
    {
     "data": {
      "image/png": "[encoded data removed]",
      "text/plain": [
       "<Figure size 1200x800 with 2 Axes>"
      ]
     },
     "metadata": {},
     "output_type": "display_data"
    }
   ],
   "source": [
    "alignment_condition = {\n",
    "    **clustering_key,\n",
    "    **alignment_key,\n",
    "    \"trial_condition\": \"ctrl_center_button\",\n",
    "}\n",
    "analysis.SpikesAlignment().plot(alignment_condition, unit=2)"
   ]
  },
  {
   "cell_type": "code",
   "execution_count": 23,
   "id": "e144df4c-87c1-4646-9d4b-b0009216bca1",
   "metadata": {
    "title": "a set of trials of interest to perform the analysis on - `stim` trials"
   },
   "outputs": [
    {
     "data": {
      "image/png": "[encoded data removed]",
      "text/plain": [
       "<Figure size 1200x800 with 2 Axes>"
      ]
     },
     "execution_count": 23,
     "metadata": {},
     "output_type": "execute_result"
    },
    {
     "data": {
      "image/png": "[encoded data removed]",
      "text/plain": [
       "<Figure size 1200x800 with 2 Axes>"
      ]
     },
     "metadata": {},
     "output_type": "display_data"
    }
   ],
   "source": [
    "alignment_condition = {\n",
    "    **clustering_key,\n",
    "    **alignment_key,\n",
    "    \"trial_condition\": \"stim_center_button\",\n",
    "}\n",
    "analysis.SpikesAlignment().plot(alignment_condition, unit=2)"
   ]
  },
  {
   "cell_type": "code",
   "execution_count": null,
   "id": "10198d2b",
   "metadata": {},
   "outputs": [],
   "source": []
  }
 ],
 "metadata": {
  "jupytext": {
   "formats": "ipynb,py_scripts//py"
  },
  "kernelspec": {
   "display_name": "Python 3.9.12 ('workflow-array-ephys')",
   "language": "python",
   "name": "python3"
  },
  "language_info": {
   "codemirror_mode": {
    "name": "ipython",
    "version": 3
   },
   "file_extension": ".py",
   "mimetype": "text/x-python",
   "name": "python",
   "nbconvert_exporter": "python",
   "pygments_lexer": "ipython3",
   "version": "3.9.12"
  },
  "vscode": {
   "interpreter": {
    "hash": "00d54a4458531bfb6ca712534f09ad07c72fb6be78615d021a13d81a36e2a4f1"
   }
  }
 },
 "nbformat": 4,
 "nbformat_minor": 5
}
