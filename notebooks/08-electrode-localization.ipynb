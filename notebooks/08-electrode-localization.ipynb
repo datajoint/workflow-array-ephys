{
 "cells": [
  {
   "cell_type": "markdown",
   "metadata": {},
   "source": [
    "# Electrode Localization"
   ]
  },
  {
   "cell_type": "markdown",
   "metadata": {},
   "source": [
    "Change into the parent directory to find the `dj_local_conf.json` file."
   ]
  },
  {
   "cell_type": "code",
   "execution_count": null,
   "metadata": {},
   "outputs": [],
   "source": [
    "# change to the upper level folder to detect dj_local_conf.json\n",
    "import os\n",
    "if os.path.basename(os.getcwd()) == \"notebooks\":\n",
    "    os.chdir(\"..\")"
   ]
  },
  {
   "cell_type": "code",
   "execution_count": null,
   "metadata": {},
   "outputs": [],
   "source": [
    "# We'll be working with long tables, so we'll make visualization easier with a limit\n",
    "import datajoint as dj\n",
    "dj.config[\"display.limit\"] = 10"
   ]
  },
  {
   "cell_type": "markdown",
   "metadata": {
    "incorrectly_encoded_metadata": "tags=[] jp-MarkdownHeadingCollapsed=true jp-MarkdownHeadingCollapsed=true",
    "tags": []
   },
   "source": [
    "## Coordinate Framework"
   ]
  },
  {
   "cell_type": "markdown",
   "metadata": {},
   "source": [
    "The Allen Institute hosts [brain atlases](http://download.alleninstitute.org/informatics-archive/current-release/mouse_ccf/annotation/ccf_2017) and [ontology trees](https://community.brain-map.org/t/allen-mouse-ccf-accessing-and-using-related-data-and-tools/359) that we'll use in the next section. The `localization.py` script assumes this is your first atlas, and that you'll use the 100μm resolution. For finer resolutions, edit `voxel_resolution` in `localization.py`. Higher resolution `nrrd` files are quite large when loaded. Depending on the python environment, the terminal may be killed when loading so much information into memory. To load multiple atlases, increment `ccf_id` for each unique atlas.\n",
    "\n",
    "To run this pipeline ...\n",
    "1. Download the 100μm `nrrd` and `csv` files from the links above.\n",
    "2. Move these files to your ephys root directory."
   ]
  },
  {
   "cell_type": "markdown",
   "metadata": {},
   "source": [
    "Next, we'll populate the coordinate framework schema simply by loading it. Because we are loading the whole brain volume, this may take 25 minutes or more."
   ]
  },
  {
   "cell_type": "code",
   "execution_count": 2,
   "metadata": {},
   "outputs": [
    {
     "name": "stdout",
     "output_type": "stream",
     "text": [
      "Connecting cbroz@dss-db.datajoint.io:3306\n"
     ]
    }
   ],
   "source": [
    "from workflow_array_ephys.localization import coordinate_framework as ccf"
   ]
  },
  {
   "cell_type": "code",
   "execution_count": 3,
   "metadata": {},
   "outputs": [
    {
     "data": {
      "image/svg+xml": "<svg xmlns=\"http://www.w3.org/2000/svg\" xmlns:xlink=\"http://www.w3.org/1999/xlink\" width=\"299pt\" height=\"295pt\" viewBox=\"0.00 0.00 298.50 295.00\">\n<g id=\"graph0\" class=\"graph\" transform=\"scale(1 1) rotate(0) translate(4 291)\">\n<polygon fill=\"white\" stroke=\"transparent\" points=\"-4,4 -4,-291 294.5,-291 294.5,4 -4,4\"/>\n<!-- 3 -->\n<g id=\"node1\" class=\"node\">\n<title>3</title>\n<ellipse fill=\"#ff8800\" fill-opacity=\"0.501961\" stroke=\"#ff8800\" stroke-opacity=\"0.501961\" cx=\"191\" cy=\"-80.5\" rx=\"2\" ry=\"2\"/>\n<text text-anchor=\"middle\" x=\"191\" y=\"-80.2\" font-family=\"arial\" font-size=\"1.00\" fill=\"#ff8800\" fill-opacity=\"0.501961\">3</text>\n</g>\n<!-- ccf.ParentBrainRegion -->\n<g id=\"node4\" class=\"node\">\n<title>ccf.ParentBrainRegion</title>\n<g id=\"a_node4\"><a xlink:title=\"→ ccf.BrainRegionAnnotation.BrainRegion\r\n------------------------------\r\n→ ccf.BrainRegionAnnotation.BrainRegion.proj(parent=&quot;acronym&quot;)\r\n\">\n<polygon fill=\"#000000\" fill-opacity=\"0.125490\" stroke=\"transparent\" points=\"266.5,-35 151.5,-35 151.5,0 266.5,0 266.5,-35\"/>\n<text text-anchor=\"middle\" x=\"209\" y=\"-15\" font-family=\"arial\" font-size=\"10.00\">ccf.ParentBrainRegion</text>\n</a>\n</g>\n</g>\n<!-- 3&#45;&gt;ccf.ParentBrainRegion -->\n<g id=\"edge1\" class=\"edge\">\n<title>3-&gt;ccf.ParentBrainRegion</title>\n<path fill=\"none\" stroke=\"#000000\" stroke-width=\"0.75\" stroke-dasharray=\"5,2\" stroke-opacity=\"0.250980\" d=\"M191.31,-78.44C192.82,-73.35 199.42,-50.95 204.12,-35.03\"/>\n</g>\n<!-- ccf.BrainRegionAnnotation.BrainRegion -->\n<g id=\"node2\" class=\"node\">\n<title>ccf.BrainRegionAnnotation.BrainRegion</title>\n<g id=\"a_node2\"><a xlink:title=\"→ ccf.BrainRegionAnnotation\r\nacronym              \r\n------------------------------\r\nregion_name          \r\nregion_id=null       \r\ncolor_code=null      \r\n\">\n<polygon fill=\"transparent\" stroke=\"transparent\" points=\"290.5,-145 101.5,-145 101.5,-126 290.5,-126 290.5,-145\"/>\n<text text-anchor=\"start\" x=\"109.5\" y=\"-134\" font-family=\"arial\" text-decoration=\"underline\" font-size=\"10.00\">ccf.BrainRegionAnnotation.BrainRegion</text>\n</a>\n</g>\n</g>\n<!-- ccf.BrainRegionAnnotation.BrainRegion&#45;&gt;3 -->\n<g id=\"edge2\" class=\"edge\">\n<title>ccf.BrainRegionAnnotation.BrainRegion-&gt;3</title>\n<path fill=\"none\" stroke=\"#000000\" stroke-width=\"0.75\" stroke-dasharray=\"5,2\" stroke-opacity=\"0.250980\" d=\"M195.17,-125.75C193.93,-112.58 191.67,-88.58 191.12,-82.78\"/>\n</g>\n<!-- ccf.BrainRegionAnnotation.BrainRegion&#45;&gt;ccf.ParentBrainRegion -->\n<g id=\"edge3\" class=\"edge\">\n<title>ccf.BrainRegionAnnotation.BrainRegion-&gt;ccf.ParentBrainRegion</title>\n<path fill=\"none\" stroke=\"#000000\" stroke-width=\"2\" stroke-opacity=\"0.250980\" d=\"M199.34,-125.8C202.55,-116.94 207.18,-102.75 209,-90 211.67,-71.32 211.17,-49.62 210.32,-35.07\"/>\n</g>\n<!-- ccf.BrainRegionAnnotation.Voxel -->\n<g id=\"node7\" class=\"node\">\n<title>ccf.BrainRegionAnnotation.Voxel</title>\n<g id=\"a_node7\"><a xlink:title=\"→ ccf.BrainRegionAnnotation.BrainRegion\r\n→ ccf.CCF.Voxel\r\n\">\n<polygon fill=\"transparent\" stroke=\"transparent\" points=\"160,-90 0,-90 0,-71 160,-71 160,-90\"/>\n<text text-anchor=\"middle\" x=\"80\" y=\"-78\" font-family=\"arial\" font-size=\"10.00\">ccf.BrainRegionAnnotation.Voxel</text>\n</a>\n</g>\n</g>\n<!-- ccf.BrainRegionAnnotation.BrainRegion&#45;&gt;ccf.BrainRegionAnnotation.Voxel -->\n<g id=\"edge4\" class=\"edge\">\n<title>ccf.BrainRegionAnnotation.BrainRegion-&gt;ccf.BrainRegionAnnotation.Voxel</title>\n<path fill=\"none\" stroke=\"#000000\" stroke-width=\"0.75\" stroke-opacity=\"0.250980\" d=\"M177.36,-125.98C155.84,-116.15 120.64,-100.07 98.98,-90.17\"/>\n</g>\n<!-- ccf.CCF.Voxel -->\n<g id=\"node3\" class=\"node\">\n<title>ccf.CCF.Voxel</title>\n<g id=\"a_node3\"><a xlink:title=\"→ ccf.CCF\r\nx                    \r\ny                    \r\nz                    \r\nINDEX (y, z)\r\n\">\n<polygon fill=\"transparent\" stroke=\"transparent\" points=\"111,-208 31,-208 31,-189 111,-189 111,-208\"/>\n<text text-anchor=\"start\" x=\"39\" y=\"-197\" font-family=\"arial\" text-decoration=\"underline\" font-size=\"10.00\">ccf.CCF.Voxel</text>\n</a>\n</g>\n</g>\n<!-- ccf.CCF.Voxel&#45;&gt;ccf.BrainRegionAnnotation.Voxel -->\n<g id=\"edge5\" class=\"edge\">\n<title>ccf.CCF.Voxel-&gt;ccf.BrainRegionAnnotation.Voxel</title>\n<path fill=\"none\" stroke=\"#000000\" stroke-width=\"0.75\" stroke-opacity=\"0.250980\" d=\"M71.68,-188.78C73.35,-167.18 77.68,-111.38 79.34,-90\"/>\n</g>\n<!-- ccf.CCF -->\n<g id=\"node5\" class=\"node\">\n<title>ccf.CCF</title>\n<g id=\"a_node5\"><a xlink:title=\"ccf_id               \r\n------------------------------\r\nccf_version          \r\nccf_resolution       \r\nccf_description=&quot;&quot;   \r\n\">\n<polygon fill=\"#000000\" fill-opacity=\"0.125490\" stroke=\"transparent\" points=\"98,-287 44,-287 44,-252 98,-252 98,-287\"/>\n<text text-anchor=\"start\" x=\"52\" y=\"-268\" font-family=\"arial\" text-decoration=\"underline\" font-size=\"10.00\">ccf.CCF</text>\n</a>\n</g>\n</g>\n<!-- ccf.CCF&#45;&gt;ccf.CCF.Voxel -->\n<g id=\"edge6\" class=\"edge\">\n<title>ccf.CCF-&gt;ccf.CCF.Voxel</title>\n<path fill=\"none\" stroke=\"#000000\" stroke-width=\"0.75\" stroke-opacity=\"0.250980\" d=\"M71,-251.8C71,-238.08 71,-219.19 71,-208.27\"/>\n</g>\n<!-- ccf.BrainRegionAnnotation -->\n<g id=\"node6\" class=\"node\">\n<title>ccf.BrainRegionAnnotation</title>\n<g id=\"a_node6\"><a xlink:title=\"→ ccf.CCF\r\n\">\n<polygon fill=\"#000000\" fill-opacity=\"0.125490\" stroke=\"transparent\" points=\"262.5,-216 129.5,-216 129.5,-181 262.5,-181 262.5,-216\"/>\n<text text-anchor=\"middle\" x=\"196\" y=\"-196\" font-family=\"arial\" font-size=\"10.00\">ccf.BrainRegionAnnotation</text>\n</a>\n</g>\n</g>\n<!-- ccf.CCF&#45;&gt;ccf.BrainRegionAnnotation -->\n<g id=\"edge7\" class=\"edge\">\n<title>ccf.CCF-&gt;ccf.BrainRegionAnnotation</title>\n<path fill=\"none\" stroke=\"#000000\" stroke-width=\"2\" stroke-opacity=\"0.250980\" d=\"M98.12,-253.53C118.08,-242.51 145.22,-227.53 165.86,-216.14\"/>\n</g>\n<!-- ccf.BrainRegionAnnotation&#45;&gt;ccf.BrainRegionAnnotation.BrainRegion -->\n<g id=\"edge8\" class=\"edge\">\n<title>ccf.BrainRegionAnnotation-&gt;ccf.BrainRegionAnnotation.BrainRegion</title>\n<path fill=\"none\" stroke=\"#000000\" stroke-width=\"0.75\" stroke-opacity=\"0.250980\" d=\"M196,-180.83C196,-169.26 196,-154.32 196,-145.08\"/>\n</g>\n</g>\n</svg>",
      "text/plain": [
       "<datajoint.diagram.Diagram at 0x7f7cba21ed60>"
      ]
     },
     "execution_count": 3,
     "metadata": {},
     "output_type": "execute_result"
    }
   ],
   "source": [
    "dj.Diagram(ccf)"
   ]
  },
  {
   "cell_type": "markdown",
   "metadata": {},
   "source": [
    "Now, to explore the data we just loaded."
   ]
  },
  {
   "cell_type": "code",
   "execution_count": 3,
   "metadata": {},
   "outputs": [
    {
     "data": {
      "text/html": [
       "\n",
       "    \n",
       "    <style type=\"text/css\">\n",
       "        .Relation{\n",
       "            border-collapse:collapse;\n",
       "        }\n",
       "        .Relation th{\n",
       "            background: #A0A0A0; color: #ffffff; padding:4px; border:#f0e0e0 1px solid;\n",
       "            font-weight: normal; font-family: monospace; font-size: 100%;\n",
       "        }\n",
       "        .Relation td{\n",
       "            padding:4px; border:#f0e0e0 1px solid; font-size:100%;\n",
       "        }\n",
       "        .Relation tr:nth-child(odd){\n",
       "            background: #ffffff;\n",
       "        }\n",
       "        .Relation tr:nth-child(even){\n",
       "            background: #f3f1ff;\n",
       "        }\n",
       "        /* Tooltip container */\n",
       "        .djtooltip {\n",
       "        }\n",
       "        /* Tooltip text */\n",
       "        .djtooltip .djtooltiptext {\n",
       "            visibility: hidden;\n",
       "            width: 120px;\n",
       "            background-color: black;\n",
       "            color: #fff;\n",
       "            text-align: center;\n",
       "            padding: 5px 0;\n",
       "            border-radius: 6px;\n",
       "            /* Position the tooltip text - see examples below! */\n",
       "            position: absolute;\n",
       "            z-index: 1;\n",
       "        }\n",
       "        #primary {\n",
       "            font-weight: bold;\n",
       "            color: black;\n",
       "        }\n",
       "        #nonprimary {\n",
       "            font-weight: normal;\n",
       "            color: white;\n",
       "        }\n",
       "\n",
       "        /* Show the tooltip text when you mouse over the tooltip container */\n",
       "        .djtooltip:hover .djtooltiptext {\n",
       "            visibility: visible;\n",
       "        }\n",
       "    </style>\n",
       "    \n",
       "    <b></b>\n",
       "        <div style=\"max-height:1000px;max-width:1500px;overflow:auto;\">\n",
       "        <table border=\"1\" class=\"Relation\">\n",
       "            <thead> <tr style=\"text-align: right;\"> <th> <div class=\"djtooltip\">\n",
       "                            <p id=\"primary\">ccf_id</p>\n",
       "                            <span class=\"djtooltiptext\">CCF ID, a.k.a atlas ID</span>\n",
       "                        </div></th><th><div class=\"djtooltip\">\n",
       "                            <p id=\"primary\">acronym</p>\n",
       "                            <span class=\"djtooltiptext\">CHARACTER SET utf8 COLLATE utf8_bin</span>\n",
       "                        </div></th><th><div class=\"djtooltip\">\n",
       "                            <p id=\"nonprimary\">region_name</p>\n",
       "                            <span class=\"djtooltiptext\"></span>\n",
       "                        </div></th><th><div class=\"djtooltip\">\n",
       "                            <p id=\"nonprimary\">region_id</p>\n",
       "                            <span class=\"djtooltiptext\"></span>\n",
       "                        </div></th><th><div class=\"djtooltip\">\n",
       "                            <p id=\"nonprimary\">color_code</p>\n",
       "                            <span class=\"djtooltiptext\">hexcode of the color code of this region</span>\n",
       "                        </div> </th> </tr> </thead>\n",
       "            <tbody> <tr> <td>0</td>\n",
       "<td>6b</td>\n",
       "<td>Layer 6b isocortex</td>\n",
       "<td>16</td>\n",
       "<td>8ADA87</td></tr><tr><td>0</td>\n",
       "<td>a_a_a</td>\n",
       "<td>Anterior amygdalar area</td>\n",
       "<td>23</td>\n",
       "<td>80C0E2</td></tr><tr><td>0</td>\n",
       "<td>a_c_a</td>\n",
       "<td>Anterior cingulate area</td>\n",
       "<td>31</td>\n",
       "<td>40A666</td></tr><tr><td>0</td>\n",
       "<td>a_c_a1</td>\n",
       "<td>Anterior cingulate area layer 1</td>\n",
       "<td>572</td>\n",
       "<td>40A666</td></tr><tr><td>0</td>\n",
       "<td>a_c_a2/3</td>\n",
       "<td>Anterior cingulate area layer 2/3</td>\n",
       "<td>1053</td>\n",
       "<td>40A666</td></tr><tr><td>0</td>\n",
       "<td>a_c_a5</td>\n",
       "<td>Anterior cingulate area layer 5</td>\n",
       "<td>739</td>\n",
       "<td>40A666</td></tr><tr><td>0</td>\n",
       "<td>a_c_a6a</td>\n",
       "<td>Anterior cingulate area layer 6a</td>\n",
       "<td>179</td>\n",
       "<td>40A666</td></tr><tr><td>0</td>\n",
       "<td>a_c_a6b</td>\n",
       "<td>Anterior cingulate area layer 6b</td>\n",
       "<td>227</td>\n",
       "<td>40A666</td></tr><tr><td>0</td>\n",
       "<td>a_c_ad</td>\n",
       "<td>Anterior cingulate area dorsal part</td>\n",
       "<td>39</td>\n",
       "<td>40A666</td></tr><tr><td>0</td>\n",
       "<td>a_c_ad1</td>\n",
       "<td>Anterior cingulate area dorsal part layer 1</td>\n",
       "<td>935</td>\n",
       "<td>40A666</td> </tr> </tbody>\n",
       "        </table>\n",
       "        <p>...</p>\n",
       "        <p>Total: 1327</p></div>\n",
       "        "
      ],
      "text/plain": [
       "*ccf_id    *acronym     region_name    region_id     color_code    \n",
       "+--------+ +----------+ +------------+ +-----------+ +------------+\n",
       "0          6b           Layer 6b isoco 16            8ADA87        \n",
       "0          a_a_a        Anterior amygd 23            80C0E2        \n",
       "0          a_c_a        Anterior cingu 31            40A666        \n",
       "0          a_c_a1       Anterior cingu 572           40A666        \n",
       "0          a_c_a2/3     Anterior cingu 1053          40A666        \n",
       "0          a_c_a5       Anterior cingu 739           40A666        \n",
       "0          a_c_a6a      Anterior cingu 179           40A666        \n",
       "0          a_c_a6b      Anterior cingu 227           40A666        \n",
       "0          a_c_ad       Anterior cingu 39            40A666        \n",
       "0          a_c_ad1      Anterior cingu 935           40A666        \n",
       "   ...\n",
       " (Total: 1327)"
      ]
     },
     "execution_count": 3,
     "metadata": {},
     "output_type": "execute_result"
    }
   ],
   "source": [
    "ccf.BrainRegionAnnotation.BrainRegion()"
   ]
  },
  {
   "cell_type": "markdown",
   "metadata": {},
   "source": [
    "The acronyms listed in the DataJoint table differ slightly from the CCF standard by substituting case-sensitive differences with [snake case](https://en.wikipedia.org/wiki/Snake_case). To lookup the snake case equivalent, use the `retrieve_acronym` function."
   ]
  },
  {
   "cell_type": "code",
   "execution_count": 4,
   "metadata": {},
   "outputs": [
    {
     "name": "stdout",
     "output_type": "stream",
     "text": [
      "CM: c_m\n",
      "cm: cm\n"
     ]
    }
   ],
   "source": [
    "central_thalamus = ccf.BrainRegionAnnotation.retrieve_acronym(\"CM\")\n",
    "cranial_nerves = ccf.BrainRegionAnnotation.retrieve_acronym(\"cm\")\n",
    "print(f\"CM: {central_thalamus}\\ncm: {cranial_nerves}\")"
   ]
  },
  {
   "cell_type": "markdown",
   "metadata": {},
   "source": [
    "If your work requires the case-sensitive columns please get in touch with the DataJoint team via [StackOverflow](https://stackoverflow.com/questions/tagged/datajoint).\n",
    "\n",
    "For this demo, let's look at the dimensions of the central thalamus. To look at other regions, open the CSV you downloaded and search for your desired region."
   ]
  },
  {
   "cell_type": "code",
   "execution_count": 10,
   "metadata": {},
   "outputs": [
    {
     "data": {
      "text/html": [
       "\n",
       "    \n",
       "    <style type=\"text/css\">\n",
       "        .Relation{\n",
       "            border-collapse:collapse;\n",
       "        }\n",
       "        .Relation th{\n",
       "            background: #A0A0A0; color: #ffffff; padding:4px; border:#f0e0e0 1px solid;\n",
       "            font-weight: normal; font-family: monospace; font-size: 100%;\n",
       "        }\n",
       "        .Relation td{\n",
       "            padding:4px; border:#f0e0e0 1px solid; font-size:100%;\n",
       "        }\n",
       "        .Relation tr:nth-child(odd){\n",
       "            background: #ffffff;\n",
       "        }\n",
       "        .Relation tr:nth-child(even){\n",
       "            background: #f3f1ff;\n",
       "        }\n",
       "        /* Tooltip container */\n",
       "        .djtooltip {\n",
       "        }\n",
       "        /* Tooltip text */\n",
       "        .djtooltip .djtooltiptext {\n",
       "            visibility: hidden;\n",
       "            width: 120px;\n",
       "            background-color: black;\n",
       "            color: #fff;\n",
       "            text-align: center;\n",
       "            padding: 5px 0;\n",
       "            border-radius: 6px;\n",
       "            /* Position the tooltip text - see examples below! */\n",
       "            position: absolute;\n",
       "            z-index: 1;\n",
       "        }\n",
       "        #primary {\n",
       "            font-weight: bold;\n",
       "            color: black;\n",
       "        }\n",
       "        #nonprimary {\n",
       "            font-weight: normal;\n",
       "            color: white;\n",
       "        }\n",
       "\n",
       "        /* Show the tooltip text when you mouse over the tooltip container */\n",
       "        .djtooltip:hover .djtooltiptext {\n",
       "            visibility: visible;\n",
       "        }\n",
       "    </style>\n",
       "    \n",
       "    <b></b>\n",
       "        <div style=\"max-height:1000px;max-width:1500px;overflow:auto;\">\n",
       "        <table border=\"1\" class=\"Relation\">\n",
       "            <thead> <tr style=\"text-align: right;\"> <th> <div class=\"djtooltip\">\n",
       "                            <p id=\"primary\">ccf_id</p>\n",
       "                            <span class=\"djtooltiptext\">CCF ID, a.k.a atlas ID</span>\n",
       "                        </div></th><th><div class=\"djtooltip\">\n",
       "                            <p id=\"primary\">acronym</p>\n",
       "                            <span class=\"djtooltiptext\">CHARACTER SET utf8 COLLATE utf8_bin</span>\n",
       "                        </div></th><th><div class=\"djtooltip\">\n",
       "                            <p id=\"primary\">x</p>\n",
       "                            <span class=\"djtooltiptext\">(um)  Anterior-to-Posterior (AP axis)</span>\n",
       "                        </div></th><th><div class=\"djtooltip\">\n",
       "                            <p id=\"primary\">y</p>\n",
       "                            <span class=\"djtooltiptext\">(um)  Superior-to-Inferior (DV axis)</span>\n",
       "                        </div></th><th><div class=\"djtooltip\">\n",
       "                            <p id=\"primary\">z</p>\n",
       "                            <span class=\"djtooltiptext\">(um)  Left-to-Right (ML axis)</span>\n",
       "                        </div> </th> </tr> </thead>\n",
       "            <tbody> <tr> <td>0</td>\n",
       "<td>c_m</td>\n",
       "<td>100</td>\n",
       "<td>3300</td>\n",
       "<td>4900</td></tr><tr><td>0</td>\n",
       "<td>c_m</td>\n",
       "<td>100</td>\n",
       "<td>3300</td>\n",
       "<td>5000</td></tr><tr><td>0</td>\n",
       "<td>c_m</td>\n",
       "<td>100</td>\n",
       "<td>3300</td>\n",
       "<td>5100</td></tr><tr><td>0</td>\n",
       "<td>c_m</td>\n",
       "<td>100</td>\n",
       "<td>3300</td>\n",
       "<td>5200</td></tr><tr><td>0</td>\n",
       "<td>c_m</td>\n",
       "<td>100</td>\n",
       "<td>3300</td>\n",
       "<td>5300</td></tr><tr><td>0</td>\n",
       "<td>c_m</td>\n",
       "<td>100</td>\n",
       "<td>3300</td>\n",
       "<td>6100</td></tr><tr><td>0</td>\n",
       "<td>c_m</td>\n",
       "<td>100</td>\n",
       "<td>3300</td>\n",
       "<td>6200</td></tr><tr><td>0</td>\n",
       "<td>c_m</td>\n",
       "<td>100</td>\n",
       "<td>3300</td>\n",
       "<td>6300</td></tr><tr><td>0</td>\n",
       "<td>c_m</td>\n",
       "<td>100</td>\n",
       "<td>3300</td>\n",
       "<td>6400</td></tr><tr><td>0</td>\n",
       "<td>c_m</td>\n",
       "<td>100</td>\n",
       "<td>3300</td>\n",
       "<td>6500</td> </tr> </tbody>\n",
       "        </table>\n",
       "        <p>...</p>\n",
       "        <p>Total: 4911</p></div>\n",
       "        "
      ],
      "text/plain": [
       "*ccf_id    *acronym    *x      *y       *z      \n",
       "+--------+ +---------+ +-----+ +------+ +------+\n",
       "0          c_m         100     3300     4900    \n",
       "0          c_m         100     3300     5000    \n",
       "0          c_m         100     3300     5100    \n",
       "0          c_m         100     3300     5200    \n",
       "0          c_m         100     3300     5300    \n",
       "0          c_m         100     3300     6100    \n",
       "0          c_m         100     3300     6200    \n",
       "0          c_m         100     3300     6300    \n",
       "0          c_m         100     3300     6400    \n",
       "0          c_m         100     3300     6500    \n",
       "   ...\n",
       " (Total: 4911)"
      ]
     },
     "execution_count": 10,
     "metadata": {},
     "output_type": "execute_result"
    }
   ],
   "source": [
    "cm_voxels = ccf.BrainRegionAnnotation.Voxel() & f'acronym=\"{central_thalamus}\"'\n",
    "cm_voxels"
   ]
  },
  {
   "cell_type": "code",
   "execution_count": 17,
   "metadata": {},
   "outputs": [
    {
     "name": "stdout",
     "output_type": "stream",
     "text": [
      "The central thalamus extends from \n",
      "\tx = 100  to x = 8400\n",
      "\ty = 2600 to y = 7500\n",
      "\tz = 1700 to z = 9700\n"
     ]
    }
   ],
   "source": [
    "cm_x, cm_y, cm_z = cm_voxels.fetch(\"x\", \"y\", \"z\")\n",
    "print(\n",
    "    f\"The central thalamus extends from \\n\\tx = {min(cm_x)}  to x = {max(cm_x)}\\n\\t\"\n",
    "    + f\"y = {min(cm_y)} to y = {max(cm_y)}\\n\\tz = {min(cm_z)} to z = {max(cm_z)}\"\n",
    ")"
   ]
  },
  {
   "cell_type": "markdown",
   "metadata": {},
   "source": [
    "## Electrode Localization"
   ]
  },
  {
   "cell_type": "markdown",
   "metadata": {},
   "source": [
    "If you have `channel_location` json files for your data, you can look at the position and regions associated with each electrode. Here, we've added an example file to our pre-existing `subject6` for demonstration purposes."
   ]
  },
  {
   "cell_type": "code",
   "execution_count": 4,
   "metadata": {},
   "outputs": [],
   "source": [
    "from workflow_array_ephys.localization import coordinate_framework as ccf\n",
    "from workflow_array_ephys.localization import electrode_localization as eloc"
   ]
  },
  {
   "cell_type": "code",
   "execution_count": 9,
   "metadata": {},
   "outputs": [
    {
     "data": {
      "image/svg+xml": "<svg xmlns=\"http://www.w3.org/2000/svg\" xmlns:xlink=\"http://www.w3.org/1999/xlink\" width=\"630pt\" height=\"295pt\" viewBox=\"0.00 0.00 630.00 295.00\">\n<g id=\"graph0\" class=\"graph\" transform=\"scale(1 1) rotate(0) translate(4 291)\">\n<polygon fill=\"white\" stroke=\"transparent\" points=\"-4,4 -4,-291 626,-291 626,4 -4,4\"/>\n<!-- 35 -->\n<g id=\"node1\" class=\"node\">\n<title>35</title>\n<ellipse fill=\"#ff8800\" fill-opacity=\"0.501961\" stroke=\"#ff8800\" stroke-opacity=\"0.501961\" cx=\"523.5\" cy=\"-80.5\" rx=\"2\" ry=\"2\"/>\n<text text-anchor=\"middle\" x=\"523.5\" y=\"-80.2\" font-family=\"arial\" font-size=\"1.00\" fill=\"#ff8800\" fill-opacity=\"0.501961\">35</text>\n</g>\n<!-- ccf.ParentBrainRegion -->\n<g id=\"node4\" class=\"node\">\n<title>ccf.ParentBrainRegion</title>\n<g id=\"a_node4\"><a xlink:title=\"→ ccf.BrainRegionAnnotation.BrainRegion\r\n------------------------------\r\n→ ccf.BrainRegionAnnotation.BrainRegion.proj(parent=&quot;acronym&quot;)\r\n\">\n<polygon fill=\"#000000\" fill-opacity=\"0.125490\" stroke=\"transparent\" points=\"599,-35 484,-35 484,0 599,0 599,-35\"/>\n<text text-anchor=\"middle\" x=\"541.5\" y=\"-15\" font-family=\"arial\" font-size=\"10.00\">ccf.ParentBrainRegion</text>\n</a>\n</g>\n</g>\n<!-- 35&#45;&gt;ccf.ParentBrainRegion -->\n<g id=\"edge1\" class=\"edge\">\n<title>35-&gt;ccf.ParentBrainRegion</title>\n<path fill=\"none\" stroke=\"#000000\" stroke-width=\"0.75\" stroke-dasharray=\"5,2\" stroke-opacity=\"0.250980\" d=\"M523.81,-78.44C525.32,-73.35 531.92,-50.95 536.62,-35.03\"/>\n</g>\n<!-- ccf.BrainRegionAnnotation.BrainRegion -->\n<g id=\"node2\" class=\"node\">\n<title>ccf.BrainRegionAnnotation.BrainRegion</title>\n<g id=\"a_node2\"><a xlink:title=\"→ ccf.BrainRegionAnnotation\r\nacronym              \r\n------------------------------\r\nregion_name          \r\nregion_id=null       \r\ncolor_code=null      \r\n\">\n<polygon fill=\"transparent\" stroke=\"transparent\" points=\"622,-145 433,-145 433,-126 622,-126 622,-145\"/>\n<text text-anchor=\"start\" x=\"441\" y=\"-134\" font-family=\"arial\" text-decoration=\"underline\" font-size=\"10.00\">ccf.BrainRegionAnnotation.BrainRegion</text>\n</a>\n</g>\n</g>\n<!-- ccf.BrainRegionAnnotation.BrainRegion&#45;&gt;35 -->\n<g id=\"edge2\" class=\"edge\">\n<title>ccf.BrainRegionAnnotation.BrainRegion-&gt;35</title>\n<path fill=\"none\" stroke=\"#000000\" stroke-width=\"0.75\" stroke-dasharray=\"5,2\" stroke-opacity=\"0.250980\" d=\"M526.84,-125.75C525.85,-112.58 524.03,-88.58 523.6,-82.78\"/>\n</g>\n<!-- ccf.BrainRegionAnnotation.BrainRegion&#45;&gt;ccf.ParentBrainRegion -->\n<g id=\"edge3\" class=\"edge\">\n<title>ccf.BrainRegionAnnotation.BrainRegion-&gt;ccf.ParentBrainRegion</title>\n<path fill=\"none\" stroke=\"#000000\" stroke-width=\"2\" stroke-opacity=\"0.250980\" d=\"M531.1,-125.82C534.56,-116.99 539.53,-102.81 541.5,-90 544.36,-71.35 543.83,-49.64 542.92,-35.08\"/>\n</g>\n<!-- ccf.BrainRegionAnnotation.Voxel -->\n<g id=\"node11\" class=\"node\">\n<title>ccf.BrainRegionAnnotation.Voxel</title>\n<g id=\"a_node11\"><a xlink:title=\"→ ccf.BrainRegionAnnotation.BrainRegion\r\n→ ccf.CCF.Voxel\r\n\">\n<polygon fill=\"transparent\" stroke=\"transparent\" points=\"492.5,-90 332.5,-90 332.5,-71 492.5,-71 492.5,-90\"/>\n<text text-anchor=\"middle\" x=\"412.5\" y=\"-78\" font-family=\"arial\" font-size=\"10.00\">ccf.BrainRegionAnnotation.Voxel</text>\n</a>\n</g>\n</g>\n<!-- ccf.BrainRegionAnnotation.BrainRegion&#45;&gt;ccf.BrainRegionAnnotation.Voxel -->\n<g id=\"edge4\" class=\"edge\">\n<title>ccf.BrainRegionAnnotation.BrainRegion-&gt;ccf.BrainRegionAnnotation.Voxel</title>\n<path fill=\"none\" stroke=\"#000000\" stroke-width=\"0.75\" stroke-opacity=\"0.250980\" d=\"M509.02,-125.98C487.69,-116.15 452.79,-100.07 431.31,-90.17\"/>\n</g>\n<!-- eloc.probe.ProbeType.Electrode -->\n<g id=\"node3\" class=\"node\">\n<title>eloc.probe.ProbeType.Electrode</title>\n<g id=\"a_node3\"><a xlink:title=\"→ eloc.probe.ProbeType\r\nelectrode            \r\n------------------------------\r\nshank                \r\nshank_col            \r\nshank_row            \r\nx_coord=null         \r\ny_coord=null         \r\n\">\n<polygon fill=\"transparent\" stroke=\"transparent\" points=\"155,-208 0,-208 0,-189 155,-189 155,-208\"/>\n<text text-anchor=\"start\" x=\"8\" y=\"-197\" font-family=\"arial\" text-decoration=\"underline\" font-size=\"10.00\">eloc.probe.ProbeType.Electrode</text>\n</a>\n</g>\n</g>\n<!-- eloc.ElectrodePosition.Electrode -->\n<g id=\"node6\" class=\"node\">\n<title>eloc.ElectrodePosition.Electrode</title>\n<g id=\"a_node6\"><a xlink:title=\"→ eloc.ElectrodePosition\r\n→ eloc.probe.ProbeType.Electrode\r\n------------------------------\r\n→ ccf.CCF.Voxel\r\n\">\n<polygon fill=\"transparent\" stroke=\"transparent\" points=\"337.5,-145 179.5,-145 179.5,-126 337.5,-126 337.5,-145\"/>\n<text text-anchor=\"middle\" x=\"258.5\" y=\"-133\" font-family=\"arial\" font-size=\"10.00\">eloc.ElectrodePosition.Electrode</text>\n</a>\n</g>\n</g>\n<!-- eloc.probe.ProbeType.Electrode&#45;&gt;eloc.ElectrodePosition.Electrode -->\n<g id=\"edge5\" class=\"edge\">\n<title>eloc.probe.ProbeType.Electrode-&gt;eloc.ElectrodePosition.Electrode</title>\n<path fill=\"none\" stroke=\"#000000\" stroke-width=\"0.75\" stroke-opacity=\"0.250980\" d=\"M103.05,-188.89C137.55,-177.26 198.65,-156.67 233.08,-145.07\"/>\n</g>\n<!-- ccf.CCF.Voxel -->\n<g id=\"node5\" class=\"node\">\n<title>ccf.CCF.Voxel</title>\n<g id=\"a_node5\"><a xlink:title=\"→ ccf.CCF\r\nx                    \r\ny                    \r\nz                    \r\nINDEX (y, z)\r\n\">\n<polygon fill=\"transparent\" stroke=\"transparent\" points=\"442.5,-208 362.5,-208 362.5,-189 442.5,-189 442.5,-208\"/>\n<text text-anchor=\"start\" x=\"370.5\" y=\"-197\" font-family=\"arial\" text-decoration=\"underline\" font-size=\"10.00\">ccf.CCF.Voxel</text>\n</a>\n</g>\n</g>\n<!-- ccf.CCF.Voxel&#45;&gt;eloc.ElectrodePosition.Electrode -->\n<g id=\"edge6\" class=\"edge\">\n<title>ccf.CCF.Voxel-&gt;eloc.ElectrodePosition.Electrode</title>\n<path fill=\"none\" stroke=\"#000000\" stroke-width=\"0.75\" stroke-dasharray=\"5,2\" stroke-opacity=\"0.250980\" d=\"M382.17,-188.89C354.73,-177.26 306.11,-156.67 278.72,-145.07\"/>\n</g>\n<!-- ccf.CCF.Voxel&#45;&gt;ccf.BrainRegionAnnotation.Voxel -->\n<g id=\"edge7\" class=\"edge\">\n<title>ccf.CCF.Voxel-&gt;ccf.BrainRegionAnnotation.Voxel</title>\n<path fill=\"none\" stroke=\"#000000\" stroke-width=\"0.75\" stroke-opacity=\"0.250980\" d=\"M403.25,-188.78C405.11,-167.18 409.92,-111.38 411.77,-90\"/>\n</g>\n<!-- eloc.ProbeInsertion -->\n<g id=\"node7\" class=\"node\">\n<title>eloc.ProbeInsertion</title>\n<g id=\"a_node7\"><a xlink:title=\"→ `u24_session`.`session`\r\ninsertion_number     \r\n------------------------------\r\n→ eloc.probe.Probe\r\n\">\n<polygon fill=\"#00ff00\" fill-opacity=\"0.188235\" stroke=\"#00ff00\" stroke-opacity=\"0.188235\" points=\"318.5,-287 198.5,-287 198.5,-252 318.5,-252 318.5,-287\"/>\n<text text-anchor=\"start\" x=\"206.5\" y=\"-267.4\" font-family=\"arial\" text-decoration=\"underline\" font-size=\"12.00\" fill=\"darkgreen\">eloc.ProbeInsertion</text>\n</a>\n</g>\n</g>\n<!-- eloc.ElectrodePosition -->\n<g id=\"node10\" class=\"node\">\n<title>eloc.ElectrodePosition</title>\n<g id=\"a_node10\"><a xlink:title=\"→ eloc.ProbeInsertion\r\n→ ccf.CCF\r\n\">\n<ellipse fill=\"#00007f\" fill-opacity=\"0.250980\" stroke=\"#00007f\" stroke-opacity=\"0.250980\" cx=\"258.5\" cy=\"-198.5\" rx=\"85.75\" ry=\"17.5\"/>\n<text text-anchor=\"middle\" x=\"258.5\" y=\"-195.4\" font-family=\"arial\" font-size=\"12.00\" fill=\"#00007f\" fill-opacity=\"0.627451\">eloc.ElectrodePosition</text>\n</a>\n</g>\n</g>\n<!-- eloc.ProbeInsertion&#45;&gt;eloc.ElectrodePosition -->\n<g id=\"edge8\" class=\"edge\">\n<title>eloc.ProbeInsertion-&gt;eloc.ElectrodePosition</title>\n<path fill=\"none\" stroke=\"#000000\" stroke-width=\"0.75\" stroke-opacity=\"0.250980\" d=\"M258.5,-251.8C258.5,-240.95 258.5,-226.87 258.5,-216.05\"/>\n</g>\n<!-- ccf.CCF -->\n<g id=\"node8\" class=\"node\">\n<title>ccf.CCF</title>\n<g id=\"a_node8\"><a xlink:title=\"ccf_id               \r\n------------------------------\r\nccf_version          \r\nccf_resolution       \r\nccf_description=&quot;&quot;   \r\n\">\n<polygon fill=\"#000000\" fill-opacity=\"0.125490\" stroke=\"transparent\" points=\"429.5,-287 375.5,-287 375.5,-252 429.5,-252 429.5,-287\"/>\n<text text-anchor=\"start\" x=\"383.5\" y=\"-268\" font-family=\"arial\" text-decoration=\"underline\" font-size=\"10.00\">ccf.CCF</text>\n</a>\n</g>\n</g>\n<!-- ccf.CCF&#45;&gt;ccf.CCF.Voxel -->\n<g id=\"edge9\" class=\"edge\">\n<title>ccf.CCF-&gt;ccf.CCF.Voxel</title>\n<path fill=\"none\" stroke=\"#000000\" stroke-width=\"0.75\" stroke-opacity=\"0.250980\" d=\"M402.5,-251.8C402.5,-238.08 402.5,-219.19 402.5,-208.27\"/>\n</g>\n<!-- ccf.BrainRegionAnnotation -->\n<g id=\"node9\" class=\"node\">\n<title>ccf.BrainRegionAnnotation</title>\n<g id=\"a_node9\"><a xlink:title=\"→ ccf.CCF\r\n\">\n<polygon fill=\"#000000\" fill-opacity=\"0.125490\" stroke=\"transparent\" points=\"594,-216 461,-216 461,-181 594,-181 594,-216\"/>\n<text text-anchor=\"middle\" x=\"527.5\" y=\"-196\" font-family=\"arial\" font-size=\"10.00\">ccf.BrainRegionAnnotation</text>\n</a>\n</g>\n</g>\n<!-- ccf.CCF&#45;&gt;ccf.BrainRegionAnnotation -->\n<g id=\"edge10\" class=\"edge\">\n<title>ccf.CCF-&gt;ccf.BrainRegionAnnotation</title>\n<path fill=\"none\" stroke=\"#000000\" stroke-width=\"2\" stroke-opacity=\"0.250980\" d=\"M429.62,-253.53C449.58,-242.51 476.72,-227.53 497.36,-216.14\"/>\n</g>\n<!-- ccf.CCF&#45;&gt;eloc.ElectrodePosition -->\n<g id=\"edge11\" class=\"edge\">\n<title>ccf.CCF-&gt;eloc.ElectrodePosition</title>\n<path fill=\"none\" stroke=\"#000000\" stroke-width=\"0.75\" stroke-opacity=\"0.250980\" d=\"M375.41,-255.52C351.3,-243.97 315.99,-227.05 290.49,-214.83\"/>\n</g>\n<!-- ccf.BrainRegionAnnotation&#45;&gt;ccf.BrainRegionAnnotation.BrainRegion -->\n<g id=\"edge12\" class=\"edge\">\n<title>ccf.BrainRegionAnnotation-&gt;ccf.BrainRegionAnnotation.BrainRegion</title>\n<path fill=\"none\" stroke=\"#000000\" stroke-width=\"0.75\" stroke-opacity=\"0.250980\" d=\"M527.5,-180.83C527.5,-169.26 527.5,-154.32 527.5,-145.08\"/>\n</g>\n<!-- eloc.ElectrodePosition&#45;&gt;eloc.ElectrodePosition.Electrode -->\n<g id=\"edge13\" class=\"edge\">\n<title>eloc.ElectrodePosition-&gt;eloc.ElectrodePosition.Electrode</title>\n<path fill=\"none\" stroke=\"#000000\" stroke-width=\"0.75\" stroke-opacity=\"0.250980\" d=\"M258.5,-180.83C258.5,-169.26 258.5,-154.32 258.5,-145.08\"/>\n</g>\n</g>\n</svg>",
      "text/plain": [
       "<datajoint.diagram.Diagram at 0x7f7cba19f8b0>"
      ]
     },
     "execution_count": 9,
     "metadata": {},
     "output_type": "execute_result"
    }
   ],
   "source": [
    "(dj.Diagram(eloc) + dj.Diagram(ccf) - 1)"
   ]
  },
  {
   "cell_type": "markdown",
   "metadata": {},
   "source": [
    "Because the probe may not be fully inserted, there will be some electrode positions that occur outside the brain. We register these instances with an `IntegrityError` warning because we're trying to register a coordinate position with no corresponding location in the `ccf.CCF.Voxel` table. We can silence these warnings by setting the log level before running `populate()` on the `ElectrodePosition` table."
   ]
  },
  {
   "cell_type": "code",
   "execution_count": null,
   "id": "81ee78b7",
   "metadata": {},
   "outputs": [],
   "source": [
    "import logging"
   ]
  },
  {
   "cell_type": "code",
   "execution_count": 3,
   "metadata": {},
   "outputs": [],
   "source": [
    "logging.getLogger().setLevel(logging.ERROR)  # or logging.INFO"
   ]
  },
  {
   "cell_type": "code",
   "execution_count": null,
   "metadata": {},
   "outputs": [],
   "source": [
    "eloc.ElectrodePosition.populate()"
   ]
  },
  {
   "cell_type": "markdown",
   "metadata": {},
   "source": [
    "By calling the `ElectrodePosition` table, we can see the keys the `populate()` method has already processed."
   ]
  },
  {
   "cell_type": "code",
   "execution_count": 6,
   "metadata": {},
   "outputs": [
    {
     "data": {
      "text/html": [
       "\n",
       "    \n",
       "    <style type=\"text/css\">\n",
       "        .Relation{\n",
       "            border-collapse:collapse;\n",
       "        }\n",
       "        .Relation th{\n",
       "            background: #A0A0A0; color: #ffffff; padding:4px; border:#f0e0e0 1px solid;\n",
       "            font-weight: normal; font-family: monospace; font-size: 100%;\n",
       "        }\n",
       "        .Relation td{\n",
       "            padding:4px; border:#f0e0e0 1px solid; font-size:100%;\n",
       "        }\n",
       "        .Relation tr:nth-child(odd){\n",
       "            background: #ffffff;\n",
       "        }\n",
       "        .Relation tr:nth-child(even){\n",
       "            background: #f3f1ff;\n",
       "        }\n",
       "        /* Tooltip container */\n",
       "        .djtooltip {\n",
       "        }\n",
       "        /* Tooltip text */\n",
       "        .djtooltip .djtooltiptext {\n",
       "            visibility: hidden;\n",
       "            width: 120px;\n",
       "            background-color: black;\n",
       "            color: #fff;\n",
       "            text-align: center;\n",
       "            padding: 5px 0;\n",
       "            border-radius: 6px;\n",
       "            /* Position the tooltip text - see examples below! */\n",
       "            position: absolute;\n",
       "            z-index: 1;\n",
       "        }\n",
       "        #primary {\n",
       "            font-weight: bold;\n",
       "            color: black;\n",
       "        }\n",
       "        #nonprimary {\n",
       "            font-weight: normal;\n",
       "            color: white;\n",
       "        }\n",
       "\n",
       "        /* Show the tooltip text when you mouse over the tooltip container */\n",
       "        .djtooltip:hover .djtooltiptext {\n",
       "            visibility: visible;\n",
       "        }\n",
       "    </style>\n",
       "    \n",
       "    <b></b>\n",
       "        <div style=\"max-height:1000px;max-width:1500px;overflow:auto;\">\n",
       "        <table border=\"1\" class=\"Relation\">\n",
       "            <thead> <tr style=\"text-align: right;\"> <th> <div class=\"djtooltip\">\n",
       "                            <p id=\"primary\">subject</p>\n",
       "                            <span class=\"djtooltiptext\"></span>\n",
       "                        </div></th><th><div class=\"djtooltip\">\n",
       "                            <p id=\"primary\">session_datetime</p>\n",
       "                            <span class=\"djtooltiptext\"></span>\n",
       "                        </div></th><th><div class=\"djtooltip\">\n",
       "                            <p id=\"primary\">insertion_number</p>\n",
       "                            <span class=\"djtooltiptext\"></span>\n",
       "                        </div></th><th><div class=\"djtooltip\">\n",
       "                            <p id=\"primary\">ccf_id</p>\n",
       "                            <span class=\"djtooltiptext\">CCF ID, a.k.a atlas ID</span>\n",
       "                        </div> </th> </tr> </thead>\n",
       "            <tbody> <tr> <td>subject5</td>\n",
       "<td>2018-07-03 20:32:28</td>\n",
       "<td>1</td>\n",
       "<td>0</td></tr><tr><td>subject5</td>\n",
       "<td>2018-07-03 20:32:28</td>\n",
       "<td>2</td>\n",
       "<td>0</td></tr><tr><td>subject6</td>\n",
       "<td>2021-01-15 11:16:38</td>\n",
       "<td>0</td>\n",
       "<td>0</td> </tr> </tbody>\n",
       "        </table>\n",
       "        \n",
       "        <p>Total: 3</p></div>\n",
       "        "
      ],
      "text/plain": [
       "*subject     *session_datet *insertion_num *ccf_id   \n",
       "+----------+ +------------+ +------------+ +--------+\n",
       "subject5     2018-07-03 20: 1              0         \n",
       "subject5     2018-07-03 20: 2              0         \n",
       "subject6     2021-01-15 11: 0              0         \n",
       " (Total: 3)"
      ]
     },
     "execution_count": 6,
     "metadata": {},
     "output_type": "execute_result"
    }
   ],
   "source": [
    "eloc.ElectrodePosition()"
   ]
  },
  {
   "cell_type": "markdown",
   "metadata": {},
   "source": [
    "Let's focus on `subject5`, insertion `1`."
   ]
  },
  {
   "cell_type": "code",
   "execution_count": null,
   "id": "9a36c3c9",
   "metadata": {},
   "outputs": [],
   "source": [
    "from workflow_array_ephys.pipeline import ephys"
   ]
  },
  {
   "cell_type": "code",
   "execution_count": 8,
   "metadata": {},
   "outputs": [
    {
     "data": {
      "text/plain": [
       "373"
      ]
     },
     "execution_count": 8,
     "metadata": {},
     "output_type": "execute_result"
    }
   ],
   "source": [
    "key = (ephys.EphysRecording & 'subject=\"subject5\"' & \"insertion_number=1\").fetch1(\"KEY\")\n",
    "len(eloc.ElectrodePosition.Electrode & key)"
   ]
  },
  {
   "cell_type": "markdown",
   "metadata": {},
   "source": [
    "With a resolution of 100μm, adjacent electrodes will very likely be in the same region. Let's look at every 38th electrode to sample 10 across the probe.\n",
    "\n",
    "If you're interested in more electrodes, decrease the number next to the `%` modulo operator."
   ]
  },
  {
   "cell_type": "code",
   "execution_count": 13,
   "metadata": {},
   "outputs": [
    {
     "name": "stdout",
     "output_type": "stream",
     "text": [
      "Electrode 0 (x=11900, y=6300, z=6900) is in Primary auditory area\n",
      "Electrode 38 (x=11900, y=6300, z=6500) is in Primary auditory area\n",
      "Electrode 76 (x=11800, y=6300, z=6100) is in Declive (VI) Purkinje layer\n",
      "Electrode 114 (x=11700, y=6400, z=5600) is in Lobules IV-V molecular layer\n",
      "Electrode 152 (x=11700, y=6400, z=5200) is in Declive (VI) Purkinje layer\n",
      "Electrode 190 (x=11600, y=6500, z=4700) is in Primary auditory area\n",
      "Electrode 228 (x=11600, y=6500, z=4300) is in Granular lamina of the cochlear nuclei\n",
      "Electrode 266 (x=11600, y=6600, z=3900) is in Cuneiform nucleus\n",
      "Electrode 304 (x=11600, y=6600, z=3500) is in Lateral hypothalamic area\n",
      "Electrode 342 (x=11600, y=6700, z=3100) is in root\n",
      "Electrode 380 (x=11600, y=6700, z=2800) is in root\n"
     ]
    }
   ],
   "source": [
    "electrode_coordinates = (\n",
    "    eloc.ElectrodePosition.Electrode & \"electrode%38=0\" & key\n",
    ").fetch(\"electrode\", \"x\", \"y\", \"z\", as_dict=True)\n",
    "for e in electrode_coordinates:\n",
    "    x, y, z = [e[k] for k in (\"x\", \"y\", \"z\")]\n",
    "    acronym = (ccf.BrainRegionAnnotation.Voxel & f\"x={x}\" & f\"y={y}\" & f\"z={z}\").fetch1(\n",
    "        \"acronym\"\n",
    "    )\n",
    "    e[\"region\"] = (\n",
    "        ccf.BrainRegionAnnotation.BrainRegion & f'acronym=\"{acronym}\"'\n",
    "    ).fetch1(\"region_name\")\n",
    "    print(\"Electrode {electrode} (x={x}, y={y}, z={z}) is in {region}\".format(**e))"
   ]
  },
  {
   "cell_type": "code",
   "execution_count": 7,
   "metadata": {},
   "outputs": [
    {
     "data": {
      "text/html": [
       "\n",
       "    \n",
       "    <style type=\"text/css\">\n",
       "        .Relation{\n",
       "            border-collapse:collapse;\n",
       "        }\n",
       "        .Relation th{\n",
       "            background: #A0A0A0; color: #ffffff; padding:4px; border:#f0e0e0 1px solid;\n",
       "            font-weight: normal; font-family: monospace; font-size: 100%;\n",
       "        }\n",
       "        .Relation td{\n",
       "            padding:4px; border:#f0e0e0 1px solid; font-size:100%;\n",
       "        }\n",
       "        .Relation tr:nth-child(odd){\n",
       "            background: #ffffff;\n",
       "        }\n",
       "        .Relation tr:nth-child(even){\n",
       "            background: #f3f1ff;\n",
       "        }\n",
       "        /* Tooltip container */\n",
       "        .djtooltip {\n",
       "        }\n",
       "        /* Tooltip text */\n",
       "        .djtooltip .djtooltiptext {\n",
       "            visibility: hidden;\n",
       "            width: 120px;\n",
       "            background-color: black;\n",
       "            color: #fff;\n",
       "            text-align: center;\n",
       "            padding: 5px 0;\n",
       "            border-radius: 6px;\n",
       "            /* Position the tooltip text - see examples below! */\n",
       "            position: absolute;\n",
       "            z-index: 1;\n",
       "        }\n",
       "        #primary {\n",
       "            font-weight: bold;\n",
       "            color: black;\n",
       "        }\n",
       "        #nonprimary {\n",
       "            font-weight: normal;\n",
       "            color: white;\n",
       "        }\n",
       "\n",
       "        /* Show the tooltip text when you mouse over the tooltip container */\n",
       "        .djtooltip:hover .djtooltiptext {\n",
       "            visibility: visible;\n",
       "        }\n",
       "    </style>\n",
       "    \n",
       "    <b></b>\n",
       "        <div style=\"max-height:1000px;max-width:1500px;overflow:auto;\">\n",
       "        <table border=\"1\" class=\"Relation\">\n",
       "            <thead> <tr style=\"text-align: right;\"> <th> <div class=\"djtooltip\">\n",
       "                            <p id=\"primary\">subject</p>\n",
       "                            <span class=\"djtooltiptext\"></span>\n",
       "                        </div></th><th><div class=\"djtooltip\">\n",
       "                            <p id=\"primary\">session_datetime</p>\n",
       "                            <span class=\"djtooltiptext\"></span>\n",
       "                        </div></th><th><div class=\"djtooltip\">\n",
       "                            <p id=\"primary\">insertion_number</p>\n",
       "                            <span class=\"djtooltiptext\"></span>\n",
       "                        </div></th><th><div class=\"djtooltip\">\n",
       "                            <p id=\"primary\">ccf_id</p>\n",
       "                            <span class=\"djtooltiptext\">CCF ID, a.k.a atlas ID</span>\n",
       "                        </div></th><th><div class=\"djtooltip\">\n",
       "                            <p id=\"primary\">probe_type</p>\n",
       "                            <span class=\"djtooltiptext\">e.g. neuropixels_1.0</span>\n",
       "                        </div></th><th><div class=\"djtooltip\">\n",
       "                            <p id=\"primary\">electrode</p>\n",
       "                            <span class=\"djtooltiptext\">electrode index, starts at 0</span>\n",
       "                        </div></th><th><div class=\"djtooltip\">\n",
       "                            <p id=\"nonprimary\">x</p>\n",
       "                            <span class=\"djtooltiptext\">(um)  Anterior-to-Posterior (AP axis)</span>\n",
       "                        </div></th><th><div class=\"djtooltip\">\n",
       "                            <p id=\"nonprimary\">y</p>\n",
       "                            <span class=\"djtooltiptext\">(um)  Superior-to-Inferior (DV axis)</span>\n",
       "                        </div></th><th><div class=\"djtooltip\">\n",
       "                            <p id=\"nonprimary\">z</p>\n",
       "                            <span class=\"djtooltiptext\">(um)  Left-to-Right (ML axis)</span>\n",
       "                        </div> </th> </tr> </thead>\n",
       "            <tbody> <tr> <td>subject5</td>\n",
       "<td>2018-07-03 20:32:28</td>\n",
       "<td>2</td>\n",
       "<td>0</td>\n",
       "<td>neuropixels 1.0 - 3A</td>\n",
       "<td>206</td>\n",
       "<td>11000</td>\n",
       "<td>4600</td>\n",
       "<td>4600</td></tr><tr><td>subject5</td>\n",
       "<td>2018-07-03 20:32:28</td>\n",
       "<td>2</td>\n",
       "<td>0</td>\n",
       "<td>neuropixels 1.0 - 3A</td>\n",
       "<td>207</td>\n",
       "<td>11000</td>\n",
       "<td>4600</td>\n",
       "<td>4600</td></tr><tr><td>subject6</td>\n",
       "<td>2021-01-15 11:16:38</td>\n",
       "<td>0</td>\n",
       "<td>0</td>\n",
       "<td>neuropixels 1.0 - 3B</td>\n",
       "<td>206</td>\n",
       "<td>11000</td>\n",
       "<td>4600</td>\n",
       "<td>4600</td></tr><tr><td>subject6</td>\n",
       "<td>2021-01-15 11:16:38</td>\n",
       "<td>0</td>\n",
       "<td>0</td>\n",
       "<td>neuropixels 1.0 - 3B</td>\n",
       "<td>207</td>\n",
       "<td>11000</td>\n",
       "<td>4600</td>\n",
       "<td>4600</td></tr><tr><td>subject5</td>\n",
       "<td>2018-07-03 20:32:28</td>\n",
       "<td>2</td>\n",
       "<td>0</td>\n",
       "<td>neuropixels 1.0 - 3A</td>\n",
       "<td>196</td>\n",
       "<td>11000</td>\n",
       "<td>4600</td>\n",
       "<td>4700</td></tr><tr><td>subject5</td>\n",
       "<td>2018-07-03 20:32:28</td>\n",
       "<td>2</td>\n",
       "<td>0</td>\n",
       "<td>neuropixels 1.0 - 3A</td>\n",
       "<td>197</td>\n",
       "<td>11000</td>\n",
       "<td>4600</td>\n",
       "<td>4700</td></tr><tr><td>subject5</td>\n",
       "<td>2018-07-03 20:32:28</td>\n",
       "<td>2</td>\n",
       "<td>0</td>\n",
       "<td>neuropixels 1.0 - 3A</td>\n",
       "<td>198</td>\n",
       "<td>11000</td>\n",
       "<td>4600</td>\n",
       "<td>4700</td></tr><tr><td>subject5</td>\n",
       "<td>2018-07-03 20:32:28</td>\n",
       "<td>2</td>\n",
       "<td>0</td>\n",
       "<td>neuropixels 1.0 - 3A</td>\n",
       "<td>199</td>\n",
       "<td>11000</td>\n",
       "<td>4600</td>\n",
       "<td>4700</td></tr><tr><td>subject5</td>\n",
       "<td>2018-07-03 20:32:28</td>\n",
       "<td>2</td>\n",
       "<td>0</td>\n",
       "<td>neuropixels 1.0 - 3A</td>\n",
       "<td>200</td>\n",
       "<td>11000</td>\n",
       "<td>4600</td>\n",
       "<td>4700</td></tr><tr><td>subject5</td>\n",
       "<td>2018-07-03 20:32:28</td>\n",
       "<td>2</td>\n",
       "<td>0</td>\n",
       "<td>neuropixels 1.0 - 3A</td>\n",
       "<td>201</td>\n",
       "<td>11000</td>\n",
       "<td>4600</td>\n",
       "<td>4700</td> </tr> </tbody>\n",
       "        </table>\n",
       "        <p>...</p>\n",
       "        <p>Total: 1113</p></div>\n",
       "        "
      ],
      "text/plain": [
       "*subject     *session_datet *insertion_num *ccf_id    *probe_type    *electrode    x         y        z       \n",
       "+----------+ +------------+ +------------+ +--------+ +------------+ +-----------+ +-------+ +------+ +------+\n",
       "subject5     2018-07-03 20: 2              0          neuropixels 1. 206           11000     4600     4600    \n",
       "subject5     2018-07-03 20: 2              0          neuropixels 1. 207           11000     4600     4600    \n",
       "subject6     2021-01-15 11: 0              0          neuropixels 1. 206           11000     4600     4600    \n",
       "subject6     2021-01-15 11: 0              0          neuropixels 1. 207           11000     4600     4600    \n",
       "subject5     2018-07-03 20: 2              0          neuropixels 1. 196           11000     4600     4700    \n",
       "subject5     2018-07-03 20: 2              0          neuropixels 1. 197           11000     4600     4700    \n",
       "subject5     2018-07-03 20: 2              0          neuropixels 1. 198           11000     4600     4700    \n",
       "subject5     2018-07-03 20: 2              0          neuropixels 1. 199           11000     4600     4700    \n",
       "subject5     2018-07-03 20: 2              0          neuropixels 1. 200           11000     4600     4700    \n",
       "subject5     2018-07-03 20: 2              0          neuropixels 1. 201           11000     4600     4700    \n",
       "   ...\n",
       " (Total: 1113)"
      ]
     },
     "execution_count": 7,
     "metadata": {},
     "output_type": "execute_result"
    }
   ],
   "source": [
    "eloc.ElectrodePosition.Electrode()"
   ]
  }
 ],
 "metadata": {
  "jupytext": {
   "formats": "ipynb,py_scripts//py"
  },
  "kernelspec": {
   "display_name": "Python 3.9.12 ('workflow-array-ephys')",
   "language": "python",
   "name": "python3"
  },
  "language_info": {
   "codemirror_mode": {
    "name": "ipython",
    "version": 3
   },
   "file_extension": ".py",
   "mimetype": "text/x-python",
   "name": "python",
   "nbconvert_exporter": "python",
   "pygments_lexer": "ipython3",
   "version": "3.9.12"
  },
  "vscode": {
   "interpreter": {
    "hash": "00d54a4458531bfb6ca712534f09ad07c72fb6be78615d021a13d81a36e2a4f1"
   }
  }
 },
 "nbformat": 4,
 "nbformat_minor": 4
}
